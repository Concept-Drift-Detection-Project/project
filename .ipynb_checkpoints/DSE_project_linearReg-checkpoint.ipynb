{
  "nbformat": 4,
  "nbformat_minor": 0,
  "metadata": {
    "colab": {
      "provenance": []
    },
    "kernelspec": {
      "name": "python3",
      "display_name": "Python 3"
    },
    "language_info": {
      "name": "python"
    }
  },
  "cells": [
    {
      "cell_type": "code",
      "execution_count": 14,
      "metadata": {
        "id": "dT20PR1yvmsI"
      },
      "outputs": [],
      "source": [
        "from river import datasets\n",
        "from river import linear_model, tree\n",
        "from river import drift, metrics\n",
        "from river.datasets import synth\n",
        "import numpy as np\n",
        "import pandas as pd\n",
        "from sklearn.linear_model import LinearRegression\n",
        "from sklearn.ensemble import RandomForestRegressor\n",
        "from sklearn.preprocessing import StandardScaler\n",
        "from sklearn.pipeline import make_pipeline\n",
        "from sklearn.model_selection import train_test_split\n",
        "from sklearn.metrics import mean_squared_error"
      ]
    },
    {
      "cell_type": "markdown",
      "source": [
        "# Define the datasets\n",
        "'lea': Local Expanding Abrupt drift.\n",
        "The concept drift appears in two distinct regions of the instance space, while the remaining regions are left unaltered. There are three points of abrupt change in the training dataset. At every consecutive change the regions of drift are expanded.\n",
        "\n"
      ],
      "metadata": {
        "id": "dmts61fCxJTF"
      }
    },
    {
      "cell_type": "code",
      "source": [
        "dataset = synth.FriedmanDrift(\n",
        "    drift_type='lea',\n",
        "    position=(1, 2, 3),\n",
        "    seed=42\n",
        ")"
      ],
      "metadata": {
        "id": "awov_HTJweJj"
      },
      "execution_count": 15,
      "outputs": []
    },
    {
      "cell_type": "code",
      "source": [
        "# Initialize the data containers\n",
        "data = []\n",
        "for i, (x, y) in enumerate(dataset):\n",
        "    x_values = list(x.values())\n",
        "    data.append(x_values + [y])\n",
        "    if i >= 5000:  # Limiting to 400 samples for simplicity\n",
        "        break"
      ],
      "metadata": {
        "id": "UGneva2fBxAf"
      },
      "execution_count": 16,
      "outputs": []
    },
    {
      "cell_type": "code",
      "source": [
        "# Define the column names\n",
        "column_names = [f'x{i}' for i in range(1, len(x_values) + 1)] + ['y']\n",
        "\n",
        "# Create the DataFrame\n",
        "df = pd.DataFrame(data, columns=column_names)"
      ],
      "metadata": {
        "id": "rthGUXtuHFEO"
      },
      "execution_count": 17,
      "outputs": []
    },
    {
      "cell_type": "code",
      "source": [
        "# Split the DataFrame into train and test sets\n",
        "df_train = df.iloc[:2500]\n",
        "df_test = df.iloc[2500:]\n",
        "\n",
        "print(\"Train DataFrame:\")\n",
        "print(df_train.head())\n",
        "\n",
        "print(\"\\nTest DataFrame:\")\n",
        "print(df_test.head())"
      ],
      "metadata": {
        "colab": {
          "base_uri": "https://localhost:8080/"
        },
        "id": "CGJqwy6GMogl",
        "outputId": "45371628-9ca4-4700-9734-c5ca5500221d"
      },
      "execution_count": 18,
      "outputs": [
        {
          "output_type": "stream",
          "name": "stdout",
          "text": [
            "Train DataFrame:\n",
            "         x1        x2        x3        x4        x5        x6        x7  \\\n",
            "0  0.639427  0.025011  0.275029  0.223211  0.736471  0.676699  0.892180   \n",
            "1  0.026536  0.198838  0.649884  0.544941  0.220441  0.589266  0.809430   \n",
            "2  0.340251  0.155479  0.957213  0.336595  0.092746  0.096716  0.847494   \n",
            "3  0.378534  0.552041  0.829405  0.618520  0.861707  0.577352  0.704572   \n",
            "4  0.079792  0.232791  0.101001  0.277974  0.635684  0.364832  0.370181   \n",
            "\n",
            "         x8        x9       x10          y  \n",
            "0  0.086939  0.421922  0.029797   7.661207  \n",
            "1  0.006499  0.805819  0.698139   8.330237  \n",
            "2  0.603726  0.807128  0.729732   7.044929  \n",
            "3  0.045824  0.227898  0.289388  18.160370  \n",
            "4  0.209507  0.266978  0.936655  -2.655357  \n",
            "\n",
            "Test DataFrame:\n",
            "            x1        x2        x3        x4        x5        x6        x7  \\\n",
            "2500  0.364768  0.555611  0.730283  0.160368  0.207994  0.796483  0.543040   \n",
            "2501  0.578037  0.166128  0.252746  0.637494  0.139315  0.466338  0.961549   \n",
            "2502  0.887976  0.682952  0.521702  0.202723  0.171765  0.441377  0.716269   \n",
            "2503  0.471936  0.006583  0.617183  0.844954  0.550413  0.137727  0.469960   \n",
            "2504  0.160166  0.613072  0.429882  0.888023  0.629231  0.326247  0.157010   \n",
            "\n",
            "            x8        x9       x10          y  \n",
            "2500  0.361494  0.956241  0.032073  11.117398  \n",
            "2501  0.838560  0.171284  0.110631   2.586627  \n",
            "2502  0.981590  0.762497  0.290608  11.970263  \n",
            "2503  0.829604  0.069355  0.681878  12.092097  \n",
            "2504  0.731369  0.327238  0.332017  15.081418  \n"
          ]
        }
      ]
    },
    {
      "cell_type": "code",
      "source": [
        "# Split features and target\n",
        "X_train = df_train.drop(columns='y').values\n",
        "y_train = df_train['y'].values\n",
        "X_test = df_test.drop(columns='y').values\n",
        "y_test = df_test['y'].values\n",
        "\n",
        "# Fit a linear regression model\n",
        "model = LinearRegression()\n",
        "model.fit(X_train, y_train)\n",
        "\n",
        "# Make predictions\n",
        "y_pred = model.predict(X_test)"
      ],
      "metadata": {
        "id": "DS9WAGofOtcO"
      },
      "execution_count": 19,
      "outputs": []
    },
    {
      "cell_type": "code",
      "source": [
        "# Calculate the initial error\n",
        "initial_mse = mean_squared_error(y_test, y_pred)"
      ],
      "metadata": {
        "id": "FzvaOn6KMxwU"
      },
      "execution_count": 20,
      "outputs": []
    },
    {
      "cell_type": "code",
      "source": [
        "print(\"Initial Mean Squared Error:\", initial_mse)"
      ],
      "metadata": {
        "colab": {
          "base_uri": "https://localhost:8080/"
        },
        "id": "zxbXuFEyOnmJ",
        "outputId": "39a0a323-65c5-42d3-e56f-621bd32fe012"
      },
      "execution_count": 21,
      "outputs": [
        {
          "output_type": "stream",
          "name": "stdout",
          "text": [
            "Initial Mean Squared Error: 14.096163441654177\n"
          ]
        }
      ]
    },
    {
      "cell_type": "code",
      "source": [
        "# ADWIN drift detector - river\n",
        "# adwin = drift.ADWIN()"
      ],
      "metadata": {
        "id": "olDLoRq8O-oT"
      },
      "execution_count": 22,
      "outputs": []
    },
    {
      "cell_type": "code",
      "source": [
        "pip install scikit-multiflow"
      ],
      "metadata": {
        "colab": {
          "base_uri": "https://localhost:8080/"
        },
        "id": "jAHtrwBAHlRR",
        "outputId": "614b6198-56e3-415b-b0ec-88203fa7a33c"
      },
      "execution_count": 29,
      "outputs": [
        {
          "output_type": "stream",
          "name": "stdout",
          "text": [
            "Collecting scikit-multiflow\n",
            "  Downloading scikit-multiflow-0.5.3.tar.gz (450 kB)\n",
            "\u001b[?25l     \u001b[90m━━━━━━━━━━━━━━━━━━━━━━━━━━━━━━━━━━━━━━━━\u001b[0m \u001b[32m0.0/450.6 kB\u001b[0m \u001b[31m?\u001b[0m eta \u001b[36m-:--:--\u001b[0m\r\u001b[2K     \u001b[91m━━━━━━━━━\u001b[0m\u001b[90m╺\u001b[0m\u001b[90m━━━━━━━━━━━━━━━━━━━━━━━━━━━━━━\u001b[0m \u001b[32m102.4/450.6 kB\u001b[0m \u001b[31m2.8 MB/s\u001b[0m eta \u001b[36m0:00:01\u001b[0m\r\u001b[2K     \u001b[90m━━━━━━━━━━━━━━━━━━━━━━━━━━━━━━━━━━━━━━━━\u001b[0m \u001b[32m450.6/450.6 kB\u001b[0m \u001b[31m6.4 MB/s\u001b[0m eta \u001b[36m0:00:00\u001b[0m\n",
            "\u001b[?25h  Preparing metadata (setup.py) ... \u001b[?25l\u001b[?25hdone\n",
            "Requirement already satisfied: sortedcontainers>=1.5.7 in /usr/local/lib/python3.10/dist-packages (from scikit-multiflow) (2.4.0)\n",
            "Requirement already satisfied: numpy>=1.14.0 in /usr/local/lib/python3.10/dist-packages (from scikit-multiflow) (1.26.4)\n",
            "Requirement already satisfied: scipy>=1.0.0 in /usr/local/lib/python3.10/dist-packages (from scikit-multiflow) (1.13.1)\n",
            "Requirement already satisfied: matplotlib>=2.0.0 in /usr/local/lib/python3.10/dist-packages (from scikit-multiflow) (3.8.4)\n",
            "Requirement already satisfied: scikit-learn>=0.20 in /usr/local/lib/python3.10/dist-packages (from scikit-multiflow) (1.2.2)\n",
            "Requirement already satisfied: pandas>=0.25.3 in /usr/local/lib/python3.10/dist-packages (from scikit-multiflow) (2.2.2)\n",
            "Requirement already satisfied: contourpy>=1.0.1 in /usr/local/lib/python3.10/dist-packages (from matplotlib>=2.0.0->scikit-multiflow) (1.2.1)\n",
            "Requirement already satisfied: cycler>=0.10 in /usr/local/lib/python3.10/dist-packages (from matplotlib>=2.0.0->scikit-multiflow) (0.12.1)\n",
            "Requirement already satisfied: fonttools>=4.22.0 in /usr/local/lib/python3.10/dist-packages (from matplotlib>=2.0.0->scikit-multiflow) (4.53.1)\n",
            "Requirement already satisfied: kiwisolver>=1.3.1 in /usr/local/lib/python3.10/dist-packages (from matplotlib>=2.0.0->scikit-multiflow) (1.4.5)\n",
            "Requirement already satisfied: packaging>=20.0 in /usr/local/lib/python3.10/dist-packages (from matplotlib>=2.0.0->scikit-multiflow) (24.1)\n",
            "Requirement already satisfied: pillow>=8 in /usr/local/lib/python3.10/dist-packages (from matplotlib>=2.0.0->scikit-multiflow) (9.4.0)\n",
            "Requirement already satisfied: pyparsing>=2.3.1 in /usr/local/lib/python3.10/dist-packages (from matplotlib>=2.0.0->scikit-multiflow) (3.1.2)\n",
            "Requirement already satisfied: python-dateutil>=2.7 in /usr/local/lib/python3.10/dist-packages (from matplotlib>=2.0.0->scikit-multiflow) (2.8.2)\n",
            "Requirement already satisfied: pytz>=2020.1 in /usr/local/lib/python3.10/dist-packages (from pandas>=0.25.3->scikit-multiflow) (2023.4)\n",
            "Requirement already satisfied: tzdata>=2022.7 in /usr/local/lib/python3.10/dist-packages (from pandas>=0.25.3->scikit-multiflow) (2024.1)\n",
            "Requirement already satisfied: joblib>=1.1.1 in /usr/local/lib/python3.10/dist-packages (from scikit-learn>=0.20->scikit-multiflow) (1.4.2)\n",
            "Requirement already satisfied: threadpoolctl>=2.0.0 in /usr/local/lib/python3.10/dist-packages (from scikit-learn>=0.20->scikit-multiflow) (3.5.0)\n",
            "Requirement already satisfied: six>=1.5 in /usr/local/lib/python3.10/dist-packages (from python-dateutil>=2.7->matplotlib>=2.0.0->scikit-multiflow) (1.16.0)\n",
            "Building wheels for collected packages: scikit-multiflow\n",
            "  Building wheel for scikit-multiflow (setup.py) ... \u001b[?25l\u001b[?25hdone\n",
            "  Created wheel for scikit-multiflow: filename=scikit_multiflow-0.5.3-cp310-cp310-linux_x86_64.whl size=1254708 sha256=375575e302fa7da15c9fe7af9838d4789e82240842ae39bfe1c61f58140eb4ca\n",
            "  Stored in directory: /root/.cache/pip/wheels/6e/1b/56/45b17a6cf203d98000a45976cb0dd0c4c3f11960e6a505f231\n",
            "Successfully built scikit-multiflow\n",
            "Installing collected packages: scikit-multiflow\n",
            "Successfully installed scikit-multiflow-0.5.3\n"
          ]
        }
      ]
    },
    {
      "cell_type": "code",
      "source": [
        "from skmultiflow.drift_detection.adwin import ADWIN\n",
        "# ADWIN drift detector - skmultiflow\n",
        "adwinMUL = ADWIN()"
      ],
      "metadata": {
        "id": "Dxtbg4DvHWRI"
      },
      "execution_count": 31,
      "outputs": []
    },
    {
      "cell_type": "code",
      "source": [
        "from skmultiflow.drift_detection import DDM\n",
        "# DDM drift detector - skmultiflow\n",
        "ddmMUL = DDM()"
      ],
      "metadata": {
        "id": "SyGZbWaqLMh2"
      },
      "execution_count": 39,
      "outputs": []
    },
    {
      "cell_type": "code",
      "source": [
        "from skmultiflow.drift_detection.eddm import EDDM\n",
        "# EDDM drift detector - skmultiflow\n",
        "eddmMUL = EDDM()"
      ],
      "metadata": {
        "id": "HbRN657xL3dh"
      },
      "execution_count": 42,
      "outputs": []
    },
    {
      "cell_type": "code",
      "source": [
        "from skmultiflow.drift_detection import PageHinkley\n",
        "# PageHinkley drift detector - skmultiflow\n",
        "ph = PageHinkley()"
      ],
      "metadata": {
        "id": "BosQN8ovMRRV"
      },
      "execution_count": 45,
      "outputs": []
    },
    {
      "cell_type": "code",
      "source": [
        "# Function to check for drift using ADWIN\n",
        "def check_drift(y_true, y_pred):\n",
        "    drift_detected = False\n",
        "    for yt, yp in zip(y_true, y_pred):\n",
        "        error = (yt - yp) ** 2\n",
        "        ph.add_element(error)\n",
        "        if ph.detected_change():\n",
        "            drift_detected = True\n",
        "    return drift_detected\n"
      ],
      "metadata": {
        "id": "GLXYf9L-UahI"
      },
      "execution_count": 46,
      "outputs": []
    },
    {
      "cell_type": "code",
      "source": [
        "# Check for drift\n",
        "drift_detected = check_drift(y_test, y_pred)\n",
        "\n",
        "print(f\"Initial MSE: {initial_mse}\")\n",
        "print(f\"Drift Detected: {drift_detected}\")\n",
        "\n",
        "if drift_detected:\n",
        "    print(\"Concept drift detected.\")\n",
        "else:\n",
        "    print(\"No concept drift detected.\")"
      ],
      "metadata": {
        "colab": {
          "base_uri": "https://localhost:8080/"
        },
        "id": "L2IYYUbRUpHg",
        "outputId": "8a045955-cbce-4ef0-b8e6-d863dc36d1bd"
      },
      "execution_count": 47,
      "outputs": [
        {
          "output_type": "stream",
          "name": "stdout",
          "text": [
            "Initial MSE: 14.096163441654177\n",
            "Drift Detected: True\n",
            "Concept drift detected.\n"
          ]
        }
      ]
    },
    {
      "cell_type": "markdown",
      "source": [
        "# Linear Regression - River\n",
        "\n",
        "*   ADWIN: not detected\n",
        "*   Page Hinkley: detected\n",
        "\n",
        "# Linear Regression - skmultiflow\n",
        "\n",
        "*   ADWIN: not detected\n",
        "*   DDM: not detected\n",
        "*   EDDM: not detected\n",
        "*   Page Hinkley: detected\n"
      ],
      "metadata": {
        "id": "rByZ7wdfVXus"
      }
    },
    {
      "cell_type": "code",
      "source": [],
      "metadata": {
        "id": "EPpS6OR3UsUl"
      },
      "execution_count": 24,
      "outputs": []
    }
  ]
}