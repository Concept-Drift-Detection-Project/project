{
 "cells": [
  {
   "cell_type": "markdown",
   "id": "cea7bf71-f1b8-4634-b831-68aa1ebaa85d",
   "metadata": {},
   "source": [
    "# **Friedman synthetic dataset with concept drifts.**"
   ]
  },
  {
   "cell_type": "markdown",
   "id": "5044386a-367d-40ab-9e6c-528d88ac4fe2",
   "metadata": {},
   "source": [
    "### Import libraries"
   ]
  },
  {
   "cell_type": "code",
   "execution_count": 2,
   "id": "3f0898af-5423-4e54-84b8-6d440d574280",
   "metadata": {},
   "outputs": [],
   "source": [
    "import river\n",
    "from river import datasets\n",
    "from river import linear_model, tree\n",
    "from river import drift, metrics\n",
    "from river.datasets import synth\n",
    "import numpy as np\n",
    "import pandas as pd\n",
    "import matplotlib.pyplot as plt\n",
    "import seaborn as sns\n",
    "from sklearn.model_selection import train_test_split\n",
    "from sklearn.svm import SVR\n",
    "from sklearn.metrics import mean_squared_error\n",
    "from sklearn.metrics import r2_score\n",
    "from sklearn.ensemble import RandomForestRegressor\n",
    "from sklearn.preprocessing import StandardScaler\n",
    "from sklearn.pipeline import make_pipeline\n",
    "from frouros.detectors.concept_drift.streaming.window_based.adwin import ADWIN\n",
    "from frouros.detectors.concept_drift.streaming.statistical_process_control.ddm import DDM\n",
    "from frouros.detectors.concept_drift.streaming.statistical_process_control.eddm import EDDM\n",
    "from frouros.detectors.concept_drift.streaming.change_detection.page_hinkley import PageHinkley\n"
   ]
  },
  {
   "cell_type": "markdown",
   "id": "f6253d43-ffbc-41dd-b82b-dfe1f8bf3ebc",
   "metadata": {},
   "source": [
    "### Define the datasets\n"
   ]
  },
  {
   "cell_type": "markdown",
   "id": "ef82cb16-6280-4965-8a87-be94cc6bcb8b",
   "metadata": {},
   "source": [
    "##### **'lea': Local Expanding Abrupt drift.**\n",
    "The concept drift appears in two distinct regions of the instance space, while the remaining regions are left unaltered. There are three points of abrupt change in the training dataset. At every consecutive change the regions of drift are expanded."
   ]
  },
  {
   "cell_type": "code",
   "execution_count": 3,
   "id": "aeb519d4-a2c3-474d-80fd-f5c163670be4",
   "metadata": {},
   "outputs": [],
   "source": [
    "dataset = synth.FriedmanDrift(\n",
    "    drift_type='lea',\n",
    "    position=(1, 2, 3),\n",
    "    seed=42\n",
    ")\n",
    "     "
   ]
  },
  {
   "cell_type": "code",
   "execution_count": 4,
   "id": "ad85be6b-60e4-4c0b-b1c6-eaecdb2dec1f",
   "metadata": {},
   "outputs": [
    {
     "name": "stdout",
     "output_type": "stream",
     "text": [
      "[0.6394267984578837, 0.025010755222666936, 0.27502931836911926, 0.22321073814882275, 0.7364712141640124, 0.6766994874229113, 0.8921795677048454, 0.08693883262941615, 0.4219218196852704, 0.029797219438070344] 7.6612066799391085\n",
      "[0.026535969683863625, 0.1988376506866485, 0.6498844377795232, 0.5449414806032167, 0.2204406220406967, 0.5892656838759087, 0.8094304566778266, 0.006498759678061017, 0.8058192518328079, 0.6981393949882269] 8.330237325619887\n",
      "[0.3402505165179919, 0.15547949981178155, 0.9572130722067812, 0.33659454511262676, 0.09274584338014791, 0.09671637683346401, 0.8474943663474598, 0.6037260313668911, 0.8071282732743802, 0.7297317866938179] 7.044929465589236\n",
      "[0.3785343772083535, 0.552040631273227, 0.8294046642529949, 0.6185197523642461, 0.8617069003107772, 0.577352145256762, 0.7045718362149235, 0.045824383655662215, 0.22789827565154686, 0.28938796360210717] 18.160369621840488\n",
      "[0.0797919769236275, 0.23279088636103018, 0.10100142940972912, 0.2779736031100921, 0.6356844442644002, 0.36483217897008424, 0.37018096711688264, 0.2095070307714877, 0.26697782204911336, 0.936654587712494] -2.6553572512434873\n"
     ]
    }
   ],
   "source": [
    "# Print the first 5 samples from the dataset\n",
    "for x, y in dataset.take(5):\n",
    "    print(list(x.values()), y)"
   ]
  },
  {
   "cell_type": "code",
   "execution_count": 5,
   "id": "a16dc9f0-7e9b-4d2e-93b7-026a1b663831",
   "metadata": {},
   "outputs": [],
   "source": [
    "# Initialize the data containers\n",
    "data = []\n",
    "for i, (x, y) in enumerate(dataset):\n",
    "    x_values = list(x.values())\n",
    "    data.append(x_values + [y])\n",
    "    if i >= 5000:  # Limiting to 5000 samples for simplicity\n",
    "        break"
   ]
  },
  {
   "cell_type": "code",
   "execution_count": 6,
   "id": "198a2728-4c14-495b-a99b-8fd27b07a5c7",
   "metadata": {},
   "outputs": [],
   "source": [
    "# Define the column names\n",
    "column_names = [f'x{i}' for i in range(1, len(x_values) + 1)] + ['y']\n"
   ]
  },
  {
   "cell_type": "markdown",
   "id": "ea422f60-0381-429e-98b3-fccbcb7940e1",
   "metadata": {},
   "source": [
    "### Convert to DataFrame"
   ]
  },
  {
   "cell_type": "code",
   "execution_count": 7,
   "id": "79db0580-59c6-4921-80e1-0c7408d24190",
   "metadata": {},
   "outputs": [],
   "source": [
    "# Create the DataFrame\n",
    "df = pd.DataFrame(data, columns=column_names)"
   ]
  },
  {
   "cell_type": "code",
   "execution_count": 8,
   "id": "0de661ee-be47-4edc-aa06-ae167348424c",
   "metadata": {},
   "outputs": [
    {
     "name": "stdout",
     "output_type": "stream",
     "text": [
      "Train DataFrame:\n",
      "         x1        x2        x3        x4        x5        x6        x7  \\\n",
      "0  0.639427  0.025011  0.275029  0.223211  0.736471  0.676699  0.892180   \n",
      "1  0.026536  0.198838  0.649884  0.544941  0.220441  0.589266  0.809430   \n",
      "2  0.340251  0.155479  0.957213  0.336595  0.092746  0.096716  0.847494   \n",
      "3  0.378534  0.552041  0.829405  0.618520  0.861707  0.577352  0.704572   \n",
      "4  0.079792  0.232791  0.101001  0.277974  0.635684  0.364832  0.370181   \n",
      "\n",
      "         x8        x9       x10          y  \n",
      "0  0.086939  0.421922  0.029797   7.661207  \n",
      "1  0.006499  0.805819  0.698139   8.330237  \n",
      "2  0.603726  0.807128  0.729732   7.044929  \n",
      "3  0.045824  0.227898  0.289388  18.160370  \n",
      "4  0.209507  0.266978  0.936655  -2.655357  \n",
      "\n",
      "Test DataFrame:\n",
      "            x1        x2        x3        x4        x5        x6        x7  \\\n",
      "2500  0.364768  0.555611  0.730283  0.160368  0.207994  0.796483  0.543040   \n",
      "2501  0.578037  0.166128  0.252746  0.637494  0.139315  0.466338  0.961549   \n",
      "2502  0.887976  0.682952  0.521702  0.202723  0.171765  0.441377  0.716269   \n",
      "2503  0.471936  0.006583  0.617183  0.844954  0.550413  0.137727  0.469960   \n",
      "2504  0.160166  0.613072  0.429882  0.888023  0.629231  0.326247  0.157010   \n",
      "\n",
      "            x8        x9       x10          y  \n",
      "2500  0.361494  0.956241  0.032073  11.117398  \n",
      "2501  0.838560  0.171284  0.110631   2.586627  \n",
      "2502  0.981590  0.762497  0.290608  11.970263  \n",
      "2503  0.829604  0.069355  0.681878  12.092097  \n",
      "2504  0.731369  0.327238  0.332017  15.081418  \n"
     ]
    }
   ],
   "source": [
    "# Split the DataFrame into train and test sets\n",
    "df_train = df.iloc[:2500]\n",
    "df_test = df.iloc[2500:]\n",
    "\n",
    "print(\"Train DataFrame:\")\n",
    "print(df_train.head())\n",
    "\n",
    "print(\"\\nTest DataFrame:\")\n",
    "print(df_test.head())\n",
    "     "
   ]
  },
  {
   "cell_type": "markdown",
   "id": "ee6ce057-2ee4-4273-a9de-ec9798a2ec42",
   "metadata": {},
   "source": [
    "### Train-Test Split"
   ]
  },
  {
   "cell_type": "code",
   "execution_count": 11,
   "id": "d2ed81c3-1e35-4899-a68b-99b7ec83c88d",
   "metadata": {},
   "outputs": [],
   "source": [
    "# Split features and target\n",
    "X_train = df_train.drop(columns='y').values\n",
    "y_train = df_train['y'].values\n",
    "X_test = df_test.drop(columns='y').values\n",
    "y_test = df_test['y'].values\n",
    "\n"
   ]
  },
  {
   "cell_type": "markdown",
   "id": "2e9eda21-5a8d-4c01-a0f8-a13a9f8cf7b1",
   "metadata": {},
   "source": [
    "### Define machine learning algorithms"
   ]
  },
  {
   "cell_type": "code",
   "execution_count": 12,
   "id": "07b8c4e3-c309-4dec-9309-e1122a4498f8",
   "metadata": {},
   "outputs": [],
   "source": [
    "model = SVR()"
   ]
  },
  {
   "cell_type": "markdown",
   "id": "c1140423-48de-48b6-90f0-526a94880e11",
   "metadata": {},
   "source": [
    "### Train the Model"
   ]
  },
  {
   "cell_type": "code",
   "execution_count": 13,
   "id": "f5716fc3-9511-42e3-8639-5efee631f875",
   "metadata": {},
   "outputs": [
    {
     "data": {
      "text/html": [
       "<style>#sk-container-id-1 {\n",
       "  /* Definition of color scheme common for light and dark mode */\n",
       "  --sklearn-color-text: black;\n",
       "  --sklearn-color-line: gray;\n",
       "  /* Definition of color scheme for unfitted estimators */\n",
       "  --sklearn-color-unfitted-level-0: #fff5e6;\n",
       "  --sklearn-color-unfitted-level-1: #f6e4d2;\n",
       "  --sklearn-color-unfitted-level-2: #ffe0b3;\n",
       "  --sklearn-color-unfitted-level-3: chocolate;\n",
       "  /* Definition of color scheme for fitted estimators */\n",
       "  --sklearn-color-fitted-level-0: #f0f8ff;\n",
       "  --sklearn-color-fitted-level-1: #d4ebff;\n",
       "  --sklearn-color-fitted-level-2: #b3dbfd;\n",
       "  --sklearn-color-fitted-level-3: cornflowerblue;\n",
       "\n",
       "  /* Specific color for light theme */\n",
       "  --sklearn-color-text-on-default-background: var(--sg-text-color, var(--theme-code-foreground, var(--jp-content-font-color1, black)));\n",
       "  --sklearn-color-background: var(--sg-background-color, var(--theme-background, var(--jp-layout-color0, white)));\n",
       "  --sklearn-color-border-box: var(--sg-text-color, var(--theme-code-foreground, var(--jp-content-font-color1, black)));\n",
       "  --sklearn-color-icon: #696969;\n",
       "\n",
       "  @media (prefers-color-scheme: dark) {\n",
       "    /* Redefinition of color scheme for dark theme */\n",
       "    --sklearn-color-text-on-default-background: var(--sg-text-color, var(--theme-code-foreground, var(--jp-content-font-color1, white)));\n",
       "    --sklearn-color-background: var(--sg-background-color, var(--theme-background, var(--jp-layout-color0, #111)));\n",
       "    --sklearn-color-border-box: var(--sg-text-color, var(--theme-code-foreground, var(--jp-content-font-color1, white)));\n",
       "    --sklearn-color-icon: #878787;\n",
       "  }\n",
       "}\n",
       "\n",
       "#sk-container-id-1 {\n",
       "  color: var(--sklearn-color-text);\n",
       "}\n",
       "\n",
       "#sk-container-id-1 pre {\n",
       "  padding: 0;\n",
       "}\n",
       "\n",
       "#sk-container-id-1 input.sk-hidden--visually {\n",
       "  border: 0;\n",
       "  clip: rect(1px 1px 1px 1px);\n",
       "  clip: rect(1px, 1px, 1px, 1px);\n",
       "  height: 1px;\n",
       "  margin: -1px;\n",
       "  overflow: hidden;\n",
       "  padding: 0;\n",
       "  position: absolute;\n",
       "  width: 1px;\n",
       "}\n",
       "\n",
       "#sk-container-id-1 div.sk-dashed-wrapped {\n",
       "  border: 1px dashed var(--sklearn-color-line);\n",
       "  margin: 0 0.4em 0.5em 0.4em;\n",
       "  box-sizing: border-box;\n",
       "  padding-bottom: 0.4em;\n",
       "  background-color: var(--sklearn-color-background);\n",
       "}\n",
       "\n",
       "#sk-container-id-1 div.sk-container {\n",
       "  /* jupyter's `normalize.less` sets `[hidden] { display: none; }`\n",
       "     but bootstrap.min.css set `[hidden] { display: none !important; }`\n",
       "     so we also need the `!important` here to be able to override the\n",
       "     default hidden behavior on the sphinx rendered scikit-learn.org.\n",
       "     See: https://github.com/scikit-learn/scikit-learn/issues/21755 */\n",
       "  display: inline-block !important;\n",
       "  position: relative;\n",
       "}\n",
       "\n",
       "#sk-container-id-1 div.sk-text-repr-fallback {\n",
       "  display: none;\n",
       "}\n",
       "\n",
       "div.sk-parallel-item,\n",
       "div.sk-serial,\n",
       "div.sk-item {\n",
       "  /* draw centered vertical line to link estimators */\n",
       "  background-image: linear-gradient(var(--sklearn-color-text-on-default-background), var(--sklearn-color-text-on-default-background));\n",
       "  background-size: 2px 100%;\n",
       "  background-repeat: no-repeat;\n",
       "  background-position: center center;\n",
       "}\n",
       "\n",
       "/* Parallel-specific style estimator block */\n",
       "\n",
       "#sk-container-id-1 div.sk-parallel-item::after {\n",
       "  content: \"\";\n",
       "  width: 100%;\n",
       "  border-bottom: 2px solid var(--sklearn-color-text-on-default-background);\n",
       "  flex-grow: 1;\n",
       "}\n",
       "\n",
       "#sk-container-id-1 div.sk-parallel {\n",
       "  display: flex;\n",
       "  align-items: stretch;\n",
       "  justify-content: center;\n",
       "  background-color: var(--sklearn-color-background);\n",
       "  position: relative;\n",
       "}\n",
       "\n",
       "#sk-container-id-1 div.sk-parallel-item {\n",
       "  display: flex;\n",
       "  flex-direction: column;\n",
       "}\n",
       "\n",
       "#sk-container-id-1 div.sk-parallel-item:first-child::after {\n",
       "  align-self: flex-end;\n",
       "  width: 50%;\n",
       "}\n",
       "\n",
       "#sk-container-id-1 div.sk-parallel-item:last-child::after {\n",
       "  align-self: flex-start;\n",
       "  width: 50%;\n",
       "}\n",
       "\n",
       "#sk-container-id-1 div.sk-parallel-item:only-child::after {\n",
       "  width: 0;\n",
       "}\n",
       "\n",
       "/* Serial-specific style estimator block */\n",
       "\n",
       "#sk-container-id-1 div.sk-serial {\n",
       "  display: flex;\n",
       "  flex-direction: column;\n",
       "  align-items: center;\n",
       "  background-color: var(--sklearn-color-background);\n",
       "  padding-right: 1em;\n",
       "  padding-left: 1em;\n",
       "}\n",
       "\n",
       "\n",
       "/* Toggleable style: style used for estimator/Pipeline/ColumnTransformer box that is\n",
       "clickable and can be expanded/collapsed.\n",
       "- Pipeline and ColumnTransformer use this feature and define the default style\n",
       "- Estimators will overwrite some part of the style using the `sk-estimator` class\n",
       "*/\n",
       "\n",
       "/* Pipeline and ColumnTransformer style (default) */\n",
       "\n",
       "#sk-container-id-1 div.sk-toggleable {\n",
       "  /* Default theme specific background. It is overwritten whether we have a\n",
       "  specific estimator or a Pipeline/ColumnTransformer */\n",
       "  background-color: var(--sklearn-color-background);\n",
       "}\n",
       "\n",
       "/* Toggleable label */\n",
       "#sk-container-id-1 label.sk-toggleable__label {\n",
       "  cursor: pointer;\n",
       "  display: block;\n",
       "  width: 100%;\n",
       "  margin-bottom: 0;\n",
       "  padding: 0.5em;\n",
       "  box-sizing: border-box;\n",
       "  text-align: center;\n",
       "}\n",
       "\n",
       "#sk-container-id-1 label.sk-toggleable__label-arrow:before {\n",
       "  /* Arrow on the left of the label */\n",
       "  content: \"▸\";\n",
       "  float: left;\n",
       "  margin-right: 0.25em;\n",
       "  color: var(--sklearn-color-icon);\n",
       "}\n",
       "\n",
       "#sk-container-id-1 label.sk-toggleable__label-arrow:hover:before {\n",
       "  color: var(--sklearn-color-text);\n",
       "}\n",
       "\n",
       "/* Toggleable content - dropdown */\n",
       "\n",
       "#sk-container-id-1 div.sk-toggleable__content {\n",
       "  max-height: 0;\n",
       "  max-width: 0;\n",
       "  overflow: hidden;\n",
       "  text-align: left;\n",
       "  /* unfitted */\n",
       "  background-color: var(--sklearn-color-unfitted-level-0);\n",
       "}\n",
       "\n",
       "#sk-container-id-1 div.sk-toggleable__content.fitted {\n",
       "  /* fitted */\n",
       "  background-color: var(--sklearn-color-fitted-level-0);\n",
       "}\n",
       "\n",
       "#sk-container-id-1 div.sk-toggleable__content pre {\n",
       "  margin: 0.2em;\n",
       "  border-radius: 0.25em;\n",
       "  color: var(--sklearn-color-text);\n",
       "  /* unfitted */\n",
       "  background-color: var(--sklearn-color-unfitted-level-0);\n",
       "}\n",
       "\n",
       "#sk-container-id-1 div.sk-toggleable__content.fitted pre {\n",
       "  /* unfitted */\n",
       "  background-color: var(--sklearn-color-fitted-level-0);\n",
       "}\n",
       "\n",
       "#sk-container-id-1 input.sk-toggleable__control:checked~div.sk-toggleable__content {\n",
       "  /* Expand drop-down */\n",
       "  max-height: 200px;\n",
       "  max-width: 100%;\n",
       "  overflow: auto;\n",
       "}\n",
       "\n",
       "#sk-container-id-1 input.sk-toggleable__control:checked~label.sk-toggleable__label-arrow:before {\n",
       "  content: \"▾\";\n",
       "}\n",
       "\n",
       "/* Pipeline/ColumnTransformer-specific style */\n",
       "\n",
       "#sk-container-id-1 div.sk-label input.sk-toggleable__control:checked~label.sk-toggleable__label {\n",
       "  color: var(--sklearn-color-text);\n",
       "  background-color: var(--sklearn-color-unfitted-level-2);\n",
       "}\n",
       "\n",
       "#sk-container-id-1 div.sk-label.fitted input.sk-toggleable__control:checked~label.sk-toggleable__label {\n",
       "  background-color: var(--sklearn-color-fitted-level-2);\n",
       "}\n",
       "\n",
       "/* Estimator-specific style */\n",
       "\n",
       "/* Colorize estimator box */\n",
       "#sk-container-id-1 div.sk-estimator input.sk-toggleable__control:checked~label.sk-toggleable__label {\n",
       "  /* unfitted */\n",
       "  background-color: var(--sklearn-color-unfitted-level-2);\n",
       "}\n",
       "\n",
       "#sk-container-id-1 div.sk-estimator.fitted input.sk-toggleable__control:checked~label.sk-toggleable__label {\n",
       "  /* fitted */\n",
       "  background-color: var(--sklearn-color-fitted-level-2);\n",
       "}\n",
       "\n",
       "#sk-container-id-1 div.sk-label label.sk-toggleable__label,\n",
       "#sk-container-id-1 div.sk-label label {\n",
       "  /* The background is the default theme color */\n",
       "  color: var(--sklearn-color-text-on-default-background);\n",
       "}\n",
       "\n",
       "/* On hover, darken the color of the background */\n",
       "#sk-container-id-1 div.sk-label:hover label.sk-toggleable__label {\n",
       "  color: var(--sklearn-color-text);\n",
       "  background-color: var(--sklearn-color-unfitted-level-2);\n",
       "}\n",
       "\n",
       "/* Label box, darken color on hover, fitted */\n",
       "#sk-container-id-1 div.sk-label.fitted:hover label.sk-toggleable__label.fitted {\n",
       "  color: var(--sklearn-color-text);\n",
       "  background-color: var(--sklearn-color-fitted-level-2);\n",
       "}\n",
       "\n",
       "/* Estimator label */\n",
       "\n",
       "#sk-container-id-1 div.sk-label label {\n",
       "  font-family: monospace;\n",
       "  font-weight: bold;\n",
       "  display: inline-block;\n",
       "  line-height: 1.2em;\n",
       "}\n",
       "\n",
       "#sk-container-id-1 div.sk-label-container {\n",
       "  text-align: center;\n",
       "}\n",
       "\n",
       "/* Estimator-specific */\n",
       "#sk-container-id-1 div.sk-estimator {\n",
       "  font-family: monospace;\n",
       "  border: 1px dotted var(--sklearn-color-border-box);\n",
       "  border-radius: 0.25em;\n",
       "  box-sizing: border-box;\n",
       "  margin-bottom: 0.5em;\n",
       "  /* unfitted */\n",
       "  background-color: var(--sklearn-color-unfitted-level-0);\n",
       "}\n",
       "\n",
       "#sk-container-id-1 div.sk-estimator.fitted {\n",
       "  /* fitted */\n",
       "  background-color: var(--sklearn-color-fitted-level-0);\n",
       "}\n",
       "\n",
       "/* on hover */\n",
       "#sk-container-id-1 div.sk-estimator:hover {\n",
       "  /* unfitted */\n",
       "  background-color: var(--sklearn-color-unfitted-level-2);\n",
       "}\n",
       "\n",
       "#sk-container-id-1 div.sk-estimator.fitted:hover {\n",
       "  /* fitted */\n",
       "  background-color: var(--sklearn-color-fitted-level-2);\n",
       "}\n",
       "\n",
       "/* Specification for estimator info (e.g. \"i\" and \"?\") */\n",
       "\n",
       "/* Common style for \"i\" and \"?\" */\n",
       "\n",
       ".sk-estimator-doc-link,\n",
       "a:link.sk-estimator-doc-link,\n",
       "a:visited.sk-estimator-doc-link {\n",
       "  float: right;\n",
       "  font-size: smaller;\n",
       "  line-height: 1em;\n",
       "  font-family: monospace;\n",
       "  background-color: var(--sklearn-color-background);\n",
       "  border-radius: 1em;\n",
       "  height: 1em;\n",
       "  width: 1em;\n",
       "  text-decoration: none !important;\n",
       "  margin-left: 1ex;\n",
       "  /* unfitted */\n",
       "  border: var(--sklearn-color-unfitted-level-1) 1pt solid;\n",
       "  color: var(--sklearn-color-unfitted-level-1);\n",
       "}\n",
       "\n",
       ".sk-estimator-doc-link.fitted,\n",
       "a:link.sk-estimator-doc-link.fitted,\n",
       "a:visited.sk-estimator-doc-link.fitted {\n",
       "  /* fitted */\n",
       "  border: var(--sklearn-color-fitted-level-1) 1pt solid;\n",
       "  color: var(--sklearn-color-fitted-level-1);\n",
       "}\n",
       "\n",
       "/* On hover */\n",
       "div.sk-estimator:hover .sk-estimator-doc-link:hover,\n",
       ".sk-estimator-doc-link:hover,\n",
       "div.sk-label-container:hover .sk-estimator-doc-link:hover,\n",
       ".sk-estimator-doc-link:hover {\n",
       "  /* unfitted */\n",
       "  background-color: var(--sklearn-color-unfitted-level-3);\n",
       "  color: var(--sklearn-color-background);\n",
       "  text-decoration: none;\n",
       "}\n",
       "\n",
       "div.sk-estimator.fitted:hover .sk-estimator-doc-link.fitted:hover,\n",
       ".sk-estimator-doc-link.fitted:hover,\n",
       "div.sk-label-container:hover .sk-estimator-doc-link.fitted:hover,\n",
       ".sk-estimator-doc-link.fitted:hover {\n",
       "  /* fitted */\n",
       "  background-color: var(--sklearn-color-fitted-level-3);\n",
       "  color: var(--sklearn-color-background);\n",
       "  text-decoration: none;\n",
       "}\n",
       "\n",
       "/* Span, style for the box shown on hovering the info icon */\n",
       ".sk-estimator-doc-link span {\n",
       "  display: none;\n",
       "  z-index: 9999;\n",
       "  position: relative;\n",
       "  font-weight: normal;\n",
       "  right: .2ex;\n",
       "  padding: .5ex;\n",
       "  margin: .5ex;\n",
       "  width: min-content;\n",
       "  min-width: 20ex;\n",
       "  max-width: 50ex;\n",
       "  color: var(--sklearn-color-text);\n",
       "  box-shadow: 2pt 2pt 4pt #999;\n",
       "  /* unfitted */\n",
       "  background: var(--sklearn-color-unfitted-level-0);\n",
       "  border: .5pt solid var(--sklearn-color-unfitted-level-3);\n",
       "}\n",
       "\n",
       ".sk-estimator-doc-link.fitted span {\n",
       "  /* fitted */\n",
       "  background: var(--sklearn-color-fitted-level-0);\n",
       "  border: var(--sklearn-color-fitted-level-3);\n",
       "}\n",
       "\n",
       ".sk-estimator-doc-link:hover span {\n",
       "  display: block;\n",
       "}\n",
       "\n",
       "/* \"?\"-specific style due to the `<a>` HTML tag */\n",
       "\n",
       "#sk-container-id-1 a.estimator_doc_link {\n",
       "  float: right;\n",
       "  font-size: 1rem;\n",
       "  line-height: 1em;\n",
       "  font-family: monospace;\n",
       "  background-color: var(--sklearn-color-background);\n",
       "  border-radius: 1rem;\n",
       "  height: 1rem;\n",
       "  width: 1rem;\n",
       "  text-decoration: none;\n",
       "  /* unfitted */\n",
       "  color: var(--sklearn-color-unfitted-level-1);\n",
       "  border: var(--sklearn-color-unfitted-level-1) 1pt solid;\n",
       "}\n",
       "\n",
       "#sk-container-id-1 a.estimator_doc_link.fitted {\n",
       "  /* fitted */\n",
       "  border: var(--sklearn-color-fitted-level-1) 1pt solid;\n",
       "  color: var(--sklearn-color-fitted-level-1);\n",
       "}\n",
       "\n",
       "/* On hover */\n",
       "#sk-container-id-1 a.estimator_doc_link:hover {\n",
       "  /* unfitted */\n",
       "  background-color: var(--sklearn-color-unfitted-level-3);\n",
       "  color: var(--sklearn-color-background);\n",
       "  text-decoration: none;\n",
       "}\n",
       "\n",
       "#sk-container-id-1 a.estimator_doc_link.fitted:hover {\n",
       "  /* fitted */\n",
       "  background-color: var(--sklearn-color-fitted-level-3);\n",
       "}\n",
       "</style><div id=\"sk-container-id-1\" class=\"sk-top-container\"><div class=\"sk-text-repr-fallback\"><pre>SVR()</pre><b>In a Jupyter environment, please rerun this cell to show the HTML representation or trust the notebook. <br />On GitHub, the HTML representation is unable to render, please try loading this page with nbviewer.org.</b></div><div class=\"sk-container\" hidden><div class=\"sk-item\"><div class=\"sk-estimator fitted sk-toggleable\"><input class=\"sk-toggleable__control sk-hidden--visually\" id=\"sk-estimator-id-1\" type=\"checkbox\" checked><label for=\"sk-estimator-id-1\" class=\"sk-toggleable__label fitted sk-toggleable__label-arrow fitted\">&nbsp;&nbsp;SVR<a class=\"sk-estimator-doc-link fitted\" rel=\"noreferrer\" target=\"_blank\" href=\"https://scikit-learn.org/1.4/modules/generated/sklearn.svm.SVR.html\">?<span>Documentation for SVR</span></a><span class=\"sk-estimator-doc-link fitted\">i<span>Fitted</span></span></label><div class=\"sk-toggleable__content fitted\"><pre>SVR()</pre></div> </div></div></div></div>"
      ],
      "text/plain": [
       "SVR()"
      ]
     },
     "execution_count": 13,
     "metadata": {},
     "output_type": "execute_result"
    }
   ],
   "source": [
    "model.fit(X_train, y_train)"
   ]
  },
  {
   "cell_type": "markdown",
   "id": "5b8a19a9-f7e2-4e8d-a0cb-e4c48eeb96ca",
   "metadata": {},
   "source": [
    "### Evaluate the Model"
   ]
  },
  {
   "cell_type": "code",
   "execution_count": 14,
   "id": "5d98b85e-e173-48b8-b59b-b255596f8e2e",
   "metadata": {},
   "outputs": [],
   "source": [
    "y_pred = model.predict(X_test)\n",
    "# Calculate the initial error\n",
    "initial_mse = mean_squared_error(y_test, y_pred)"
   ]
  },
  {
   "cell_type": "code",
   "execution_count": 15,
   "id": "d8723ad4-ebce-47cc-8e9b-ffea9c6400f8",
   "metadata": {},
   "outputs": [
    {
     "name": "stdout",
     "output_type": "stream",
     "text": [
      "Initial Mean Squared Error: 10.684625230622444\n"
     ]
    }
   ],
   "source": [
    "print(\"Initial Mean Squared Error:\", initial_mse)"
   ]
  },
  {
   "cell_type": "markdown",
   "id": "60c6ed76-98c5-4303-aa51-25408e6f8415",
   "metadata": {},
   "source": [
    "**MSE indicates the average squared difference between the model's predictions and the actual target values.\n",
    "R² Score of indicates how much of the variation of a dependent variable is explained by an independent variable in a regression model.**"
   ]
  },
  {
   "cell_type": "markdown",
   "id": "c488c8ff-8125-45b0-9ebe-d1fe3c4c7979",
   "metadata": {},
   "source": [
    "### Define drift detection algorithms"
   ]
  },
  {
   "cell_type": "code",
   "execution_count": 16,
   "id": "cc019d79-b36e-4267-b4ff-684376ccbd70",
   "metadata": {},
   "outputs": [],
   "source": [
    "adwin = ADWIN()"
   ]
  },
  {
   "cell_type": "code",
   "execution_count": 17,
   "id": "59869cdf-6571-4cae-b5ff-04fcab678069",
   "metadata": {},
   "outputs": [],
   "source": [
    "ddm = DDM()"
   ]
  },
  {
   "cell_type": "code",
   "execution_count": 18,
   "id": "85378eda-797d-4bc1-9824-bff94d366c63",
   "metadata": {},
   "outputs": [],
   "source": [
    "eddm = EDDM()"
   ]
  },
  {
   "cell_type": "code",
   "execution_count": 19,
   "id": "41cd6138-b34c-446c-9b3b-6ded41d366d7",
   "metadata": {},
   "outputs": [],
   "source": [
    "ph = PageHinkley()"
   ]
  },
  {
   "cell_type": "markdown",
   "id": "ccd123d5-90f3-4c63-858a-64de2c548d22",
   "metadata": {},
   "source": [
    "### Function to check for drift "
   ]
  },
  {
   "cell_type": "code",
   "execution_count": 22,
   "id": "63091e75-ad37-4c02-9b0c-670150160bf5",
   "metadata": {},
   "outputs": [],
   "source": [
    "def check_drift(y_true, y_pred, dd):\n",
    "    drift_detected = False\n",
    "    for yt, yp in zip(y_true, y_pred):\n",
    "        error = (yt - yp) ** 2\n",
    "        dd.update(error)\n",
    "        if dd.drift:\n",
    "            drift_detected = True\n",
    "            break\n",
    "    return drift_detected"
   ]
  },
  {
   "cell_type": "markdown",
   "id": "52942c4b-0fb2-4c61-a49c-5103964574c5",
   "metadata": {},
   "source": [
    "### Check drift for ADWIN"
   ]
  },
  {
   "cell_type": "code",
   "execution_count": 23,
   "id": "e45e86dc-4c31-4777-89ba-821497272387",
   "metadata": {},
   "outputs": [
    {
     "name": "stdout",
     "output_type": "stream",
     "text": [
      "Initial MSE: 10.684625230622444\n",
      "Drift Detected: False\n",
      "No concept drift detected.\n"
     ]
    }
   ],
   "source": [
    "# Check for drift\n",
    "drift_detected = check_drift(y_test, y_pred, adwin)\n",
    "\n",
    "print(f\"Initial MSE: {initial_mse}\")\n",
    "print(f\"Drift Detected: {drift_detected}\")\n",
    "\n",
    "if drift_detected:\n",
    "    print(\"Concept drift detected.\")\n",
    "else:\n",
    "    print(\"No concept drift detected.\")"
   ]
  },
  {
   "cell_type": "markdown",
   "id": "a1efa249-4522-44c9-a998-dea101bb33dc",
   "metadata": {},
   "source": [
    "### Check drift for DDM"
   ]
  },
  {
   "cell_type": "code",
   "execution_count": 24,
   "id": "d6bbe413-be10-4880-8eb4-0c424895c905",
   "metadata": {},
   "outputs": [
    {
     "name": "stdout",
     "output_type": "stream",
     "text": [
      "Initial MSE: 10.684625230622444\n",
      "Drift Detected: False\n",
      "No concept drift detected.\n"
     ]
    },
    {
     "name": "stderr",
     "output_type": "stream",
     "text": [
      "C:\\Users\\MadaraMendis\\AppData\\Local\\Programs\\Python\\Python312\\Lib\\site-packages\\frouros\\detectors\\concept_drift\\streaming\\statistical_process_control\\base.py:253: RuntimeWarning: invalid value encountered in sqrt\n",
      "  std = np.sqrt(\n"
     ]
    }
   ],
   "source": [
    "# Check for drift\n",
    "drift_detected = check_drift(y_test, y_pred, ddm)\n",
    "\n",
    "print(f\"Initial MSE: {initial_mse}\")\n",
    "print(f\"Drift Detected: {drift_detected}\")\n",
    "\n",
    "if drift_detected:\n",
    "    print(\"Concept drift detected.\")\n",
    "else:\n",
    "    print(\"No concept drift detected.\")"
   ]
  },
  {
   "cell_type": "markdown",
   "id": "39aa4ae5-d276-466f-8a7d-c9f48fd42dad",
   "metadata": {},
   "source": [
    "### Check drift for EDDM"
   ]
  },
  {
   "cell_type": "code",
   "execution_count": 26,
   "id": "66477670-a1bb-4838-92e2-2fd8145379e6",
   "metadata": {},
   "outputs": [
    {
     "name": "stdout",
     "output_type": "stream",
     "text": [
      "Initial MSE: 10.684625230622444\n",
      "Drift Detected: False\n",
      "No concept drift detected.\n"
     ]
    }
   ],
   "source": [
    "# Check for drift\n",
    "drift_detected = check_drift(y_test, y_pred, eddm)\n",
    "\n",
    "print(f\"Initial MSE: {initial_mse}\")\n",
    "print(f\"Drift Detected: {drift_detected}\")\n",
    "\n",
    "if drift_detected:\n",
    "    print(\"Concept drift detected.\")\n",
    "else:\n",
    "    print(\"No concept drift detected.\")"
   ]
  },
  {
   "cell_type": "markdown",
   "id": "338ef2d1-3bc9-4699-8765-2f79388bd86e",
   "metadata": {},
   "source": [
    "### Check drift for PageHinkley"
   ]
  },
  {
   "cell_type": "code",
   "execution_count": 27,
   "id": "9a375721-3f06-4768-9930-01b18ffadb9a",
   "metadata": {},
   "outputs": [
    {
     "name": "stdout",
     "output_type": "stream",
     "text": [
      "Initial MSE: 10.684625230622444\n",
      "Drift Detected: True\n",
      "Concept drift detected.\n"
     ]
    }
   ],
   "source": [
    "# Check for drift\n",
    "drift_detected = check_drift(y_test, y_pred, ph)\n",
    "\n",
    "print(f\"Initial MSE: {initial_mse}\")\n",
    "print(f\"Drift Detected: {drift_detected}\")\n",
    "\n",
    "if drift_detected:\n",
    "    print(\"Concept drift detected.\")\n",
    "else:\n",
    "    print(\"No concept drift detected.\")"
   ]
  },
  {
   "cell_type": "code",
   "execution_count": null,
   "id": "521b2f07-9935-4134-8916-c476d741a7db",
   "metadata": {},
   "outputs": [],
   "source": []
  }
 ],
 "metadata": {
  "kernelspec": {
   "display_name": "Python 3 (ipykernel)",
   "language": "python",
   "name": "python3"
  },
  "language_info": {
   "codemirror_mode": {
    "name": "ipython",
    "version": 3
   },
   "file_extension": ".py",
   "mimetype": "text/x-python",
   "name": "python",
   "nbconvert_exporter": "python",
   "pygments_lexer": "ipython3",
   "version": "3.12.2"
  }
 },
 "nbformat": 4,
 "nbformat_minor": 5
}
