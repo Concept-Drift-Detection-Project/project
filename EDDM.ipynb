{
 "cells": [
  {
   "cell_type": "markdown",
   "id": "b742eb79-e4b0-4ad0-9433-832d0f98d3a9",
   "metadata": {},
   "source": [
    "# **FriedmanDrift synthetic dataset with concept drifts.**"
   ]
  },
  {
   "cell_type": "markdown",
   "id": "17ecd373-450b-4478-9305-b5ca2ef9d704",
   "metadata": {},
   "source": [
    "### Import libraries"
   ]
  },
  {
   "cell_type": "code",
   "execution_count": 1,
   "id": "43a8a0a8-b022-492f-9ddc-3f6dc8807411",
   "metadata": {},
   "outputs": [],
   "source": [
    "import river\n",
    "from river import datasets\n",
    "from river import linear_model, tree\n",
    "from river import drift, metrics\n",
    "from river.datasets import synth\n",
    "import numpy as np\n",
    "import pandas as pd\n",
    "import matplotlib.pyplot as plt\n",
    "import seaborn as sns\n",
    "from sklearn.model_selection import train_test_split\n",
    "from sklearn.svm import SVR\n",
    "from sklearn.metrics import mean_squared_error\n",
    "from sklearn.metrics import mean_absolute_error\n",
    "from sklearn.metrics import r2_score\n",
    "from sklearn.linear_model import LinearRegression\n",
    "from sklearn.tree import DecisionTreeRegressor\n",
    "from sklearn.ensemble import RandomForestRegressor\n",
    "from sklearn.svm import SVR\n",
    "from sklearn.preprocessing import StandardScaler\n",
    "from frouros.metrics import PrequentialError\n",
    "from sklearn.pipeline import Pipeline\n",
    "from frouros.detectors.concept_drift.streaming.window_based.adwin import ADWIN\n",
    "from frouros.detectors.concept_drift import DDM, DDMConfig\n",
    "from frouros.detectors.concept_drift.streaming.statistical_process_control.ddm import DDM\n",
    "from frouros.detectors.concept_drift.streaming.statistical_process_control.eddm import EDDM\n",
    "from frouros.detectors.concept_drift.streaming.change_detection.page_hinkley import PageHinkley\n"
   ]
  },
  {
   "cell_type": "markdown",
   "id": "c0904738-684a-4aed-b3b6-b145efc3a91b",
   "metadata": {},
   "source": [
    "### Generate datasets"
   ]
  },
  {
   "cell_type": "code",
   "execution_count": 3,
   "id": "2ca1ead2-d66e-4eaf-b204-157b628cd562",
   "metadata": {},
   "outputs": [],
   "source": [
    "dataset = synth.FriedmanDrift(\n",
    "    drift_type='gra',\n",
    "    position=(5000, 10000),\n",
    "    seed=42\n",
    ")"
   ]
  },
  {
   "cell_type": "code",
   "execution_count": 5,
   "id": "d57259b6-2c7c-46e0-a0ed-d13574824178",
   "metadata": {},
   "outputs": [
    {
     "name": "stdout",
     "output_type": "stream",
     "text": [
      "[0.6394267984578837, 0.025010755222666936, 0.27502931836911926, 0.22321073814882275, 0.7364712141640124, 0.6766994874229113, 0.8921795677048454, 0.08693883262941615, 0.4219218196852704, 0.029797219438070344] 7.6612066799391085\n",
      "[0.026535969683863625, 0.1988376506866485, 0.6498844377795232, 0.5449414806032167, 0.2204406220406967, 0.5892656838759087, 0.8094304566778266, 0.006498759678061017, 0.8058192518328079, 0.6981393949882269] 8.330237325619887\n",
      "[0.3402505165179919, 0.15547949981178155, 0.9572130722067812, 0.33659454511262676, 0.09274584338014791, 0.09671637683346401, 0.8474943663474598, 0.6037260313668911, 0.8071282732743802, 0.7297317866938179] 7.044929465589236\n",
      "[0.3785343772083535, 0.552040631273227, 0.8294046642529949, 0.6185197523642461, 0.8617069003107772, 0.577352145256762, 0.7045718362149235, 0.045824383655662215, 0.22789827565154686, 0.28938796360210717] 18.160369621840488\n",
      "[0.0797919769236275, 0.23279088636103018, 0.10100142940972912, 0.2779736031100921, 0.6356844442644002, 0.36483217897008424, 0.37018096711688264, 0.2095070307714877, 0.26697782204911336, 0.936654587712494] 8.906077732719032\n"
     ]
    }
   ],
   "source": [
    "for x, y in dataset.take(5):\n",
    "    print(list(x.values()), y)"
   ]
  },
  {
   "cell_type": "code",
   "execution_count": 7,
   "id": "ed81d493-f074-4014-b6c8-e87d0e6365df",
   "metadata": {},
   "outputs": [],
   "source": [
    "# Initialize the data containers\n",
    "data = []\n",
    "for i, (x, y) in enumerate(dataset):\n",
    "    x_values = list(x.values())\n",
    "    data.append(x_values + [y])\n",
    "    if i >=10000:  # Limiting to 5000 samples for simplicity\n",
    "        break"
   ]
  },
  {
   "cell_type": "code",
   "execution_count": 9,
   "id": "98f28c05-5bfb-43d1-9d08-c9580d68a233",
   "metadata": {},
   "outputs": [],
   "source": [
    "# Define the column names\n",
    "column_names = [f'x{i}' for i in range(1, len(x_values) + 1)] + ['y']"
   ]
  },
  {
   "cell_type": "code",
   "execution_count": 11,
   "id": "4db25eed-3ce0-4a3a-be57-daed41aa456f",
   "metadata": {},
   "outputs": [],
   "source": [
    "# Create the DataFrame\n",
    "df = pd.DataFrame(data, columns=column_names)"
   ]
  },
  {
   "cell_type": "markdown",
   "id": "730bd26c-6137-4306-9e03-ef452e14a4ee",
   "metadata": {},
   "source": [
    "### Split the DataFrame into train and test sets"
   ]
  },
  {
   "cell_type": "code",
   "execution_count": 100,
   "id": "cfddaa5d-c951-4466-8117-f4c03d798572",
   "metadata": {},
   "outputs": [],
   "source": [
    "train = df.iloc[:3000]\n",
    "stream = df.iloc[3000:]"
   ]
  },
  {
   "cell_type": "code",
   "execution_count": 102,
   "id": "785aff0f-ccca-4b26-87e9-bf554ab32e22",
   "metadata": {},
   "outputs": [],
   "source": [
    "X =train.drop(columns='y').values\n",
    "y = train['y'].values"
   ]
  },
  {
   "cell_type": "markdown",
   "id": "f35d12c7-e92f-43e8-928b-c24a4f2ffe82",
   "metadata": {},
   "source": [
    "## Define and fit model"
   ]
  },
  {
   "cell_type": "markdown",
   "id": "d93f233c-965f-4f90-ab67-8f69691880a9",
   "metadata": {},
   "source": [
    "#### Linear Regressor"
   ]
  },
  {
   "cell_type": "code",
   "execution_count": 20,
   "id": "9c480420-4914-41ca-a723-453e8640bafb",
   "metadata": {},
   "outputs": [],
   "source": [
    "pipeline = Pipeline(\n",
    "    [\n",
    "        (\"scaler\", StandardScaler()),\n",
    "        (\"model\", LinearRegression()),\n",
    "    ]\n",
    ")\n"
   ]
  },
  {
   "cell_type": "markdown",
   "id": "cf32504f-b57e-4fc1-b62a-85ada21c453d",
   "metadata": {},
   "source": [
    "#### Decision Tree Regressor"
   ]
  },
  {
   "cell_type": "code",
   "execution_count": 72,
   "id": "774fbde5-6a46-42e9-95f4-49f0b27fb481",
   "metadata": {},
   "outputs": [],
   "source": [
    "pipeline = Pipeline(\n",
    "    [\n",
    "        (\"scaler\", StandardScaler()),  # Standardize features\n",
    "        (\"model\", DecisionTreeRegressor()),  # Use Decision Tree Regression model\n",
    "    ]\n",
    ")"
   ]
  },
  {
   "cell_type": "markdown",
   "id": "e93d957f-0964-4775-8feb-c2e869eda10a",
   "metadata": {},
   "source": [
    "#### RandomForest Regressor"
   ]
  },
  {
   "cell_type": "code",
   "execution_count": 104,
   "id": "a4a478dc-ebc7-4fbb-8300-3eba9aa6b5a7",
   "metadata": {},
   "outputs": [],
   "source": [
    "pipeline = Pipeline(\n",
    "    [\n",
    "        (\"scaler\", StandardScaler()),  # Standardize features\n",
    "        (\"model\", RandomForestRegressor()),  # Use Random Forest Regression model\n",
    "    ]\n",
    ")\n"
   ]
  },
  {
   "cell_type": "code",
   "execution_count": 106,
   "id": "e10e9878-1194-4948-bd38-9cc40bce76a1",
   "metadata": {},
   "outputs": [
    {
     "data": {
      "text/html": [
       "<style>#sk-container-id-3 {\n",
       "  /* Definition of color scheme common for light and dark mode */\n",
       "  --sklearn-color-text: black;\n",
       "  --sklearn-color-line: gray;\n",
       "  /* Definition of color scheme for unfitted estimators */\n",
       "  --sklearn-color-unfitted-level-0: #fff5e6;\n",
       "  --sklearn-color-unfitted-level-1: #f6e4d2;\n",
       "  --sklearn-color-unfitted-level-2: #ffe0b3;\n",
       "  --sklearn-color-unfitted-level-3: chocolate;\n",
       "  /* Definition of color scheme for fitted estimators */\n",
       "  --sklearn-color-fitted-level-0: #f0f8ff;\n",
       "  --sklearn-color-fitted-level-1: #d4ebff;\n",
       "  --sklearn-color-fitted-level-2: #b3dbfd;\n",
       "  --sklearn-color-fitted-level-3: cornflowerblue;\n",
       "\n",
       "  /* Specific color for light theme */\n",
       "  --sklearn-color-text-on-default-background: var(--sg-text-color, var(--theme-code-foreground, var(--jp-content-font-color1, black)));\n",
       "  --sklearn-color-background: var(--sg-background-color, var(--theme-background, var(--jp-layout-color0, white)));\n",
       "  --sklearn-color-border-box: var(--sg-text-color, var(--theme-code-foreground, var(--jp-content-font-color1, black)));\n",
       "  --sklearn-color-icon: #696969;\n",
       "\n",
       "  @media (prefers-color-scheme: dark) {\n",
       "    /* Redefinition of color scheme for dark theme */\n",
       "    --sklearn-color-text-on-default-background: var(--sg-text-color, var(--theme-code-foreground, var(--jp-content-font-color1, white)));\n",
       "    --sklearn-color-background: var(--sg-background-color, var(--theme-background, var(--jp-layout-color0, #111)));\n",
       "    --sklearn-color-border-box: var(--sg-text-color, var(--theme-code-foreground, var(--jp-content-font-color1, white)));\n",
       "    --sklearn-color-icon: #878787;\n",
       "  }\n",
       "}\n",
       "\n",
       "#sk-container-id-3 {\n",
       "  color: var(--sklearn-color-text);\n",
       "}\n",
       "\n",
       "#sk-container-id-3 pre {\n",
       "  padding: 0;\n",
       "}\n",
       "\n",
       "#sk-container-id-3 input.sk-hidden--visually {\n",
       "  border: 0;\n",
       "  clip: rect(1px 1px 1px 1px);\n",
       "  clip: rect(1px, 1px, 1px, 1px);\n",
       "  height: 1px;\n",
       "  margin: -1px;\n",
       "  overflow: hidden;\n",
       "  padding: 0;\n",
       "  position: absolute;\n",
       "  width: 1px;\n",
       "}\n",
       "\n",
       "#sk-container-id-3 div.sk-dashed-wrapped {\n",
       "  border: 1px dashed var(--sklearn-color-line);\n",
       "  margin: 0 0.4em 0.5em 0.4em;\n",
       "  box-sizing: border-box;\n",
       "  padding-bottom: 0.4em;\n",
       "  background-color: var(--sklearn-color-background);\n",
       "}\n",
       "\n",
       "#sk-container-id-3 div.sk-container {\n",
       "  /* jupyter's `normalize.less` sets `[hidden] { display: none; }`\n",
       "     but bootstrap.min.css set `[hidden] { display: none !important; }`\n",
       "     so we also need the `!important` here to be able to override the\n",
       "     default hidden behavior on the sphinx rendered scikit-learn.org.\n",
       "     See: https://github.com/scikit-learn/scikit-learn/issues/21755 */\n",
       "  display: inline-block !important;\n",
       "  position: relative;\n",
       "}\n",
       "\n",
       "#sk-container-id-3 div.sk-text-repr-fallback {\n",
       "  display: none;\n",
       "}\n",
       "\n",
       "div.sk-parallel-item,\n",
       "div.sk-serial,\n",
       "div.sk-item {\n",
       "  /* draw centered vertical line to link estimators */\n",
       "  background-image: linear-gradient(var(--sklearn-color-text-on-default-background), var(--sklearn-color-text-on-default-background));\n",
       "  background-size: 2px 100%;\n",
       "  background-repeat: no-repeat;\n",
       "  background-position: center center;\n",
       "}\n",
       "\n",
       "/* Parallel-specific style estimator block */\n",
       "\n",
       "#sk-container-id-3 div.sk-parallel-item::after {\n",
       "  content: \"\";\n",
       "  width: 100%;\n",
       "  border-bottom: 2px solid var(--sklearn-color-text-on-default-background);\n",
       "  flex-grow: 1;\n",
       "}\n",
       "\n",
       "#sk-container-id-3 div.sk-parallel {\n",
       "  display: flex;\n",
       "  align-items: stretch;\n",
       "  justify-content: center;\n",
       "  background-color: var(--sklearn-color-background);\n",
       "  position: relative;\n",
       "}\n",
       "\n",
       "#sk-container-id-3 div.sk-parallel-item {\n",
       "  display: flex;\n",
       "  flex-direction: column;\n",
       "}\n",
       "\n",
       "#sk-container-id-3 div.sk-parallel-item:first-child::after {\n",
       "  align-self: flex-end;\n",
       "  width: 50%;\n",
       "}\n",
       "\n",
       "#sk-container-id-3 div.sk-parallel-item:last-child::after {\n",
       "  align-self: flex-start;\n",
       "  width: 50%;\n",
       "}\n",
       "\n",
       "#sk-container-id-3 div.sk-parallel-item:only-child::after {\n",
       "  width: 0;\n",
       "}\n",
       "\n",
       "/* Serial-specific style estimator block */\n",
       "\n",
       "#sk-container-id-3 div.sk-serial {\n",
       "  display: flex;\n",
       "  flex-direction: column;\n",
       "  align-items: center;\n",
       "  background-color: var(--sklearn-color-background);\n",
       "  padding-right: 1em;\n",
       "  padding-left: 1em;\n",
       "}\n",
       "\n",
       "\n",
       "/* Toggleable style: style used for estimator/Pipeline/ColumnTransformer box that is\n",
       "clickable and can be expanded/collapsed.\n",
       "- Pipeline and ColumnTransformer use this feature and define the default style\n",
       "- Estimators will overwrite some part of the style using the `sk-estimator` class\n",
       "*/\n",
       "\n",
       "/* Pipeline and ColumnTransformer style (default) */\n",
       "\n",
       "#sk-container-id-3 div.sk-toggleable {\n",
       "  /* Default theme specific background. It is overwritten whether we have a\n",
       "  specific estimator or a Pipeline/ColumnTransformer */\n",
       "  background-color: var(--sklearn-color-background);\n",
       "}\n",
       "\n",
       "/* Toggleable label */\n",
       "#sk-container-id-3 label.sk-toggleable__label {\n",
       "  cursor: pointer;\n",
       "  display: block;\n",
       "  width: 100%;\n",
       "  margin-bottom: 0;\n",
       "  padding: 0.5em;\n",
       "  box-sizing: border-box;\n",
       "  text-align: center;\n",
       "}\n",
       "\n",
       "#sk-container-id-3 label.sk-toggleable__label-arrow:before {\n",
       "  /* Arrow on the left of the label */\n",
       "  content: \"▸\";\n",
       "  float: left;\n",
       "  margin-right: 0.25em;\n",
       "  color: var(--sklearn-color-icon);\n",
       "}\n",
       "\n",
       "#sk-container-id-3 label.sk-toggleable__label-arrow:hover:before {\n",
       "  color: var(--sklearn-color-text);\n",
       "}\n",
       "\n",
       "/* Toggleable content - dropdown */\n",
       "\n",
       "#sk-container-id-3 div.sk-toggleable__content {\n",
       "  max-height: 0;\n",
       "  max-width: 0;\n",
       "  overflow: hidden;\n",
       "  text-align: left;\n",
       "  /* unfitted */\n",
       "  background-color: var(--sklearn-color-unfitted-level-0);\n",
       "}\n",
       "\n",
       "#sk-container-id-3 div.sk-toggleable__content.fitted {\n",
       "  /* fitted */\n",
       "  background-color: var(--sklearn-color-fitted-level-0);\n",
       "}\n",
       "\n",
       "#sk-container-id-3 div.sk-toggleable__content pre {\n",
       "  margin: 0.2em;\n",
       "  border-radius: 0.25em;\n",
       "  color: var(--sklearn-color-text);\n",
       "  /* unfitted */\n",
       "  background-color: var(--sklearn-color-unfitted-level-0);\n",
       "}\n",
       "\n",
       "#sk-container-id-3 div.sk-toggleable__content.fitted pre {\n",
       "  /* unfitted */\n",
       "  background-color: var(--sklearn-color-fitted-level-0);\n",
       "}\n",
       "\n",
       "#sk-container-id-3 input.sk-toggleable__control:checked~div.sk-toggleable__content {\n",
       "  /* Expand drop-down */\n",
       "  max-height: 200px;\n",
       "  max-width: 100%;\n",
       "  overflow: auto;\n",
       "}\n",
       "\n",
       "#sk-container-id-3 input.sk-toggleable__control:checked~label.sk-toggleable__label-arrow:before {\n",
       "  content: \"▾\";\n",
       "}\n",
       "\n",
       "/* Pipeline/ColumnTransformer-specific style */\n",
       "\n",
       "#sk-container-id-3 div.sk-label input.sk-toggleable__control:checked~label.sk-toggleable__label {\n",
       "  color: var(--sklearn-color-text);\n",
       "  background-color: var(--sklearn-color-unfitted-level-2);\n",
       "}\n",
       "\n",
       "#sk-container-id-3 div.sk-label.fitted input.sk-toggleable__control:checked~label.sk-toggleable__label {\n",
       "  background-color: var(--sklearn-color-fitted-level-2);\n",
       "}\n",
       "\n",
       "/* Estimator-specific style */\n",
       "\n",
       "/* Colorize estimator box */\n",
       "#sk-container-id-3 div.sk-estimator input.sk-toggleable__control:checked~label.sk-toggleable__label {\n",
       "  /* unfitted */\n",
       "  background-color: var(--sklearn-color-unfitted-level-2);\n",
       "}\n",
       "\n",
       "#sk-container-id-3 div.sk-estimator.fitted input.sk-toggleable__control:checked~label.sk-toggleable__label {\n",
       "  /* fitted */\n",
       "  background-color: var(--sklearn-color-fitted-level-2);\n",
       "}\n",
       "\n",
       "#sk-container-id-3 div.sk-label label.sk-toggleable__label,\n",
       "#sk-container-id-3 div.sk-label label {\n",
       "  /* The background is the default theme color */\n",
       "  color: var(--sklearn-color-text-on-default-background);\n",
       "}\n",
       "\n",
       "/* On hover, darken the color of the background */\n",
       "#sk-container-id-3 div.sk-label:hover label.sk-toggleable__label {\n",
       "  color: var(--sklearn-color-text);\n",
       "  background-color: var(--sklearn-color-unfitted-level-2);\n",
       "}\n",
       "\n",
       "/* Label box, darken color on hover, fitted */\n",
       "#sk-container-id-3 div.sk-label.fitted:hover label.sk-toggleable__label.fitted {\n",
       "  color: var(--sklearn-color-text);\n",
       "  background-color: var(--sklearn-color-fitted-level-2);\n",
       "}\n",
       "\n",
       "/* Estimator label */\n",
       "\n",
       "#sk-container-id-3 div.sk-label label {\n",
       "  font-family: monospace;\n",
       "  font-weight: bold;\n",
       "  display: inline-block;\n",
       "  line-height: 1.2em;\n",
       "}\n",
       "\n",
       "#sk-container-id-3 div.sk-label-container {\n",
       "  text-align: center;\n",
       "}\n",
       "\n",
       "/* Estimator-specific */\n",
       "#sk-container-id-3 div.sk-estimator {\n",
       "  font-family: monospace;\n",
       "  border: 1px dotted var(--sklearn-color-border-box);\n",
       "  border-radius: 0.25em;\n",
       "  box-sizing: border-box;\n",
       "  margin-bottom: 0.5em;\n",
       "  /* unfitted */\n",
       "  background-color: var(--sklearn-color-unfitted-level-0);\n",
       "}\n",
       "\n",
       "#sk-container-id-3 div.sk-estimator.fitted {\n",
       "  /* fitted */\n",
       "  background-color: var(--sklearn-color-fitted-level-0);\n",
       "}\n",
       "\n",
       "/* on hover */\n",
       "#sk-container-id-3 div.sk-estimator:hover {\n",
       "  /* unfitted */\n",
       "  background-color: var(--sklearn-color-unfitted-level-2);\n",
       "}\n",
       "\n",
       "#sk-container-id-3 div.sk-estimator.fitted:hover {\n",
       "  /* fitted */\n",
       "  background-color: var(--sklearn-color-fitted-level-2);\n",
       "}\n",
       "\n",
       "/* Specification for estimator info (e.g. \"i\" and \"?\") */\n",
       "\n",
       "/* Common style for \"i\" and \"?\" */\n",
       "\n",
       ".sk-estimator-doc-link,\n",
       "a:link.sk-estimator-doc-link,\n",
       "a:visited.sk-estimator-doc-link {\n",
       "  float: right;\n",
       "  font-size: smaller;\n",
       "  line-height: 1em;\n",
       "  font-family: monospace;\n",
       "  background-color: var(--sklearn-color-background);\n",
       "  border-radius: 1em;\n",
       "  height: 1em;\n",
       "  width: 1em;\n",
       "  text-decoration: none !important;\n",
       "  margin-left: 1ex;\n",
       "  /* unfitted */\n",
       "  border: var(--sklearn-color-unfitted-level-1) 1pt solid;\n",
       "  color: var(--sklearn-color-unfitted-level-1);\n",
       "}\n",
       "\n",
       ".sk-estimator-doc-link.fitted,\n",
       "a:link.sk-estimator-doc-link.fitted,\n",
       "a:visited.sk-estimator-doc-link.fitted {\n",
       "  /* fitted */\n",
       "  border: var(--sklearn-color-fitted-level-1) 1pt solid;\n",
       "  color: var(--sklearn-color-fitted-level-1);\n",
       "}\n",
       "\n",
       "/* On hover */\n",
       "div.sk-estimator:hover .sk-estimator-doc-link:hover,\n",
       ".sk-estimator-doc-link:hover,\n",
       "div.sk-label-container:hover .sk-estimator-doc-link:hover,\n",
       ".sk-estimator-doc-link:hover {\n",
       "  /* unfitted */\n",
       "  background-color: var(--sklearn-color-unfitted-level-3);\n",
       "  color: var(--sklearn-color-background);\n",
       "  text-decoration: none;\n",
       "}\n",
       "\n",
       "div.sk-estimator.fitted:hover .sk-estimator-doc-link.fitted:hover,\n",
       ".sk-estimator-doc-link.fitted:hover,\n",
       "div.sk-label-container:hover .sk-estimator-doc-link.fitted:hover,\n",
       ".sk-estimator-doc-link.fitted:hover {\n",
       "  /* fitted */\n",
       "  background-color: var(--sklearn-color-fitted-level-3);\n",
       "  color: var(--sklearn-color-background);\n",
       "  text-decoration: none;\n",
       "}\n",
       "\n",
       "/* Span, style for the box shown on hovering the info icon */\n",
       ".sk-estimator-doc-link span {\n",
       "  display: none;\n",
       "  z-index: 9999;\n",
       "  position: relative;\n",
       "  font-weight: normal;\n",
       "  right: .2ex;\n",
       "  padding: .5ex;\n",
       "  margin: .5ex;\n",
       "  width: min-content;\n",
       "  min-width: 20ex;\n",
       "  max-width: 50ex;\n",
       "  color: var(--sklearn-color-text);\n",
       "  box-shadow: 2pt 2pt 4pt #999;\n",
       "  /* unfitted */\n",
       "  background: var(--sklearn-color-unfitted-level-0);\n",
       "  border: .5pt solid var(--sklearn-color-unfitted-level-3);\n",
       "}\n",
       "\n",
       ".sk-estimator-doc-link.fitted span {\n",
       "  /* fitted */\n",
       "  background: var(--sklearn-color-fitted-level-0);\n",
       "  border: var(--sklearn-color-fitted-level-3);\n",
       "}\n",
       "\n",
       ".sk-estimator-doc-link:hover span {\n",
       "  display: block;\n",
       "}\n",
       "\n",
       "/* \"?\"-specific style due to the `<a>` HTML tag */\n",
       "\n",
       "#sk-container-id-3 a.estimator_doc_link {\n",
       "  float: right;\n",
       "  font-size: 1rem;\n",
       "  line-height: 1em;\n",
       "  font-family: monospace;\n",
       "  background-color: var(--sklearn-color-background);\n",
       "  border-radius: 1rem;\n",
       "  height: 1rem;\n",
       "  width: 1rem;\n",
       "  text-decoration: none;\n",
       "  /* unfitted */\n",
       "  color: var(--sklearn-color-unfitted-level-1);\n",
       "  border: var(--sklearn-color-unfitted-level-1) 1pt solid;\n",
       "}\n",
       "\n",
       "#sk-container-id-3 a.estimator_doc_link.fitted {\n",
       "  /* fitted */\n",
       "  border: var(--sklearn-color-fitted-level-1) 1pt solid;\n",
       "  color: var(--sklearn-color-fitted-level-1);\n",
       "}\n",
       "\n",
       "/* On hover */\n",
       "#sk-container-id-3 a.estimator_doc_link:hover {\n",
       "  /* unfitted */\n",
       "  background-color: var(--sklearn-color-unfitted-level-3);\n",
       "  color: var(--sklearn-color-background);\n",
       "  text-decoration: none;\n",
       "}\n",
       "\n",
       "#sk-container-id-3 a.estimator_doc_link.fitted:hover {\n",
       "  /* fitted */\n",
       "  background-color: var(--sklearn-color-fitted-level-3);\n",
       "}\n",
       "</style><div id=\"sk-container-id-3\" class=\"sk-top-container\"><div class=\"sk-text-repr-fallback\"><pre>Pipeline(steps=[(&#x27;scaler&#x27;, StandardScaler()),\n",
       "                (&#x27;model&#x27;, RandomForestRegressor())])</pre><b>In a Jupyter environment, please rerun this cell to show the HTML representation or trust the notebook. <br />On GitHub, the HTML representation is unable to render, please try loading this page with nbviewer.org.</b></div><div class=\"sk-container\" hidden><div class=\"sk-item sk-dashed-wrapped\"><div class=\"sk-label-container\"><div class=\"sk-label fitted sk-toggleable\"><input class=\"sk-toggleable__control sk-hidden--visually\" id=\"sk-estimator-id-7\" type=\"checkbox\" ><label for=\"sk-estimator-id-7\" class=\"sk-toggleable__label fitted sk-toggleable__label-arrow fitted\">&nbsp;&nbsp;Pipeline<a class=\"sk-estimator-doc-link fitted\" rel=\"noreferrer\" target=\"_blank\" href=\"https://scikit-learn.org/1.4/modules/generated/sklearn.pipeline.Pipeline.html\">?<span>Documentation for Pipeline</span></a><span class=\"sk-estimator-doc-link fitted\">i<span>Fitted</span></span></label><div class=\"sk-toggleable__content fitted\"><pre>Pipeline(steps=[(&#x27;scaler&#x27;, StandardScaler()),\n",
       "                (&#x27;model&#x27;, RandomForestRegressor())])</pre></div> </div></div><div class=\"sk-serial\"><div class=\"sk-item\"><div class=\"sk-estimator fitted sk-toggleable\"><input class=\"sk-toggleable__control sk-hidden--visually\" id=\"sk-estimator-id-8\" type=\"checkbox\" ><label for=\"sk-estimator-id-8\" class=\"sk-toggleable__label fitted sk-toggleable__label-arrow fitted\">&nbsp;StandardScaler<a class=\"sk-estimator-doc-link fitted\" rel=\"noreferrer\" target=\"_blank\" href=\"https://scikit-learn.org/1.4/modules/generated/sklearn.preprocessing.StandardScaler.html\">?<span>Documentation for StandardScaler</span></a></label><div class=\"sk-toggleable__content fitted\"><pre>StandardScaler()</pre></div> </div></div><div class=\"sk-item\"><div class=\"sk-estimator fitted sk-toggleable\"><input class=\"sk-toggleable__control sk-hidden--visually\" id=\"sk-estimator-id-9\" type=\"checkbox\" ><label for=\"sk-estimator-id-9\" class=\"sk-toggleable__label fitted sk-toggleable__label-arrow fitted\">&nbsp;RandomForestRegressor<a class=\"sk-estimator-doc-link fitted\" rel=\"noreferrer\" target=\"_blank\" href=\"https://scikit-learn.org/1.4/modules/generated/sklearn.ensemble.RandomForestRegressor.html\">?<span>Documentation for RandomForestRegressor</span></a></label><div class=\"sk-toggleable__content fitted\"><pre>RandomForestRegressor()</pre></div> </div></div></div></div></div></div>"
      ],
      "text/plain": [
       "Pipeline(steps=[('scaler', StandardScaler()),\n",
       "                ('model', RandomForestRegressor())])"
      ]
     },
     "execution_count": 106,
     "metadata": {},
     "output_type": "execute_result"
    }
   ],
   "source": [
    "pipeline.fit(X=X, y=y)"
   ]
  },
  {
   "cell_type": "code",
   "execution_count": 108,
   "id": "b036d762-6758-4590-a036-1e45b35024d0",
   "metadata": {},
   "outputs": [],
   "source": [
    "odp=[5000]#track the actual point where drift occures.on 5000 index onwards all are in another concept"
   ]
  },
  {
   "cell_type": "code",
   "execution_count": 110,
   "id": "848638e6-fe49-41d2-814c-edf66fa0aa7a",
   "metadata": {},
   "outputs": [],
   "source": [
    "X =stream.drop(columns='y').values\n",
    "y = stream['y'].values"
   ]
  },
  {
   "cell_type": "code",
   "execution_count": 112,
   "id": "123a1311-e356-46f5-a851-0d08fda3eb6b",
   "metadata": {},
   "outputs": [
    {
     "name": "stdout",
     "output_type": "stream",
     "text": [
      "[ 9.23990461 19.31298451 13.86472323 13.1309806  11.04805505]\n"
     ]
    }
   ],
   "source": [
    "print(y[:5])"
   ]
  },
  {
   "cell_type": "code",
   "execution_count": 114,
   "id": "16bc423d-e61a-4701-b185-7b4895b1eba6",
   "metadata": {},
   "outputs": [],
   "source": [
    "# Instantiate EDDM with custom configuration\n",
    "detector = EDDM()"
   ]
  },
  {
   "cell_type": "code",
   "execution_count": 116,
   "id": "21cb83e4-60d1-4e68-8fe6-847fe01613fc",
   "metadata": {},
   "outputs": [],
   "source": [
    "detected_drifts = []\n",
    "false_alarms = 0\n",
    "detection_delays = []"
   ]
  },
  {
   "cell_type": "code",
   "execution_count": 118,
   "id": "6a61fa0d-742d-410c-aa5e-9869900278cf",
   "metadata": {},
   "outputs": [],
   "source": [
    "y_preds = []"
   ]
  },
  {
   "cell_type": "code",
   "execution_count": 120,
   "id": "67c8a8b0-dd92-4552-a1db-5cfd5ad66cbd",
   "metadata": {},
   "outputs": [],
   "source": [
    "errors = []"
   ]
  },
  {
   "cell_type": "markdown",
   "id": "727d4141-d9ae-462b-9575-e36b948ed7c9",
   "metadata": {},
   "source": [
    "### Process the stream data and check for drift"
   ]
  },
  {
   "cell_type": "code",
   "execution_count": 123,
   "id": "a17217af-a574-426d-b75d-8cf9e1b7f812",
   "metadata": {},
   "outputs": [],
   "source": [
    "warning_flag = False\n",
    "for i in range(len(X)):\n",
    "    X_i = X[i].reshape(1, -1)\n",
    "    y_i = y[i].reshape(1, -1)\n",
    "    \n",
    "    # Predict and calculate the error\n",
    "    y_pred = pipeline.predict(X_i)#here y_pred is an array resulted from pipieline\n",
    "    y_preds.append(y_pred[0])\n",
    "    error = mean_squared_error(y_i, y_pred)\n",
    "    errors.append(error)\n",
    "    \n",
    "    binary_error = 1 if error > 25.0 else 0\n",
    "    \n",
    "    # Update DDM with the error \n",
    "    detector.update(value=binary_error)\n",
    "    \n",
    "    \n",
    "    # Check for detected drift\n",
    "    if detector.drift:\n",
    "       # print(f\"Change detected at step {i + len(train)}\")  # Adjusting index to match the full dataset\n",
    "        detected_drifts.append(i + len(train))  # Adjusting index to match the full dataset\n",
    "        \n",
    "        # Determine if it's a false alarm or not\n",
    "        if i + len(train) < odp[0]:  # Compare with the original drift point\n",
    "            false_alarms += 1\n",
    "        else:\n",
    "            detection_delays.append((i + len(train)) - odp[0])\n",
    "    # Check for detected warning\n",
    "    if not warning_flag and detector.warning:\n",
    "        print(f\"Warning detected at step {i}\")\n",
    "        warning_flag = True\n",
    "        \n",
    "    "
   ]
  },
  {
   "cell_type": "code",
   "execution_count": 125,
   "id": "23c54999-0bfd-4e8c-abe1-0a7b876e3d30",
   "metadata": {},
   "outputs": [
    {
     "name": "stdout",
     "output_type": "stream",
     "text": [
      "7001\n"
     ]
    }
   ],
   "source": [
    "print(len(errors))"
   ]
  },
  {
   "cell_type": "markdown",
   "id": "6b855d52-ebc0-4d43-b16d-f24e1d8f1168",
   "metadata": {},
   "source": [
    "### Calculate metrics"
   ]
  },
  {
   "cell_type": "code",
   "execution_count": 128,
   "id": "36c6e605-55ab-4740-b467-3a21f4219608",
   "metadata": {},
   "outputs": [],
   "source": [
    "false_alarm_rate = false_alarms / len(detected_drifts) if detected_drifts else 0\n",
    "detection_delay =(detection_delays[0]) if detection_delays else None"
   ]
  },
  {
   "cell_type": "markdown",
   "id": "36fc863d-ddfc-4f29-9f21-c566cf1f1d06",
   "metadata": {},
   "source": [
    "### Results"
   ]
  },
  {
   "cell_type": "code",
   "execution_count": 131,
   "id": "086a4b12-dd28-42d3-be6e-c88f70f86bc3",
   "metadata": {},
   "outputs": [
    {
     "name": "stdout",
     "output_type": "stream",
     "text": [
      "Detected drift points: [5032, 5033, 5044, 5048, 5050, 5056, 5057, 5060, 5066, 5067, 5068, 5070, 5073, 5074, 5083, 5084, 5087, 5090, 5094, 5098, 5101, 5105, 5107, 5108, 5110, 5112, 5113, 5120, 5122, 5128, 5130, 5134, 5135, 5136, 5140, 5147, 5149, 5154, 5161, 5162, 5169, 5170, 5171, 5173, 5178, 5194, 5196, 5198, 5200, 5203, 5204, 5205, 5206, 5208, 5211, 5212, 5214, 5220, 5223, 5224, 5226, 5227, 5233, 5235, 5242, 5248, 5253, 5254, 5255, 5262, 5265, 5268, 5269, 5271, 5272, 5273, 5276, 5282, 5283, 5292, 5294, 5296, 5299, 5302, 5310, 5313, 5315, 5318, 5322, 5326, 5329, 5332, 5335, 5337, 5339, 5341, 5346, 5349, 5352, 5355, 5360, 5361, 5370, 5374, 5376, 5378, 5379, 5382, 5389, 5391, 5395, 5396, 5407, 5412, 5413, 5417, 5418, 5419, 5420, 5421, 5424, 5435, 5437, 5439, 5443, 5444, 5446, 5447, 5449, 5456, 5461, 5464, 5465, 5470, 5472, 5473, 5488, 5489, 5492, 5493, 5495, 5500, 5501, 5502, 5508, 5510, 5511, 5512, 5513, 5517, 5523, 5532, 5534, 5537, 5542, 5543, 5545, 5546, 5548, 5549, 5552, 5553, 5555, 5556, 5563, 5567, 5573, 5576, 5581, 5586, 5592, 5593, 5599, 5600, 5602, 5605, 5606, 5610, 5611, 5612, 5622, 5626, 5627, 5632, 5634, 5640, 5647, 5652, 5655, 5656, 5657, 5660, 5666, 5673, 5675, 5678, 5679, 5681, 5686, 5688, 5693, 5696, 5701, 5705, 5716, 5718, 5720, 5726, 5742, 5743, 5746, 5751, 5759, 5762, 5769, 5770, 5772, 5773, 5775, 5778, 5780, 5788, 5793, 5796, 5797, 5800, 5802, 5804, 5807, 5813, 5822, 5823, 5824, 5825, 5826, 5830, 5832, 5833, 5835, 5841, 5842, 5844, 5845, 5855, 5861, 5862, 5864, 5867, 5871, 5872, 5873, 5875, 5880, 5882, 5884, 5885, 5886, 5888, 5890, 5891, 5895, 5896, 5899, 5900, 5902, 5909, 5911, 5913, 5914, 5916, 5923, 5925, 5926, 5928, 5930, 5931, 5937, 5939, 5943, 5949, 5950, 5952, 5958, 5960, 5961, 5963, 5966, 5971, 5973, 5975, 5979, 5983, 5984, 5985, 5987, 5988, 5990, 5991, 5992, 5996, 6004, 6005, 6008, 6011, 6012, 6014, 6016, 6018, 6019, 6022, 6024, 6031, 6035, 6045, 6046, 6050, 6054, 6055, 6060, 6063, 6064, 6068, 6071, 6076, 6081, 6092, 6096, 6097, 6100, 6104, 6105, 6109, 6114, 6115, 6120, 6121, 6124, 6126, 6128, 6134, 6138, 6141, 6146, 6148, 6150, 6151, 6152, 6155, 6156, 6157, 6158, 6162, 6165, 6167, 6169, 6170, 6172, 6182, 6185, 6187, 6189, 6191, 6194, 6197, 6198, 6199, 6202, 6206, 6208, 6209, 6212, 6213, 6218, 6219, 6224, 6225, 6228, 6232, 6234, 6235, 6237, 6238, 6240, 6246, 6248, 6250, 6251, 6254, 6256, 6265, 6266, 6267, 6268, 6269, 6276, 6277, 6278, 6281, 6283, 6288, 6289, 6292, 6294, 6298, 6302, 6307, 6309, 6310, 6311, 6313, 6314, 6319, 6326, 6328, 6337, 6342, 6343, 6349, 6350, 6356, 6365, 6366, 6370, 6371, 6376, 6377, 6379, 6383, 6387, 6392, 6397, 6404, 6405, 6406, 6415, 6416, 6417, 6425, 6429, 6435, 6438, 6447, 6449, 6453, 6456, 6458, 6464, 6471, 6472, 6474, 6478, 6482, 6486, 6490, 6492, 6497, 6498, 6500, 6502, 6506, 6511, 6512, 6513, 6514, 6515, 6525, 6527, 6529, 6530, 6531, 6533, 6534, 6536, 6538, 6543, 6544, 6550, 6551, 6553, 6559, 6569, 6580, 6582, 6584, 6587, 6589, 6590, 6592, 6598, 6599, 6600, 6609, 6613, 6620, 6630, 6631, 6636, 6639, 6643, 6646, 6656, 6657, 6658, 6660, 6662, 6665, 6666, 6669, 6681, 6682, 6683, 6685, 6688, 6689, 6691, 6693, 6696, 6697, 6699, 6703, 6704, 6706, 6708, 6709, 6711, 6712, 6713, 6714, 6729, 6731, 6732, 6734, 6738, 6739, 6741, 6748, 6753, 6754, 6756, 6757, 6758, 6760, 6766, 6772, 6775, 6776, 6777, 6778, 6782, 6786, 6787, 6790, 6792, 6794, 6798, 6801, 6803, 6805, 6806, 6807, 6812, 6815, 6820, 6823, 6824, 6827, 6828, 6830, 6832, 6834, 6835, 6837, 6840, 6842, 6844, 6863, 6870, 6872, 6873, 6876, 6878, 6879, 6881, 6885, 6888, 6891, 6895, 6896, 6898, 6901, 6905, 6906, 6911, 6912, 6916, 6918, 6920, 6923, 6924, 6925, 6928, 6929, 6933, 6934, 6935, 6937, 6939, 6943, 6945, 6949, 6952, 6958, 6959, 6961, 6962, 6968, 6969, 6970, 6971, 6972, 6973, 6980, 6982, 6991, 6993, 6994, 6995, 7001, 7003, 7010, 7016, 7023, 7028, 7030, 7039, 7041, 7042, 7043, 7048, 7049, 7053, 7059, 7069, 7072, 7075, 7076, 7078, 7087, 7088, 7089, 7091, 7096, 7099, 7102, 7103, 7108, 7114, 7120, 7121, 7124, 7125, 7127, 7133, 7135, 7138, 7140, 7145, 7150, 7151, 7161, 7162, 7164, 7165, 7166, 7168, 7171, 7172, 7175, 7176, 7181, 7184, 7186, 7188, 7191, 7192, 7198, 7204, 7206, 7207, 7209, 7211, 7214, 7216, 7217, 7220, 7224, 7230, 7234, 7246, 7249, 7251, 7254, 7255, 7257, 7258, 7259, 7260, 7264, 7266, 7270, 7281, 7283, 7287, 7289, 7298, 7302, 7304, 7308, 7309, 7310, 7314, 7317, 7318, 7323, 7328, 7346, 7353, 7358, 7359, 7360, 7362, 7365, 7366, 7370, 7374, 7376, 7379, 7381, 7382, 7384, 7385, 7387, 7391, 7392, 7393, 7396, 7397, 7399, 7402, 7403, 7404, 7405, 7411, 7413, 7416, 7417, 7419, 7421, 7422, 7429, 7430, 7433, 7437, 7438, 7441, 7443, 7450, 7453, 7454, 7462, 7467, 7470, 7473, 7474, 7477, 7482, 7483, 7488, 7489, 7492, 7493, 7495, 7506, 7508, 7509, 7511, 7515, 7517, 7518, 7520, 7521, 7523, 7529, 7531, 7532, 7533, 7535, 7541, 7543, 7545, 7546, 7549, 7551, 7563, 7567, 7573, 7575, 7578, 7580, 7585, 7590, 7593, 7594, 7597, 7601, 7606, 7607, 7610, 7612, 7613, 7615, 7616, 7617, 7618, 7620, 7623, 7631, 7637, 7640, 7641, 7645, 7647, 7649, 7650, 7652, 7657, 7658, 7659, 7670, 7679, 7683, 7684, 7687, 7689, 7693, 7694, 7699, 7701, 7705, 7711, 7713, 7716, 7720, 7722, 7723, 7724, 7728, 7736, 7737, 7741, 7744, 7745, 7746, 7749, 7751, 7753, 7754, 7762, 7763, 7764, 7769, 7781, 7782, 7786, 7792, 7797, 7798, 7801, 7805, 7808, 7811, 7813, 7816, 7821, 7823, 7826, 7829, 7830, 7834, 7835, 7838, 7844, 7845, 7846, 7847, 7851, 7853, 7855, 7860, 7862, 7864, 7865, 7867, 7868, 7874, 7877, 7880, 7882, 7884, 7888, 7891, 7894, 7899, 7904, 7905, 7911, 7913, 7915, 7923, 7924, 7925, 7927, 7928, 7929, 7931, 7932, 7934, 7937, 7940, 7942, 7946, 7947, 7950, 7955, 7956, 7961, 7962, 7970, 7974, 7981, 7983, 7984, 7990, 7994, 7995, 7997, 7999, 8000, 8007, 8009, 8010, 8013, 8014, 8019, 8020, 8025, 8026, 8030, 8031, 8037, 8038, 8041, 8048, 8051, 8059, 8063, 8070, 8072, 8076, 8078, 8079, 8092, 8098, 8101, 8106, 8109, 8110, 8112, 8113, 8114, 8115, 8116, 8117, 8121, 8138, 8141, 8143, 8150, 8151, 8154, 8157, 8158, 8160, 8161, 8166, 8169, 8173, 8178, 8179, 8181, 8183, 8185, 8190, 8191, 8196, 8197, 8198, 8204, 8205, 8209, 8210, 8211, 8213, 8216, 8230, 8231, 8234, 8236, 8237, 8239, 8241, 8243, 8246, 8256, 8259, 8261, 8262, 8265, 8268, 8271, 8272, 8276, 8282, 8290, 8295, 8298, 8299, 8302, 8306, 8308, 8309, 8313, 8315, 8316, 8318, 8319, 8325, 8326, 8329, 8335, 8339, 8340, 8342, 8344, 8347, 8353, 8357, 8359, 8362, 8373, 8374, 8381, 8384, 8387, 8391, 8394, 8395, 8397, 8399, 8403, 8420, 8421, 8422, 8425, 8426, 8427, 8428, 8430, 8432, 8433, 8434, 8436, 8438, 8442, 8446, 8447, 8449, 8450, 8453, 8454, 8457, 8458, 8459, 8468, 8469, 8470, 8480, 8481, 8486, 8488, 8492, 8498, 8499, 8507, 8511, 8513, 8514, 8518, 8524, 8525, 8527, 8534, 8535, 8537, 8544, 8545, 8547, 8553, 8555, 8558, 8560, 8561, 8566, 8569, 8573, 8574, 8580, 8582, 8585, 8588, 8589, 8595, 8604, 8607, 8610, 8615, 8617, 8620, 8626, 8632, 8634, 8636, 8639, 8640, 8641, 8645, 8649, 8651, 8652, 8653, 8654, 8655, 8661, 8665, 8667, 8668, 8669, 8670, 8672, 8675, 8677, 8680, 8681, 8684, 8685, 8687, 8698, 8706, 8712, 8715, 8718, 8719, 8722, 8723, 8725, 8732, 8734, 8735, 8736, 8746, 8749, 8752, 8753, 8756, 8768, 8773, 8775, 8779, 8782, 8790, 8793, 8796, 8803, 8805, 8807, 8811, 8813, 8817, 8818, 8823, 8825, 8827, 8828, 8829, 8831, 8836, 8840, 8841, 8842, 8843, 8854, 8865, 8866, 8868, 8872, 8874, 8877, 8878, 8884, 8888, 8890, 8891, 8892, 8896, 8899, 8900, 8903, 8904, 8906, 8910, 8911, 8914, 8915, 8920, 8924, 8930, 8936, 8937, 8941, 8944, 8946, 8947, 8948, 8952, 8956, 8957, 8959, 8960, 8964, 8966, 8968, 8974, 8977, 8981, 8985, 8987, 8990, 8994, 8995, 8996, 8997, 9002, 9008, 9014, 9016, 9023, 9025, 9029, 9030, 9033, 9040, 9042, 9047, 9048, 9056, 9061, 9064, 9065, 9069, 9072, 9074, 9075, 9077, 9083, 9084, 9088, 9094, 9096, 9097, 9099, 9101, 9103, 9105, 9116, 9120, 9126, 9127, 9132, 9135, 9145, 9148, 9154, 9155, 9161, 9162, 9163, 9165, 9166, 9167, 9170, 9171, 9172, 9175, 9179, 9181, 9185, 9186, 9188, 9189, 9192, 9193, 9196, 9198, 9200, 9204, 9206, 9208, 9216, 9223, 9224, 9225, 9226, 9227, 9229, 9231, 9232, 9235, 9238, 9240, 9245, 9249, 9252, 9253, 9254, 9260, 9264, 9265, 9268, 9269, 9272, 9277, 9278, 9283, 9284, 9285, 9294, 9296, 9298, 9303, 9304, 9305, 9312, 9313, 9317, 9320, 9321, 9322, 9325, 9326, 9327, 9328, 9329, 9330, 9336, 9347, 9354, 9356, 9358, 9363, 9365, 9368, 9372, 9374, 9377, 9381, 9382, 9397, 9404, 9409, 9411, 9414, 9418, 9422, 9424, 9428, 9429, 9431, 9435, 9440, 9442, 9448, 9463, 9465, 9466, 9469, 9470, 9472, 9476, 9477, 9481, 9486, 9488, 9494, 9495, 9498, 9499, 9503, 9505, 9507, 9508, 9514, 9519, 9521, 9524, 9529, 9532, 9534, 9537, 9539, 9541, 9543, 9544, 9545, 9546, 9548, 9552, 9555, 9561, 9562, 9563, 9567, 9569, 9581, 9584, 9588, 9589, 9590, 9599, 9601, 9606, 9615, 9618, 9624, 9625, 9629, 9630, 9631, 9633, 9634, 9636, 9639, 9640, 9646, 9647, 9649, 9652, 9654, 9658, 9663, 9665, 9668, 9673, 9678, 9683, 9687, 9688, 9692, 9701, 9702, 9705, 9709, 9713, 9715, 9719, 9721, 9724, 9727, 9731, 9733, 9735, 9737, 9738, 9739, 9740, 9745, 9747, 9750, 9752, 9763, 9765, 9766, 9774, 9777, 9781, 9783, 9784, 9787, 9792, 9793, 9797, 9805, 9813, 9816, 9817, 9818, 9819, 9820, 9821, 9824, 9826, 9831, 9834, 9844, 9847, 9860, 9861, 9862, 9863, 9865, 9866, 9872, 9874, 9882, 9892, 9899, 9900, 9901, 9903, 9914, 9916, 9919, 9921, 9923, 9926, 9927, 9936, 9937, 9939, 9940, 9945, 9946, 9949, 9950, 9953, 9957, 9964, 9969, 9974, 9976, 9981, 9982, 9983, 9992, 9996]\n",
      "False alarms: 0\n",
      "False alarm rate: 0.0\n",
      "Detection delay: 32\n"
     ]
    }
   ],
   "source": [
    "print(f\"Detected drift points: {detected_drifts}\")\n",
    "print(f\"False alarms: {false_alarms}\")\n",
    "print(f\"False alarm rate: {false_alarm_rate}\")\n",
    "print(f\"Detection delay: {detection_delay}\")"
   ]
  },
  {
   "cell_type": "code",
   "execution_count": 57,
   "id": "1f4b9f69-31ad-4404-8a9b-72b8f58e5c77",
   "metadata": {},
   "outputs": [
    {
     "data": {
      "image/png": "[encoded data removed]",
      "text/plain": [
       "<Figure size 1400x700 with 1 Axes>"
      ]
     },
     "metadata": {},
     "output_type": "display_data"
    }
   ],
   "source": [
    "# Plotting the error values\n",
    "plt.figure(figsize=(14, 7))\n",
    "plt.plot(range(len(errors)), errors, label=\"MSE Error\", color='purple')\n",
    "plt.xlabel(\"Instance Index\")\n",
    "plt.ylabel(\"Mean Squared Error\")\n",
    "plt.title(\"Behavior of Mean Squared Error Over data points\")\n",
    "plt.legend()\n",
    "plt.grid(True)\n",
    "plt.show()"
   ]
  },
  {
   "cell_type": "code",
   "execution_count": 133,
   "id": "f86ab06c-8358-4c39-86da-c098a8ce0785",
   "metadata": {},
   "outputs": [
    {
     "data": {
      "image/png": "[encoded data removed]",
      "text/plain": [
       "<Figure size 1200x400 with 1 Axes>"
      ]
     },
     "metadata": {},
     "output_type": "display_data"
    }
   ],
   "source": [
    "# Create binary arrays for drift detection and odp\n",
    "drift_indicator = np.zeros(len(data))\n",
    "for drift_point in detected_drifts:\n",
    "    drift_indicator[drift_point] = 1\n",
    "\n",
    "odp_indicator = np.zeros(len(data))\n",
    "for i in range(odp[0], len(data)):\n",
    "    odp_indicator[i] = 1\n",
    "\n",
    "# Plotting the drift indicator and odp indicator\n",
    "plt.figure(figsize=(12, 4))\n",
    "plt.plot(drift_indicator, label='Detected Drift Indicator', color='red', drawstyle='steps-post')\n",
    "plt.plot(odp_indicator, label='Actual Drift Indicator (ODP)', color='green', linestyle='-', drawstyle='steps-post')\n",
    "plt.xlabel('Index')\n",
    "plt.ylabel('Drift Detection (0 or 1)')\n",
    "plt.title('Drift Detection Indicator')\n",
    "plt.legend()\n",
    "plt.grid(True)\n",
    "\n",
    "# Show the plot\n",
    "plt.show()"
   ]
  },
  {
   "cell_type": "code",
   "execution_count": null,
   "id": "0f6bd783-7433-4fa0-a664-bf76907f1204",
   "metadata": {},
   "outputs": [],
   "source": []
  }
 ],
 "metadata": {
  "kernelspec": {
   "display_name": "Python 3 (ipykernel)",
   "language": "python",
   "name": "python3"
  },
  "language_info": {
   "codemirror_mode": {
    "name": "ipython",
    "version": 3
   },
   "file_extension": ".py",
   "mimetype": "text/x-python",
   "name": "python",
   "nbconvert_exporter": "python",
   "pygments_lexer": "ipython3",
   "version": "3.12.3"
  }
 },
 "nbformat": 4,
 "nbformat_minor": 5
}
