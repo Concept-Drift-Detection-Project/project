{
 "cells": [
  {
   "cell_type": "markdown",
   "id": "9f3c4fe2-c240-4401-b101-c96485f7fa7b",
   "metadata": {},
   "source": [
    "#### Import libraries"
   ]
  },
  {
   "cell_type": "code",
   "execution_count": 1,
   "id": "f687de9c-4014-4698-8102-355531eb1812",
   "metadata": {},
   "outputs": [],
   "source": [
    "import river\n",
    "from river import datasets\n",
    "from river import linear_model, tree\n",
    "from river import drift, metrics\n",
    "from river.datasets import synth\n",
    "import numpy as np\n",
    "import pandas as pd\n",
    "from typing import List\n",
    "import matplotlib.pyplot as plt\n",
    "import seaborn as sns\n",
    "from sklearn.model_selection import train_test_split\n",
    "from sklearn.svm import SVR\n",
    "from sklearn.metrics import mean_squared_error\n",
    "from sklearn.metrics import mean_absolute_error\n",
    "from sklearn.metrics import r2_score\n",
    "from sklearn.linear_model import LinearRegression\n",
    "from sklearn.tree import DecisionTreeRegressor\n",
    "from sklearn.ensemble import RandomForestRegressor\n",
    "from sklearn.svm import SVR\n",
    "from sklearn.preprocessing import StandardScaler\n",
    "from frouros.metrics import PrequentialError\n",
    "from sklearn.pipeline import Pipeline\n",
    "from frouros.detectors.concept_drift.streaming.window_based.adwin import ADWIN\n",
    "from frouros.detectors.concept_drift import DDM, DDMConfig\n",
    "from frouros.detectors.concept_drift.streaming.statistical_process_control.ddm import DDM\n",
    "from frouros.detectors.concept_drift.streaming.statistical_process_control.eddm import EDDM,EDDMConfig\n",
    "from frouros.detectors.concept_drift.streaming.change_detection.page_hinkley import PageHinkley\n"
   ]
  },
  {
   "cell_type": "markdown",
   "id": "6cfc90de-a2e3-4bf2-afac-f76edf1174aa",
   "metadata": {},
   "source": [
    "#### Returns the DataFrame containing the generated data"
   ]
  },
  {
   "cell_type": "code",
   "execution_count": 3,
   "id": "2d36518e-9935-456c-807b-6785de2f7fe2",
   "metadata": {},
   "outputs": [],
   "source": [
    "def initialize_data(dp1, dp2, seed=42):\n",
    "    \"\"\"\n",
    "    Initialize the dataset with specified drift position and seed.\n",
    "    \n",
    "    Parameters:\n",
    "    - a (int): The start position where the drift occurs.\n",
    "    - b (int): The end position where the drift occurs and also used as the limit.\n",
    "    - seed (int): Random seed for reproducibility.\n",
    "    \n",
    "    Returns:\n",
    "    - pd.DataFrame: DataFrame containing the generated data.\n",
    "    \"\"\"\n",
    "    dataset = synth.FriedmanDrift(\n",
    "        drift_type='gra',\n",
    "        position=(dp1, dp2),\n",
    "        seed=seed\n",
    "    )\n",
    "    data = []\n",
    "    for i, (x, y) in enumerate(dataset):\n",
    "        x_values = list(x.values())\n",
    "        data.append(x_values + [y])\n",
    "        if i >= dp2:  # Limiting to 'b' samples for simplicity\n",
    "            break\n",
    "    column_names = [f'x{i}' for i in range(1, len(x_values) + 1)] + ['y']\n",
    "    df = pd.DataFrame(data, columns=column_names)\n",
    "    return df"
   ]
  },
  {
   "cell_type": "markdown",
   "id": "2195370b-40fe-47be-9951-01b7e4ead8c4",
   "metadata": {},
   "source": [
    "#### Split the Data into Training and Streaming Sets"
   ]
  },
  {
   "cell_type": "code",
   "execution_count": 5,
   "id": "50f3d23d-ddfe-4dc2-b1ea-3b79093b7bc0",
   "metadata": {},
   "outputs": [],
   "source": [
    "def split_data(df, split):\n",
    "    \"\"\"\n",
    "    Split the dataset into training, validation, and streaming sets.\n",
    "    \n",
    "    Parameters:\n",
    "    - df (pd.DataFrame): The DataFrame containing the dataset.\n",
    "    - split (int): Index in which we split the data in to train and tream.\n",
    "    \n",
    "    \n",
    "    Returns:\n",
    "    - train (pd.DataFrame): Training set.\n",
    "    - val (pd.DataFrame): Validation set.\n",
    "    - stream (pd.DataFrame): Streaming set.\n",
    "    \"\"\"\n",
    "    # Split the DataFrame into train and remaining data\n",
    "    train = df.iloc[:split]\n",
    "    stream = df.iloc[split:]\n",
    "    \n",
    "    \n",
    "    return train, stream\n"
   ]
  },
  {
   "cell_type": "markdown",
   "id": "2f20c451-f300-4b38-8d68-05dc1e545a33",
   "metadata": {},
   "source": [
    "def split_data(df, split):\n",
    "    \"\"\"\n",
    "    Split the dataset into training, validation, and streaming sets.\n",
    "    \n",
    "    Parameters:\n",
    "    - df (pd.DataFrame): The DataFrame containing the dataset.\n",
    "    - split (int): Index in which we split the data in to train and tream.\n",
    "    \n",
    "    \n",
    "    Returns:\n",
    "    - train (pd.DataFrame): Training set.\n",
    "    - val (pd.DataFrame): Validation set.\n",
    "    - stream (pd.DataFrame): Streaming set.\n",
    "    \"\"\"\n",
    "    # Split the DataFrame into train and remaining data\n",
    "    train = df.iloc[:split]\n",
    "    stream = df.iloc[split:]\n",
    "    \n",
    "    # Split the train data into training and validation sets\n",
    "    train, val = train_test_split(train, test_size=0.2, random_state=42)\n",
    "    \n",
    "    return train, val, stream\n"
   ]
  },
  {
   "cell_type": "code",
   "execution_count": null,
   "id": "31f90fe7-fb0c-43e5-b432-2f8bab2a501c",
   "metadata": {},
   "outputs": [],
   "source": []
  },
  {
   "cell_type": "markdown",
   "id": "6d8d03f3-db53-4f60-8926-f7d049cf8d1b",
   "metadata": {},
   "source": [
    "#### Set Up the Pipeline and Train the Model"
   ]
  },
  {
   "cell_type": "code",
   "execution_count": 7,
   "id": "e4091a70-14b4-44f0-a25b-878d9efd112b",
   "metadata": {},
   "outputs": [],
   "source": [
    "def train_model(train,model):\n",
    "    X_train = train.drop(columns='y').values\n",
    "    y_train = train['y'].values\n",
    "    pipeline = Pipeline([\n",
    "        (\"scaler\", StandardScaler()),\n",
    "        (\"model\", model)])\n",
    "    pipeline.fit(X_train, y_train)\n",
    "    return pipeline"
   ]
  },
  {
   "cell_type": "markdown",
   "id": "9b506a02-52f8-4cc1-8c92-4fa13e0647c3",
   "metadata": {},
   "source": [
    "#### Quantile-Based Thresholding"
   ]
  },
  {
   "cell_type": "markdown",
   "id": "d4d111ec-3e1c-4d13-87d5-18c72b12a7e9",
   "metadata": {},
   "source": [
    "def calculate_threshold(pipeline, val, quantile_threshold):\n",
    "    \"\"\"\n",
    "    Calculate the quantile-based threshold for error values.\n",
    "    \n",
    "    Parameters:\n",
    "    - pipeline: The trained pipeline used for predictions.\n",
    "    - val (pd.DataFrame): Validation set containing features and target variable.\n",
    "    - quantile_threshold (float): The quantile threshold to determine the error threshold.\n",
    "    \n",
    "    Returns:\n",
    "    - threshold (float): The calculated quantile-based threshold.\n",
    "    \"\"\"\n",
    "    # Extract features and target variable from the validation set\n",
    "    X_val = val.drop(columns='y').values\n",
    "    y_val = val['y'].values\n",
    "    \n",
    "    # Make predictions using the pipeline\n",
    "    y_pred = pipeline.predict(X_val)\n",
    "    \n",
    "    # Calculate the squared errors\n",
    "    errors_val = (y_val - y_pred) ** 2\n",
    "    \n",
    "    # Calculate the quantile-based threshold\n",
    "    threshold = np.quantile(errors_val, quantile_threshold)\n",
    "    print(f\"Calculated threshold at {quantile_threshold * 100}% quantile: {threshold}\")\n",
    "    \n",
    "    return threshold\n"
   ]
  },
  {
   "cell_type": "markdown",
   "id": "1bc2d853-9f04-474f-b46e-b86d31fa1620",
   "metadata": {},
   "source": [
    "#### Initialize and Update the Drift Detector"
   ]
  },
  {
   "cell_type": "markdown",
   "id": "33caff42-3dfd-4714-9209-fc6d8fcb081a",
   "metadata": {},
   "source": [
    "### DDM"
   ]
  },
  {
   "cell_type": "code",
   "execution_count": 9,
   "id": "521e5ee8-8331-4ee7-9a33-25c19df1a652",
   "metadata": {},
   "outputs": [],
   "source": [
    "def setup_ddm(warning_level=2.0, drift_level=3.0, min_num_instances=30):\n",
    "    \"\"\"\n",
    "    Set up the DDM detector with specified configuration parameters.\n",
    "    \n",
    "    Parameters:\n",
    "    - warning_level (float): The warning level for drift detection.\n",
    "    - drift_level (float): The drift level for drift detection.\n",
    "    - min_num_instances (int): Minimum number of instances before checking for concept drift.\n",
    "    \n",
    "    Returns:\n",
    "    - detector: An instance of the DDM drift detector.\n",
    "    \"\"\"\n",
    "    config = DDMConfig(\n",
    "        warning_level=warning_level,\n",
    "        drift_level=drift_level,\n",
    "        min_num_instances=min_num_instances\n",
    "    )\n",
    "    detector = DDM(config=config)\n",
    "    return detector"
   ]
  },
  {
   "cell_type": "markdown",
   "id": "c3cc2d0a-251a-42e1-9283-504e065dc8e6",
   "metadata": {},
   "source": [
    "### EDDM"
   ]
  },
  {
   "cell_type": "code",
   "execution_count": 205,
   "id": "fda5e72d-cc00-4af7-9088-ee4a22f2d3c6",
   "metadata": {},
   "outputs": [],
   "source": [
    "def setup_eddm(alpha=0.95, beta=0.9, level=2.0, min_num_misclassified_instances=30):\n",
    "    \"\"\"\n",
    "    Set up the EDDM (Early Drift Detection Method) detector with specified configuration parameters.\n",
    "    \n",
    "    Parameters:\n",
    "    - alpha (float): Warning zone value.\n",
    "    - beta (float): Change zone value.\n",
    "    - level (float): Level factor for drift detection.\n",
    "    - min_num_misclassified_instances (int): Minimum number of misclassified instances to start detecting drift.\n",
    "    \n",
    "    Returns:\n",
    "    - detector: An instance of the EDDM drift detector.\n",
    "    \"\"\"\n",
    "    config = EDDMConfig(\n",
    "        alpha=alpha,\n",
    "        beta=beta,\n",
    "        level=level,\n",
    "        min_num_misclassified_instances=min_num_misclassified_instances\n",
    "    )\n",
    "    detector = EDDM(config=config)\n",
    "    return detector"
   ]
  },
  {
   "cell_type": "markdown",
   "id": "7e2cd3c4-e526-4b86-a3eb-1a32d70660cb",
   "metadata": {},
   "source": [
    "#### Process the Streaming Data"
   ]
  },
  {
   "cell_type": "code",
   "execution_count": 13,
   "id": "0177c83f-2498-40f6-8319-650bfb4a8770",
   "metadata": {},
   "outputs": [],
   "source": [
    "def process_stream(X, y, pipeline, detector, threshold, odp):\n",
    "    detected_drifts = []\n",
    "    false_alarms = 0\n",
    "    detection_delays = []\n",
    "    y_preds = []\n",
    "    errors = []\n",
    "    \n",
    "   \n",
    "\n",
    "    for i in range(len(X)):\n",
    "        X_i = X[i].reshape(1, -1)\n",
    "        y_i = y[i].reshape(1, -1)\n",
    "        y_pred = pipeline.predict(X_i)\n",
    "        y_preds.append(y_pred[0])\n",
    "        error = mean_squared_error(y_i, y_pred)\n",
    "        errors.append(error)\n",
    "        binary_error = 1 if error > threshold else 0\n",
    "       \n",
    "        detector.update(value=binary_error)\n",
    "\n",
    "        if detector.drift:\n",
    "            detected_drifts.append(i + len(train))\n",
    "            if (i + len(train) < odp) :\n",
    "                false_alarms += 1\n",
    "            else:\n",
    "                detection_delays.append((i + len(train) - odp))\n",
    "\n",
    "        \n",
    "    print(f\"False Alarms: {false_alarms:.2f}%\")\n",
    "    print(odp-len(train)  )\n",
    "    false_alarm_rate = (false_alarms / (odp-len(train))) * 100 if detected_drifts else 0\n",
    "    detection_delay = detection_delays[0] if detection_delays else None\n",
    "    return false_alarm_rate, detection_delay, errors, detected_drifts\n"
   ]
  },
  {
   "cell_type": "markdown",
   "id": "24a9a0d1-e5a2-4a7a-8043-ad9bf5bf659e",
   "metadata": {},
   "source": [
    "#### Plot Error distribution"
   ]
  },
  {
   "cell_type": "code",
   "execution_count": 15,
   "id": "c9936b35-c883-483f-850e-10eaf6f63484",
   "metadata": {},
   "outputs": [],
   "source": [
    "def plot_errors(errors: List[float]) -> None:\n",
    "    \"\"\"\n",
    "    Plot the Mean Squared Error (MSE) values over data points.\n",
    "\n",
    "    Parameters:\n",
    "    - errors (List[float]): List of MSE error values to plot.\n",
    "\n",
    "    Returns:\n",
    "    - None\n",
    "    \"\"\"\n",
    "    plt.figure(figsize=(14, 7))\n",
    "    plt.plot(range(len(errors)), errors, label=\"MSE Error\", color='purple')\n",
    "    plt.xlabel(\"Instance Index\")\n",
    "    plt.ylabel(\"Mean Squared Error\")\n",
    "    plt.title(\"Behavior of Mean Squared Error Over Data Points\")\n",
    "    plt.legend()\n",
    "    plt.grid(True)\n",
    "    plt.show()\n"
   ]
  },
  {
   "cell_type": "markdown",
   "id": "072b00f4-d6f7-402d-ba55-bb49c6015b1a",
   "metadata": {},
   "source": [
    "#### Visualizing detected drifts against actual"
   ]
  },
  {
   "cell_type": "code",
   "execution_count": 17,
   "id": "0e18168b-10f7-4b6a-94b1-41813f9f9883",
   "metadata": {},
   "outputs": [],
   "source": [
    "def plot_drift_indicators(data_length: int, detected_drifts: List[int], odp: int):\n",
    "    \"\"\"\n",
    "    Plot drift detection indicators and actual drift indicators.\n",
    "\n",
    "    Parameters:\n",
    "    - data_length (int): The length of the data array.\n",
    "    - detected_drifts (List[int]): List of indices where drifts are detected.\n",
    "    - odp (int): Index of the initial drift point.\n",
    "    \"\"\"\n",
    "    # Create binary arrays for drift detection and odp\n",
    "    drift_indicator = np.zeros(data_length)\n",
    "    for drift_point in detected_drifts:\n",
    "        if drift_point < data_length:\n",
    "            drift_indicator[drift_point] = 1\n",
    "\n",
    "    odp_indicator = np.zeros(data_length)\n",
    "    for i in range(odp, data_length):\n",
    "        odp_indicator[i] = 1\n",
    "\n",
    "    # Plotting the drift indicator and odp indicator\n",
    "    plt.figure(figsize=(12, 4))\n",
    "    plt.plot(drift_indicator, label='Detected Drift Indicator', color='red', drawstyle='steps-post')\n",
    "    plt.plot(odp_indicator, label='Actual Drift Indicator (ODP)', color='green', linestyle='-', drawstyle='steps-post')\n",
    "    plt.xlabel('Index')\n",
    "    plt.ylabel('Drift Detection (0 or 1)')\n",
    "    plt.title('Drift Detection Indicator')\n",
    "    plt.legend()\n",
    "    plt.grid(True)\n",
    "\n",
    "    # Show the plot\n",
    "    plt.show()"
   ]
  },
  {
   "cell_type": "markdown",
   "id": "bddb4017-b7b9-49be-bcb1-e2f3d61bc57a",
   "metadata": {},
   "source": [
    "## Main()"
   ]
  },
  {
   "cell_type": "code",
   "execution_count": 845,
   "id": "52335600-ecc0-4a3c-8d8a-cacad562335a",
   "metadata": {},
   "outputs": [],
   "source": [
    "a = 2000\n",
    "b = 3000\n",
    "df = initialize_data(a, b,42)"
   ]
  },
  {
   "cell_type": "code",
   "execution_count": 847,
   "id": "b0f5b236-cd47-4341-8eac-ab5e79cf3677",
   "metadata": {},
   "outputs": [],
   "source": [
    "split_index = 1000"
   ]
  },
  {
   "cell_type": "code",
   "execution_count": 849,
   "id": "45ae417a-4e34-4d3a-a3db-75575d8cc735",
   "metadata": {},
   "outputs": [],
   "source": [
    "train,stream = split_data(df, split_index)"
   ]
  },
  {
   "cell_type": "code",
   "execution_count": 559,
   "id": "502ea6cc-2d61-43ed-8324-f7eecbd05813",
   "metadata": {},
   "outputs": [],
   "source": [
    "model=LinearRegression()"
   ]
  },
  {
   "cell_type": "code",
   "execution_count": 661,
   "id": "9aff7fba-cabd-4c01-8e78-ba5e52f4d75a",
   "metadata": {},
   "outputs": [],
   "source": [
    "model=DecisionTreeRegressor()"
   ]
  },
  {
   "cell_type": "code",
   "execution_count": 759,
   "id": "403f62bc-7984-4ea2-9bc7-81cfb13d9c55",
   "metadata": {},
   "outputs": [],
   "source": [
    "model=RandomForestRegressor()"
   ]
  },
  {
   "cell_type": "code",
   "execution_count": 851,
   "id": "cf473484-e7fd-4131-8b5c-5130b8ed6d5b",
   "metadata": {},
   "outputs": [],
   "source": [
    "model=SVR()"
   ]
  },
  {
   "cell_type": "code",
   "execution_count": 853,
   "id": "26642dd6-9a40-410b-ac48-9ef1705abe7d",
   "metadata": {},
   "outputs": [],
   "source": [
    "pipeline=train_model(train,model)"
   ]
  },
  {
   "cell_type": "markdown",
   "id": "e1d68f31-9e1c-4638-81e7-16764d918c10",
   "metadata": {},
   "source": [
    "quantile_threshold = 0.95 "
   ]
  },
  {
   "cell_type": "markdown",
   "id": "b3045eb2-b560-439f-8cc7-f06b31e3dbb2",
   "metadata": {},
   "source": [
    "threshold=calculate_threshold(pipeline, val, quantile_threshold)"
   ]
  },
  {
   "cell_type": "code",
   "execution_count": 855,
   "id": "a42a5dd2-ec2d-48f0-9677-c9e44099d1e2",
   "metadata": {},
   "outputs": [],
   "source": [
    "threshold=50 #from visual inspection"
   ]
  },
  {
   "cell_type": "code",
   "execution_count": 857,
   "id": "ce002413-ceda-423a-8867-35a337b27e8f",
   "metadata": {},
   "outputs": [],
   "source": [
    "detector=setup_ddm(warning_level=0.45, drift_level=1.0, min_num_instances=30)"
   ]
  },
  {
   "cell_type": "code",
   "execution_count": 513,
   "id": "d417ce03-1c5b-4554-a251-5c1b7c294cec",
   "metadata": {},
   "outputs": [],
   "source": [
    "detector=setup_eddm(alpha=0.95, beta=0.9, level=2.0, min_num_misclassified_instances=30)"
   ]
  },
  {
   "cell_type": "code",
   "execution_count": 859,
   "id": "b59cdcd6-023e-4fb2-b148-cc382c40f5cd",
   "metadata": {},
   "outputs": [],
   "source": [
    "odp=a"
   ]
  },
  {
   "cell_type": "code",
   "execution_count": 861,
   "id": "8ee3adf1-8468-4c2a-a5b4-849cb3f1435b",
   "metadata": {},
   "outputs": [],
   "source": [
    "X = stream.drop(columns='y').values\n",
    "y = stream['y'].values"
   ]
  },
  {
   "cell_type": "code",
   "execution_count": 251,
   "id": "72355134-44e1-47c8-8ff1-93c09b9c147d",
   "metadata": {},
   "outputs": [
    {
     "name": "stdout",
     "output_type": "stream",
     "text": [
      "[[0.76784393 0.36913257 0.33985095 ... 0.64557727 0.1380799  0.18797055]\n",
      " [0.33958666 0.65404493 0.42571132 ... 0.95851275 0.42173689 0.16354288]\n",
      " [0.68233978 0.8342325  0.4649227  ... 0.80355026 0.01222449 0.31902578]\n",
      " ...\n",
      " [0.65423593 0.12500987 0.51558276 ... 0.60206352 0.85911542 0.86574286]\n",
      " [0.02761312 0.49833502 0.0435095  ... 0.27799647 0.23961339 0.87187951]\n",
      " [0.03138681 0.05088172 0.27777858 ... 0.89173718 0.28371173 0.3875193 ]]\n"
     ]
    }
   ],
   "source": [
    "print(X)"
   ]
  },
  {
   "cell_type": "code",
   "execution_count": 253,
   "id": "d5ed5aae-b7fa-44b5-8ab4-43d93c1069fb",
   "metadata": {},
   "outputs": [
    {
     "data": {
      "text/plain": [
       "2001"
      ]
     },
     "execution_count": 253,
     "metadata": {},
     "output_type": "execute_result"
    }
   ],
   "source": [
    "len(X)"
   ]
  },
  {
   "cell_type": "code",
   "execution_count": 863,
   "id": "3b088e33-06e0-4bda-87ea-363f062b82d4",
   "metadata": {},
   "outputs": [
    {
     "name": "stdout",
     "output_type": "stream",
     "text": [
      "False Alarms: 626.00%\n",
      "1000\n"
     ]
    }
   ],
   "source": [
    "false_alarm_rate, detection_delay, errors, detected_drifts= process_stream(X, y, pipeline, detector, threshold, odp)"
   ]
  },
  {
   "cell_type": "code",
   "execution_count": 865,
   "id": "87731c71-0a34-405a-a54e-3aa7d505bdac",
   "metadata": {},
   "outputs": [
    {
     "name": "stdout",
     "output_type": "stream",
     "text": [
      "False Alarm Rate: 62.60%\n",
      "Detection Delay: 0\n",
      "Detected Drifts: [1374, 1375, 1376, 1377, 1378, 1379, 1380, 1381, 1382, 1383, 1384, 1385, 1386, 1387, 1388, 1389, 1390, 1391, 1392, 1393, 1394, 1395, 1396, 1397, 1398, 1399, 1400, 1401, 1402, 1403, 1404, 1405, 1406, 1407, 1408, 1409, 1410, 1411, 1412, 1413, 1414, 1415, 1416, 1417, 1418, 1419, 1420, 1421, 1422, 1423, 1424, 1425, 1426, 1427, 1428, 1429, 1430, 1431, 1432, 1433, 1434, 1435, 1436, 1437, 1438, 1439, 1440, 1441, 1442, 1443, 1444, 1445, 1446, 1447, 1448, 1449, 1450, 1451, 1452, 1453, 1454, 1455, 1456, 1457, 1458, 1459, 1460, 1461, 1462, 1463, 1464, 1465, 1466, 1467, 1468, 1469, 1470, 1471, 1472, 1473, 1474, 1475, 1476, 1477, 1478, 1479, 1480, 1481, 1482, 1483, 1484, 1485, 1486, 1487, 1488, 1489, 1490, 1491, 1492, 1493, 1494, 1495, 1496, 1497, 1498, 1499, 1500, 1501, 1502, 1503, 1504, 1505, 1506, 1507, 1508, 1509, 1510, 1511, 1512, 1513, 1514, 1515, 1516, 1517, 1518, 1519, 1520, 1521, 1522, 1523, 1524, 1525, 1526, 1527, 1528, 1529, 1530, 1531, 1532, 1533, 1534, 1535, 1536, 1537, 1538, 1539, 1540, 1541, 1542, 1543, 1544, 1545, 1546, 1547, 1548, 1549, 1550, 1551, 1552, 1553, 1554, 1555, 1556, 1557, 1558, 1559, 1560, 1561, 1562, 1563, 1564, 1565, 1566, 1567, 1568, 1569, 1570, 1571, 1572, 1573, 1574, 1575, 1576, 1577, 1578, 1579, 1580, 1581, 1582, 1583, 1584, 1585, 1586, 1587, 1588, 1589, 1590, 1591, 1592, 1593, 1594, 1595, 1596, 1597, 1598, 1599, 1600, 1601, 1602, 1603, 1604, 1605, 1606, 1607, 1608, 1609, 1610, 1611, 1612, 1613, 1614, 1615, 1616, 1617, 1618, 1619, 1620, 1621, 1622, 1623, 1624, 1625, 1626, 1627, 1628, 1629, 1630, 1631, 1632, 1633, 1634, 1635, 1636, 1637, 1638, 1639, 1640, 1641, 1642, 1643, 1644, 1645, 1646, 1647, 1648, 1649, 1650, 1651, 1652, 1653, 1654, 1655, 1656, 1657, 1658, 1659, 1660, 1661, 1662, 1663, 1664, 1665, 1666, 1667, 1668, 1669, 1670, 1671, 1672, 1673, 1674, 1675, 1676, 1677, 1678, 1679, 1680, 1681, 1682, 1683, 1684, 1685, 1686, 1687, 1688, 1689, 1690, 1691, 1692, 1693, 1694, 1695, 1696, 1697, 1698, 1699, 1700, 1701, 1702, 1703, 1704, 1705, 1706, 1707, 1708, 1709, 1710, 1711, 1712, 1713, 1714, 1715, 1716, 1717, 1718, 1719, 1720, 1721, 1722, 1723, 1724, 1725, 1726, 1727, 1728, 1729, 1730, 1731, 1732, 1733, 1734, 1735, 1736, 1737, 1738, 1739, 1740, 1741, 1742, 1743, 1744, 1745, 1746, 1747, 1748, 1749, 1750, 1751, 1752, 1753, 1754, 1755, 1756, 1757, 1758, 1759, 1760, 1761, 1762, 1763, 1764, 1765, 1766, 1767, 1768, 1769, 1770, 1771, 1772, 1773, 1774, 1775, 1776, 1777, 1778, 1779, 1780, 1781, 1782, 1783, 1784, 1785, 1786, 1787, 1788, 1789, 1790, 1791, 1792, 1793, 1794, 1795, 1796, 1797, 1798, 1799, 1800, 1801, 1802, 1803, 1804, 1805, 1806, 1807, 1808, 1809, 1810, 1811, 1812, 1813, 1814, 1815, 1816, 1817, 1818, 1819, 1820, 1821, 1822, 1823, 1824, 1825, 1826, 1827, 1828, 1829, 1830, 1831, 1832, 1833, 1834, 1835, 1836, 1837, 1838, 1839, 1840, 1841, 1842, 1843, 1844, 1845, 1846, 1847, 1848, 1849, 1850, 1851, 1852, 1853, 1854, 1855, 1856, 1857, 1858, 1859, 1860, 1861, 1862, 1863, 1864, 1865, 1866, 1867, 1868, 1869, 1870, 1871, 1872, 1873, 1874, 1875, 1876, 1877, 1878, 1879, 1880, 1881, 1882, 1883, 1884, 1885, 1886, 1887, 1888, 1889, 1890, 1891, 1892, 1893, 1894, 1895, 1896, 1897, 1898, 1899, 1900, 1901, 1902, 1903, 1904, 1905, 1906, 1907, 1908, 1909, 1910, 1911, 1912, 1913, 1914, 1915, 1916, 1917, 1918, 1919, 1920, 1921, 1922, 1923, 1924, 1925, 1926, 1927, 1928, 1929, 1930, 1931, 1932, 1933, 1934, 1935, 1936, 1937, 1938, 1939, 1940, 1941, 1942, 1943, 1944, 1945, 1946, 1947, 1948, 1949, 1950, 1951, 1952, 1953, 1954, 1955, 1956, 1957, 1958, 1959, 1960, 1961, 1962, 1963, 1964, 1965, 1966, 1967, 1968, 1969, 1970, 1971, 1972, 1973, 1974, 1975, 1976, 1977, 1978, 1979, 1980, 1981, 1982, 1983, 1984, 1985, 1986, 1987, 1988, 1989, 1990, 1991, 1992, 1993, 1994, 1995, 1996, 1997, 1998, 1999, 2000, 2001, 2002, 2003, 2004, 2005, 2006, 2007, 2008, 2009, 2010, 2011, 2012, 2013, 2014, 2015, 2016, 2017, 2018, 2019, 2020, 2021, 2022, 2023, 2024, 2025, 2026, 2027, 2028, 2029, 2030, 2031, 2032, 2033, 2034, 2035, 2036, 2037, 2038, 2039, 2040, 2041, 2042, 2043, 2044, 2045, 2046, 2047, 2048, 2049, 2050, 2051, 2052, 2053, 2054, 2055, 2056, 2057, 2058, 2059, 2060, 2061, 2062, 2063, 2064, 2065, 2066, 2067, 2068, 2069, 2070, 2071, 2072, 2073, 2074, 2075, 2076, 2077, 2078, 2079, 2080, 2081, 2082, 2083, 2084, 2085, 2086, 2087, 2088, 2089, 2090, 2091, 2092, 2093, 2094, 2095, 2096, 2097, 2098, 2099, 2100, 2101, 2102, 2103, 2104, 2105, 2106, 2107, 2108, 2109, 2110, 2111, 2112, 2113, 2114, 2115, 2116, 2117, 2118, 2119, 2120, 2121, 2122, 2123, 2124, 2125, 2126, 2127, 2128, 2129, 2130, 2131, 2132, 2133, 2134, 2135, 2136, 2137, 2138, 2139, 2140, 2141, 2142, 2143, 2144, 2145, 2146, 2147, 2148, 2149, 2150, 2151, 2152, 2153, 2154, 2155, 2156, 2157, 2158, 2159, 2160, 2161, 2162, 2163, 2164, 2165, 2166, 2167, 2168, 2169, 2170, 2171, 2172, 2173, 2174, 2175, 2176, 2177, 2178, 2179, 2180, 2181, 2182, 2183, 2184, 2185, 2186, 2187, 2188, 2189, 2190, 2191, 2192, 2193, 2194, 2195, 2196, 2197, 2198, 2199, 2200, 2201, 2202, 2203, 2204, 2205, 2206, 2207, 2208, 2209, 2210, 2211, 2212, 2213, 2214, 2215, 2216, 2217, 2218, 2219, 2220, 2221, 2222, 2223, 2224, 2225, 2226, 2227, 2228, 2229, 2230, 2231, 2232, 2233, 2234, 2235, 2236, 2237, 2238, 2239, 2240, 2241, 2242, 2243, 2244, 2245, 2246, 2247, 2248, 2249, 2250, 2251, 2252, 2253, 2254, 2255, 2256, 2257, 2258, 2259, 2260, 2261, 2262, 2263, 2264, 2265, 2266, 2267, 2268, 2269, 2270, 2271, 2272, 2273, 2274, 2275, 2276, 2277, 2278, 2279, 2280, 2281, 2282, 2283, 2284, 2285, 2286, 2287, 2288, 2289, 2290, 2291, 2292, 2293, 2294, 2295, 2296, 2297, 2298, 2299, 2300, 2301, 2302, 2303, 2304, 2305, 2306, 2307, 2308, 2309, 2310, 2311, 2312, 2313, 2314, 2315, 2316, 2317, 2318, 2319, 2320, 2321, 2322, 2323, 2324, 2325, 2326, 2327, 2328, 2329, 2330, 2331, 2332, 2333, 2334, 2335, 2336, 2337, 2338, 2339, 2340, 2341, 2342, 2343, 2344, 2345, 2346, 2347, 2348, 2349, 2350, 2351, 2352, 2353, 2354, 2355, 2356, 2357, 2358, 2359, 2360, 2361, 2362, 2363, 2364, 2365, 2366, 2367, 2368, 2369, 2370, 2371, 2372, 2373, 2374, 2375, 2376, 2377, 2378, 2379, 2380, 2381, 2382, 2383, 2384, 2385, 2386, 2387, 2388, 2389, 2390, 2391, 2392, 2393, 2394, 2395, 2396, 2397, 2398, 2399, 2400, 2401, 2402, 2403, 2404, 2405, 2406, 2407, 2408, 2409, 2410, 2411, 2412, 2413, 2414, 2415, 2416, 2417, 2418, 2419, 2420, 2421, 2422, 2423, 2424, 2425, 2426, 2427, 2428, 2429, 2430, 2431, 2432, 2433, 2434, 2435, 2436, 2437, 2438, 2439, 2440, 2441, 2442, 2443, 2444, 2445, 2446, 2447, 2448, 2449, 2450, 2451, 2452, 2453, 2454, 2455, 2456, 2457, 2458, 2459, 2460, 2461, 2462, 2463, 2464, 2465, 2466, 2467, 2468, 2469, 2470, 2471, 2472, 2473, 2474, 2475, 2476, 2477, 2478, 2479, 2480, 2481, 2482, 2483, 2484, 2485, 2486, 2487, 2488, 2489, 2490, 2491, 2492, 2493, 2494, 2495, 2496, 2497, 2498, 2499, 2500, 2501, 2502, 2503, 2504, 2505, 2506, 2507, 2508, 2509, 2510, 2511, 2512, 2513, 2514, 2515, 2516, 2517, 2518, 2519, 2520, 2521, 2522, 2523, 2524, 2525, 2526, 2527, 2528, 2529, 2530, 2531, 2532, 2533, 2534, 2535, 2536, 2537, 2538, 2539, 2540, 2541, 2542, 2543, 2544, 2545, 2546, 2547, 2548, 2549, 2550, 2551, 2552, 2553, 2554, 2555, 2556, 2557, 2558, 2559, 2560, 2561, 2562, 2563, 2564, 2565, 2566, 2567, 2568, 2569, 2570, 2571, 2572, 2573, 2574, 2575, 2576, 2577, 2578, 2579, 2580, 2581, 2582, 2583, 2584, 2585, 2586, 2587, 2588, 2589, 2590, 2591, 2592, 2593, 2594, 2595, 2596, 2597, 2598, 2599, 2600, 2601, 2602, 2603, 2604, 2605, 2606, 2607, 2608, 2609, 2610, 2611, 2612, 2613, 2614, 2615, 2616, 2617, 2618, 2619, 2620, 2621, 2622, 2623, 2624, 2625, 2626, 2627, 2628, 2629, 2630, 2631, 2632, 2633, 2634, 2635, 2636, 2637, 2638, 2639, 2640, 2641, 2642, 2643, 2644, 2645, 2646, 2647, 2648, 2649, 2650, 2651, 2652, 2653, 2654, 2655, 2656, 2657, 2658, 2659, 2660, 2661, 2662, 2663, 2664, 2665, 2666, 2667, 2668, 2669, 2670, 2671, 2672, 2673, 2674, 2675, 2676, 2677, 2678, 2679, 2680, 2681, 2682, 2683, 2684, 2685, 2686, 2687, 2688, 2689, 2690, 2691, 2692, 2693, 2694, 2695, 2696, 2697, 2698, 2699, 2700, 2701, 2702, 2703, 2704, 2705, 2706, 2707, 2708, 2709, 2710, 2711, 2712, 2713, 2714, 2715, 2716, 2717, 2718, 2719, 2720, 2721, 2722, 2723, 2724, 2725, 2726, 2727, 2728, 2729, 2730, 2731, 2732, 2733, 2734, 2735, 2736, 2737, 2738, 2739, 2740, 2741, 2742, 2743, 2744, 2745, 2746, 2747, 2748, 2749, 2750, 2751, 2752, 2753, 2754, 2755, 2756, 2757, 2758, 2759, 2760, 2761, 2762, 2763, 2764, 2765, 2766, 2767, 2768, 2769, 2770, 2771, 2772, 2773, 2774, 2775, 2776, 2777, 2778, 2779, 2780, 2781, 2782, 2783, 2784, 2785, 2786, 2787, 2788, 2789, 2790, 2791, 2792, 2793, 2794, 2795, 2796, 2797, 2798, 2799, 2800, 2801, 2802, 2803, 2804, 2805, 2806, 2807, 2808, 2809, 2810, 2811, 2812, 2813, 2814, 2815, 2816, 2817, 2818, 2819, 2820, 2821, 2822, 2823, 2824, 2825, 2826, 2827, 2828, 2829, 2830, 2831, 2832, 2833, 2834, 2835, 2836, 2837, 2838, 2839, 2840, 2841, 2842, 2843, 2844, 2845, 2846, 2847, 2848, 2849, 2850, 2851, 2852, 2853, 2854, 2855, 2856, 2857, 2858, 2859, 2860, 2861, 2862, 2863, 2864, 2865, 2866, 2867, 2868, 2869, 2870, 2871, 2872, 2873, 2874, 2875, 2876, 2877, 2878, 2879, 2880, 2881, 2882, 2883, 2884, 2885, 2886, 2887, 2888, 2889, 2890, 2891, 2892, 2893, 2894, 2895, 2896, 2897, 2898, 2899, 2900, 2901, 2902, 2903, 2904, 2905, 2906, 2907, 2908, 2909, 2910, 2911, 2912, 2913, 2914, 2915, 2916, 2917, 2918, 2919, 2920, 2921, 2922, 2923, 2924, 2925, 2926, 2927, 2928, 2929, 2930, 2931, 2932, 2933, 2934, 2935, 2936, 2937, 2938, 2939, 2940, 2941, 2942, 2943, 2944, 2945, 2946, 2947, 2948, 2949, 2950, 2951, 2952, 2953, 2954, 2955, 2956, 2957, 2958, 2959, 2960, 2961, 2962, 2963, 2964, 2965, 2966, 2967, 2968, 2969, 2970, 2971, 2972, 2973, 2974, 2975, 2976, 2977, 2978, 2979, 2980, 2981, 2982, 2983, 2984, 2985, 2986, 2987, 2988, 2989, 2990, 2991, 2992, 2993, 2994, 2995, 2996, 2997, 2998, 2999, 3000]\n",
      "\n"
     ]
    }
   ],
   "source": [
    "print(f\"False Alarm Rate: {false_alarm_rate:.2f}%\")\n",
    "print(f\"Detection Delay: {detection_delay}\")\n",
    "print(f\"Detected Drifts: {detected_drifts}\\n\")"
   ]
  },
  {
   "cell_type": "code",
   "execution_count": 705,
   "id": "ccc66a12-d2ee-43e5-b436-f165e85afa7e",
   "metadata": {},
   "outputs": [
    {
     "data": {
      "image/png": "[encoded data removed]",
      "text/plain": [
       "<Figure size 1400x700 with 1 Axes>"
      ]
     },
     "metadata": {},
     "output_type": "display_data"
    }
   ],
   "source": [
    "plot_errors(errors)"
   ]
  },
  {
   "cell_type": "code",
   "execution_count": 519,
   "id": "2024d11b-1a59-4f2c-aa8a-e9b05dc56d96",
   "metadata": {},
   "outputs": [
    {
     "data": {
      "image/png": "[encoded data removed]",
      "text/plain": [
       "<Figure size 1200x400 with 1 Axes>"
      ]
     },
     "metadata": {},
     "output_type": "display_data"
    }
   ],
   "source": [
    "plot_drift_indicators(b, detected_drifts, odp)"
   ]
  },
  {
   "cell_type": "code",
   "execution_count": 170,
   "id": "a5a125c6-1729-4fe3-9259-e995850a7122",
   "metadata": {},
   "outputs": [],
   "source": [
    "def optimize_drift_level(stream, pipeline,threshold,start,end,step_size,odp):\n",
    "    best_drift_level = None\n",
    "    best_false_alarm_rate = float('inf')\n",
    "    best_detection_delay = float('inf')\n",
    "    best_detected_drifts = []\n",
    "\n",
    "    \n",
    "    \n",
    "    # Test various drift levels\n",
    "    for drift_level in np.arange(start,end,step_size):  # Adjust drift level range and step as needed\n",
    "        detector = setup_ddm(drift_level-0.01,drift_level,30)\n",
    "        \n",
    "        X = stream.drop(columns='y').values\n",
    "        y = stream['y'].values\n",
    "        false_alarm_rate, detection_delay, errors, detected_drifts= process_stream(X, y, pipeline, detector, threshold, odp)\n",
    "\n",
    "        print(f\"Drift Level: {drift_level:.2f}\")\n",
    "        print(f\"Threshold: {threshold:.2f}\")\n",
    "        print(f\"False Alarm Rate: {false_alarm_rate:.2f}%\")\n",
    "        print(f\"Detection Delay: {detection_delay}\")\n",
    "        #print(f\"Detected Drifts: {detected_drifts}\\n\")\n",
    "\n",
    "        if false_alarm_rate < best_false_alarm_rate or (false_alarm_rate == best_false_alarm_rate and (detection_delay is None or detection_delay < best_detection_delay)):\n",
    "            best_drift_level = drift_level\n",
    "            best_false_alarm_rate = false_alarm_rate\n",
    "            best_detection_delay = detection_delay\n",
    "            best_detected_drifts = detected_drifts\n",
    "\n",
    "    print(f\"Best Drift Level: {best_drift_level}\")\n",
    "    print(f\"Best False Alarm Rate: {best_false_alarm_rate}\")\n",
    "    print(f\"Best Detection Delay: {best_detection_delay}\")\n",
    "    print(f\"Best Detected Drifts: {best_detected_drifts}\")\n",
    "    \n",
    "    return best_drift_level, best_false_alarm_rate, best_detection_delay, best_detected_drifts\n"
   ]
  },
  {
   "cell_type": "code",
   "execution_count": null,
   "id": "d7e6c315-8872-4c79-a698-b904311b374d",
   "metadata": {},
   "outputs": [],
   "source": []
  },
  {
   "cell_type": "code",
   "execution_count": 172,
   "id": "fc4d5f33-bef3-4192-9641-466b5c48e538",
   "metadata": {},
   "outputs": [],
   "source": [
    "start=0.05\n",
    "end=5.0\n",
    "step_size=0.1"
   ]
  },
  {
   "cell_type": "code",
   "execution_count": 174,
   "id": "58721cc0-3399-48e0-9c2a-bf2b77873d35",
   "metadata": {},
   "outputs": [
    {
     "name": "stdout",
     "output_type": "stream",
     "text": [
      "False Alarms: 626.00%\n",
      "1000\n",
      "Drift Level: 0.05\n",
      "Threshold: 50.00\n",
      "False Alarm Rate: 62.60%\n",
      "Detection Delay: 0\n",
      "False Alarms: 626.00%\n",
      "1000\n",
      "Drift Level: 0.15\n",
      "Threshold: 50.00\n",
      "False Alarm Rate: 62.60%\n",
      "Detection Delay: 0\n",
      "False Alarms: 626.00%\n",
      "1000\n",
      "Drift Level: 0.25\n",
      "Threshold: 50.00\n",
      "False Alarm Rate: 62.60%\n",
      "Detection Delay: 0\n",
      "False Alarms: 626.00%\n",
      "1000\n",
      "Drift Level: 0.35\n",
      "Threshold: 50.00\n",
      "False Alarm Rate: 62.60%\n",
      "Detection Delay: 0\n",
      "False Alarms: 626.00%\n",
      "1000\n",
      "Drift Level: 0.45\n",
      "Threshold: 50.00\n",
      "False Alarm Rate: 62.60%\n",
      "Detection Delay: 0\n",
      "False Alarms: 626.00%\n",
      "1000\n",
      "Drift Level: 0.55\n",
      "Threshold: 50.00\n",
      "False Alarm Rate: 62.60%\n",
      "Detection Delay: 0\n",
      "False Alarms: 626.00%\n",
      "1000\n",
      "Drift Level: 0.65\n",
      "Threshold: 50.00\n",
      "False Alarm Rate: 62.60%\n",
      "Detection Delay: 0\n",
      "False Alarms: 626.00%\n",
      "1000\n",
      "Drift Level: 0.75\n",
      "Threshold: 50.00\n",
      "False Alarm Rate: 62.60%\n",
      "Detection Delay: 0\n",
      "False Alarms: 626.00%\n",
      "1000\n",
      "Drift Level: 0.85\n",
      "Threshold: 50.00\n",
      "False Alarm Rate: 62.60%\n",
      "Detection Delay: 0\n",
      "False Alarms: 626.00%\n",
      "1000\n",
      "Drift Level: 0.95\n",
      "Threshold: 50.00\n",
      "False Alarm Rate: 62.60%\n",
      "Detection Delay: 0\n",
      "False Alarms: 626.00%\n",
      "1000\n",
      "Drift Level: 1.05\n",
      "Threshold: 50.00\n",
      "False Alarm Rate: 62.60%\n",
      "Detection Delay: 0\n",
      "False Alarms: 626.00%\n",
      "1000\n",
      "Drift Level: 1.15\n",
      "Threshold: 50.00\n",
      "False Alarm Rate: 62.60%\n",
      "Detection Delay: 0\n",
      "False Alarms: 626.00%\n",
      "1000\n",
      "Drift Level: 1.25\n",
      "Threshold: 50.00\n",
      "False Alarm Rate: 62.60%\n",
      "Detection Delay: 0\n",
      "False Alarms: 626.00%\n",
      "1000\n",
      "Drift Level: 1.35\n",
      "Threshold: 50.00\n",
      "False Alarm Rate: 62.60%\n",
      "Detection Delay: 0\n",
      "False Alarms: 626.00%\n",
      "1000\n",
      "Drift Level: 1.45\n",
      "Threshold: 50.00\n",
      "False Alarm Rate: 62.60%\n",
      "Detection Delay: 0\n",
      "False Alarms: 626.00%\n",
      "1000\n",
      "Drift Level: 1.55\n",
      "Threshold: 50.00\n",
      "False Alarm Rate: 62.60%\n",
      "Detection Delay: 0\n",
      "False Alarms: 626.00%\n",
      "1000\n",
      "Drift Level: 1.65\n",
      "Threshold: 50.00\n",
      "False Alarm Rate: 62.60%\n",
      "Detection Delay: 0\n",
      "False Alarms: 626.00%\n",
      "1000\n",
      "Drift Level: 1.75\n",
      "Threshold: 50.00\n",
      "False Alarm Rate: 62.60%\n",
      "Detection Delay: 0\n",
      "False Alarms: 626.00%\n",
      "1000\n",
      "Drift Level: 1.85\n",
      "Threshold: 50.00\n",
      "False Alarm Rate: 62.60%\n",
      "Detection Delay: 0\n",
      "False Alarms: 626.00%\n",
      "1000\n",
      "Drift Level: 1.95\n",
      "Threshold: 50.00\n",
      "False Alarm Rate: 62.60%\n",
      "Detection Delay: 0\n",
      "False Alarms: 626.00%\n",
      "1000\n",
      "Drift Level: 2.05\n",
      "Threshold: 50.00\n",
      "False Alarm Rate: 62.60%\n",
      "Detection Delay: 0\n",
      "False Alarms: 626.00%\n",
      "1000\n",
      "Drift Level: 2.15\n",
      "Threshold: 50.00\n",
      "False Alarm Rate: 62.60%\n",
      "Detection Delay: 0\n",
      "False Alarms: 626.00%\n",
      "1000\n",
      "Drift Level: 2.25\n",
      "Threshold: 50.00\n",
      "False Alarm Rate: 62.60%\n",
      "Detection Delay: 0\n",
      "False Alarms: 626.00%\n",
      "1000\n",
      "Drift Level: 2.35\n",
      "Threshold: 50.00\n",
      "False Alarm Rate: 62.60%\n",
      "Detection Delay: 0\n",
      "False Alarms: 626.00%\n",
      "1000\n",
      "Drift Level: 2.45\n",
      "Threshold: 50.00\n",
      "False Alarm Rate: 62.60%\n",
      "Detection Delay: 0\n",
      "False Alarms: 626.00%\n",
      "1000\n",
      "Drift Level: 2.55\n",
      "Threshold: 50.00\n",
      "False Alarm Rate: 62.60%\n",
      "Detection Delay: 0\n",
      "False Alarms: 626.00%\n",
      "1000\n",
      "Drift Level: 2.65\n",
      "Threshold: 50.00\n",
      "False Alarm Rate: 62.60%\n",
      "Detection Delay: 0\n",
      "False Alarms: 626.00%\n",
      "1000\n",
      "Drift Level: 2.75\n",
      "Threshold: 50.00\n",
      "False Alarm Rate: 62.60%\n",
      "Detection Delay: 0\n",
      "False Alarms: 626.00%\n",
      "1000\n",
      "Drift Level: 2.85\n",
      "Threshold: 50.00\n",
      "False Alarm Rate: 62.60%\n",
      "Detection Delay: 0\n",
      "False Alarms: 626.00%\n",
      "1000\n",
      "Drift Level: 2.95\n",
      "Threshold: 50.00\n",
      "False Alarm Rate: 62.60%\n",
      "Detection Delay: 0\n",
      "False Alarms: 626.00%\n",
      "1000\n",
      "Drift Level: 3.05\n",
      "Threshold: 50.00\n",
      "False Alarm Rate: 62.60%\n",
      "Detection Delay: 0\n",
      "False Alarms: 626.00%\n",
      "1000\n",
      "Drift Level: 3.15\n",
      "Threshold: 50.00\n",
      "False Alarm Rate: 62.60%\n",
      "Detection Delay: 0\n",
      "False Alarms: 626.00%\n",
      "1000\n",
      "Drift Level: 3.25\n",
      "Threshold: 50.00\n",
      "False Alarm Rate: 62.60%\n",
      "Detection Delay: 0\n",
      "False Alarms: 626.00%\n",
      "1000\n",
      "Drift Level: 3.35\n",
      "Threshold: 50.00\n",
      "False Alarm Rate: 62.60%\n",
      "Detection Delay: 0\n",
      "False Alarms: 626.00%\n",
      "1000\n",
      "Drift Level: 3.45\n",
      "Threshold: 50.00\n",
      "False Alarm Rate: 62.60%\n",
      "Detection Delay: 0\n",
      "False Alarms: 626.00%\n",
      "1000\n",
      "Drift Level: 3.55\n",
      "Threshold: 50.00\n",
      "False Alarm Rate: 62.60%\n",
      "Detection Delay: 0\n",
      "False Alarms: 626.00%\n",
      "1000\n",
      "Drift Level: 3.65\n",
      "Threshold: 50.00\n",
      "False Alarm Rate: 62.60%\n",
      "Detection Delay: 0\n",
      "False Alarms: 626.00%\n",
      "1000\n",
      "Drift Level: 3.75\n",
      "Threshold: 50.00\n",
      "False Alarm Rate: 62.60%\n",
      "Detection Delay: 0\n",
      "False Alarms: 626.00%\n",
      "1000\n",
      "Drift Level: 3.85\n",
      "Threshold: 50.00\n",
      "False Alarm Rate: 62.60%\n",
      "Detection Delay: 0\n",
      "False Alarms: 626.00%\n",
      "1000\n",
      "Drift Level: 3.95\n",
      "Threshold: 50.00\n",
      "False Alarm Rate: 62.60%\n",
      "Detection Delay: 0\n",
      "False Alarms: 626.00%\n",
      "1000\n",
      "Drift Level: 4.05\n",
      "Threshold: 50.00\n",
      "False Alarm Rate: 62.60%\n",
      "Detection Delay: 0\n",
      "False Alarms: 626.00%\n",
      "1000\n",
      "Drift Level: 4.15\n",
      "Threshold: 50.00\n",
      "False Alarm Rate: 62.60%\n",
      "Detection Delay: 0\n",
      "False Alarms: 626.00%\n",
      "1000\n",
      "Drift Level: 4.25\n",
      "Threshold: 50.00\n",
      "False Alarm Rate: 62.60%\n",
      "Detection Delay: 0\n",
      "False Alarms: 626.00%\n",
      "1000\n",
      "Drift Level: 4.35\n",
      "Threshold: 50.00\n",
      "False Alarm Rate: 62.60%\n",
      "Detection Delay: 0\n",
      "False Alarms: 626.00%\n",
      "1000\n",
      "Drift Level: 4.45\n",
      "Threshold: 50.00\n",
      "False Alarm Rate: 62.60%\n",
      "Detection Delay: 0\n",
      "False Alarms: 626.00%\n",
      "1000\n",
      "Drift Level: 4.55\n",
      "Threshold: 50.00\n",
      "False Alarm Rate: 62.60%\n",
      "Detection Delay: 0\n",
      "False Alarms: 626.00%\n",
      "1000\n",
      "Drift Level: 4.65\n",
      "Threshold: 50.00\n",
      "False Alarm Rate: 62.60%\n",
      "Detection Delay: 0\n",
      "False Alarms: 626.00%\n",
      "1000\n",
      "Drift Level: 4.75\n",
      "Threshold: 50.00\n",
      "False Alarm Rate: 62.60%\n",
      "Detection Delay: 0\n",
      "False Alarms: 626.00%\n",
      "1000\n",
      "Drift Level: 4.85\n",
      "Threshold: 50.00\n",
      "False Alarm Rate: 62.60%\n",
      "Detection Delay: 0\n",
      "False Alarms: 626.00%\n",
      "1000\n",
      "Drift Level: 4.95\n",
      "Threshold: 50.00\n",
      "False Alarm Rate: 62.60%\n",
      "Detection Delay: 0\n",
      "Best Drift Level: 0.05\n",
      "Best False Alarm Rate: 62.6\n",
      "Best Detection Delay: 0\n",
      "Best Detected Drifts: [1374, 1375, 1376, 1377, 1378, 1379, 1380, 1381, 1382, 1383, 1384, 1385, 1386, 1387, 1388, 1389, 1390, 1391, 1392, 1393, 1394, 1395, 1396, 1397, 1398, 1399, 1400, 1401, 1402, 1403, 1404, 1405, 1406, 1407, 1408, 1409, 1410, 1411, 1412, 1413, 1414, 1415, 1416, 1417, 1418, 1419, 1420, 1421, 1422, 1423, 1424, 1425, 1426, 1427, 1428, 1429, 1430, 1431, 1432, 1433, 1434, 1435, 1436, 1437, 1438, 1439, 1440, 1441, 1442, 1443, 1444, 1445, 1446, 1447, 1448, 1449, 1450, 1451, 1452, 1453, 1454, 1455, 1456, 1457, 1458, 1459, 1460, 1461, 1462, 1463, 1464, 1465, 1466, 1467, 1468, 1469, 1470, 1471, 1472, 1473, 1474, 1475, 1476, 1477, 1478, 1479, 1480, 1481, 1482, 1483, 1484, 1485, 1486, 1487, 1488, 1489, 1490, 1491, 1492, 1493, 1494, 1495, 1496, 1497, 1498, 1499, 1500, 1501, 1502, 1503, 1504, 1505, 1506, 1507, 1508, 1509, 1510, 1511, 1512, 1513, 1514, 1515, 1516, 1517, 1518, 1519, 1520, 1521, 1522, 1523, 1524, 1525, 1526, 1527, 1528, 1529, 1530, 1531, 1532, 1533, 1534, 1535, 1536, 1537, 1538, 1539, 1540, 1541, 1542, 1543, 1544, 1545, 1546, 1547, 1548, 1549, 1550, 1551, 1552, 1553, 1554, 1555, 1556, 1557, 1558, 1559, 1560, 1561, 1562, 1563, 1564, 1565, 1566, 1567, 1568, 1569, 1570, 1571, 1572, 1573, 1574, 1575, 1576, 1577, 1578, 1579, 1580, 1581, 1582, 1583, 1584, 1585, 1586, 1587, 1588, 1589, 1590, 1591, 1592, 1593, 1594, 1595, 1596, 1597, 1598, 1599, 1600, 1601, 1602, 1603, 1604, 1605, 1606, 1607, 1608, 1609, 1610, 1611, 1612, 1613, 1614, 1615, 1616, 1617, 1618, 1619, 1620, 1621, 1622, 1623, 1624, 1625, 1626, 1627, 1628, 1629, 1630, 1631, 1632, 1633, 1634, 1635, 1636, 1637, 1638, 1639, 1640, 1641, 1642, 1643, 1644, 1645, 1646, 1647, 1648, 1649, 1650, 1651, 1652, 1653, 1654, 1655, 1656, 1657, 1658, 1659, 1660, 1661, 1662, 1663, 1664, 1665, 1666, 1667, 1668, 1669, 1670, 1671, 1672, 1673, 1674, 1675, 1676, 1677, 1678, 1679, 1680, 1681, 1682, 1683, 1684, 1685, 1686, 1687, 1688, 1689, 1690, 1691, 1692, 1693, 1694, 1695, 1696, 1697, 1698, 1699, 1700, 1701, 1702, 1703, 1704, 1705, 1706, 1707, 1708, 1709, 1710, 1711, 1712, 1713, 1714, 1715, 1716, 1717, 1718, 1719, 1720, 1721, 1722, 1723, 1724, 1725, 1726, 1727, 1728, 1729, 1730, 1731, 1732, 1733, 1734, 1735, 1736, 1737, 1738, 1739, 1740, 1741, 1742, 1743, 1744, 1745, 1746, 1747, 1748, 1749, 1750, 1751, 1752, 1753, 1754, 1755, 1756, 1757, 1758, 1759, 1760, 1761, 1762, 1763, 1764, 1765, 1766, 1767, 1768, 1769, 1770, 1771, 1772, 1773, 1774, 1775, 1776, 1777, 1778, 1779, 1780, 1781, 1782, 1783, 1784, 1785, 1786, 1787, 1788, 1789, 1790, 1791, 1792, 1793, 1794, 1795, 1796, 1797, 1798, 1799, 1800, 1801, 1802, 1803, 1804, 1805, 1806, 1807, 1808, 1809, 1810, 1811, 1812, 1813, 1814, 1815, 1816, 1817, 1818, 1819, 1820, 1821, 1822, 1823, 1824, 1825, 1826, 1827, 1828, 1829, 1830, 1831, 1832, 1833, 1834, 1835, 1836, 1837, 1838, 1839, 1840, 1841, 1842, 1843, 1844, 1845, 1846, 1847, 1848, 1849, 1850, 1851, 1852, 1853, 1854, 1855, 1856, 1857, 1858, 1859, 1860, 1861, 1862, 1863, 1864, 1865, 1866, 1867, 1868, 1869, 1870, 1871, 1872, 1873, 1874, 1875, 1876, 1877, 1878, 1879, 1880, 1881, 1882, 1883, 1884, 1885, 1886, 1887, 1888, 1889, 1890, 1891, 1892, 1893, 1894, 1895, 1896, 1897, 1898, 1899, 1900, 1901, 1902, 1903, 1904, 1905, 1906, 1907, 1908, 1909, 1910, 1911, 1912, 1913, 1914, 1915, 1916, 1917, 1918, 1919, 1920, 1921, 1922, 1923, 1924, 1925, 1926, 1927, 1928, 1929, 1930, 1931, 1932, 1933, 1934, 1935, 1936, 1937, 1938, 1939, 1940, 1941, 1942, 1943, 1944, 1945, 1946, 1947, 1948, 1949, 1950, 1951, 1952, 1953, 1954, 1955, 1956, 1957, 1958, 1959, 1960, 1961, 1962, 1963, 1964, 1965, 1966, 1967, 1968, 1969, 1970, 1971, 1972, 1973, 1974, 1975, 1976, 1977, 1978, 1979, 1980, 1981, 1982, 1983, 1984, 1985, 1986, 1987, 1988, 1989, 1990, 1991, 1992, 1993, 1994, 1995, 1996, 1997, 1998, 1999, 2000, 2001, 2002, 2003, 2004, 2005, 2006, 2007, 2008, 2009, 2010, 2011, 2012, 2013, 2014, 2015, 2016, 2017, 2018, 2019, 2020, 2021, 2022, 2023, 2024, 2025, 2026, 2027, 2028, 2029, 2030, 2031, 2032, 2033, 2034, 2035, 2036, 2037, 2038, 2039, 2040, 2041, 2042, 2043, 2044, 2045, 2046, 2047, 2048, 2049, 2050, 2051, 2052, 2053, 2054, 2055, 2056, 2057, 2058, 2059, 2060, 2061, 2062, 2063, 2064, 2065, 2066, 2067, 2068, 2069, 2070, 2071, 2072, 2073, 2074, 2075, 2076, 2077, 2078, 2079, 2080, 2081, 2082, 2083, 2084, 2085, 2086, 2087, 2088, 2089, 2090, 2091, 2092, 2093, 2094, 2095, 2096, 2097, 2098, 2099, 2100, 2101, 2102, 2103, 2104, 2105, 2106, 2107, 2108, 2109, 2110, 2111, 2112, 2113, 2114, 2115, 2116, 2117, 2118, 2119, 2120, 2121, 2122, 2123, 2124, 2125, 2126, 2127, 2128, 2129, 2130, 2131, 2132, 2133, 2134, 2135, 2136, 2137, 2138, 2139, 2140, 2141, 2142, 2143, 2144, 2145, 2146, 2147, 2148, 2149, 2150, 2151, 2152, 2153, 2154, 2155, 2156, 2157, 2158, 2159, 2160, 2161, 2162, 2163, 2164, 2165, 2166, 2167, 2168, 2169, 2170, 2171, 2172, 2173, 2174, 2175, 2176, 2177, 2178, 2179, 2180, 2181, 2182, 2183, 2184, 2185, 2186, 2187, 2188, 2189, 2190, 2191, 2192, 2193, 2194, 2195, 2196, 2197, 2198, 2199, 2200, 2201, 2202, 2203, 2204, 2205, 2206, 2207, 2208, 2209, 2210, 2211, 2212, 2213, 2214, 2215, 2216, 2217, 2218, 2219, 2220, 2221, 2222, 2223, 2224, 2225, 2226, 2227, 2228, 2229, 2230, 2231, 2232, 2233, 2234, 2235, 2236, 2237, 2238, 2239, 2240, 2241, 2242, 2243, 2244, 2245, 2246, 2247, 2248, 2249, 2250, 2251, 2252, 2253, 2254, 2255, 2256, 2257, 2258, 2259, 2260, 2261, 2262, 2263, 2264, 2265, 2266, 2267, 2268, 2269, 2270, 2271, 2272, 2273, 2274, 2275, 2276, 2277, 2278, 2279, 2280, 2281, 2282, 2283, 2284, 2285, 2286, 2287, 2288, 2289, 2290, 2291, 2292, 2293, 2294, 2295, 2296, 2297, 2298, 2299, 2300, 2301, 2302, 2303, 2304, 2305, 2306, 2307, 2308, 2309, 2310, 2311, 2312, 2313, 2314, 2315, 2316, 2317, 2318, 2319, 2320, 2321, 2322, 2323, 2324, 2325, 2326, 2327, 2328, 2329, 2330, 2331, 2332, 2333, 2334, 2335, 2336, 2337, 2338, 2339, 2340, 2341, 2342, 2343, 2344, 2345, 2346, 2347, 2348, 2349, 2350, 2351, 2352, 2353, 2354, 2355, 2356, 2357, 2358, 2359, 2360, 2361, 2362, 2363, 2364, 2365, 2366, 2367, 2368, 2369, 2370, 2371, 2372, 2373, 2374, 2375, 2376, 2377, 2378, 2379, 2380, 2381, 2382, 2383, 2384, 2385, 2386, 2387, 2388, 2389, 2390, 2391, 2392, 2393, 2394, 2395, 2396, 2397, 2398, 2399, 2400, 2401, 2402, 2403, 2404, 2405, 2406, 2407, 2408, 2409, 2410, 2411, 2412, 2413, 2414, 2415, 2416, 2417, 2418, 2419, 2420, 2421, 2422, 2423, 2424, 2425, 2426, 2427, 2428, 2429, 2430, 2431, 2432, 2433, 2434, 2435, 2436, 2437, 2438, 2439, 2440, 2441, 2442, 2443, 2444, 2445, 2446, 2447, 2448, 2449, 2450, 2451, 2452, 2453, 2454, 2455, 2456, 2457, 2458, 2459, 2460, 2461, 2462, 2463, 2464, 2465, 2466, 2467, 2468, 2469, 2470, 2471, 2472, 2473, 2474, 2475, 2476, 2477, 2478, 2479, 2480, 2481, 2482, 2483, 2484, 2485, 2486, 2487, 2488, 2489, 2490, 2491, 2492, 2493, 2494, 2495, 2496, 2497, 2498, 2499, 2500, 2501, 2502, 2503, 2504, 2505, 2506, 2507, 2508, 2509, 2510, 2511, 2512, 2513, 2514, 2515, 2516, 2517, 2518, 2519, 2520, 2521, 2522, 2523, 2524, 2525, 2526, 2527, 2528, 2529, 2530, 2531, 2532, 2533, 2534, 2535, 2536, 2537, 2538, 2539, 2540, 2541, 2542, 2543, 2544, 2545, 2546, 2547, 2548, 2549, 2550, 2551, 2552, 2553, 2554, 2555, 2556, 2557, 2558, 2559, 2560, 2561, 2562, 2563, 2564, 2565, 2566, 2567, 2568, 2569, 2570, 2571, 2572, 2573, 2574, 2575, 2576, 2577, 2578, 2579, 2580, 2581, 2582, 2583, 2584, 2585, 2586, 2587, 2588, 2589, 2590, 2591, 2592, 2593, 2594, 2595, 2596, 2597, 2598, 2599, 2600, 2601, 2602, 2603, 2604, 2605, 2606, 2607, 2608, 2609, 2610, 2611, 2612, 2613, 2614, 2615, 2616, 2617, 2618, 2619, 2620, 2621, 2622, 2623, 2624, 2625, 2626, 2627, 2628, 2629, 2630, 2631, 2632, 2633, 2634, 2635, 2636, 2637, 2638, 2639, 2640, 2641, 2642, 2643, 2644, 2645, 2646, 2647, 2648, 2649, 2650, 2651, 2652, 2653, 2654, 2655, 2656, 2657, 2658, 2659, 2660, 2661, 2662, 2663, 2664, 2665, 2666, 2667, 2668, 2669, 2670, 2671, 2672, 2673, 2674, 2675, 2676, 2677, 2678, 2679, 2680, 2681, 2682, 2683, 2684, 2685, 2686, 2687, 2688, 2689, 2690, 2691, 2692, 2693, 2694, 2695, 2696, 2697, 2698, 2699, 2700, 2701, 2702, 2703, 2704, 2705, 2706, 2707, 2708, 2709, 2710, 2711, 2712, 2713, 2714, 2715, 2716, 2717, 2718, 2719, 2720, 2721, 2722, 2723, 2724, 2725, 2726, 2727, 2728, 2729, 2730, 2731, 2732, 2733, 2734, 2735, 2736, 2737, 2738, 2739, 2740, 2741, 2742, 2743, 2744, 2745, 2746, 2747, 2748, 2749, 2750, 2751, 2752, 2753, 2754, 2755, 2756, 2757, 2758, 2759, 2760, 2761, 2762, 2763, 2764, 2765, 2766, 2767, 2768, 2769, 2770, 2771, 2772, 2773, 2774, 2775, 2776, 2777, 2778, 2779, 2780, 2781, 2782, 2783, 2784, 2785, 2786, 2787, 2788, 2789, 2790, 2791, 2792, 2793, 2794, 2795, 2796, 2797, 2798, 2799, 2800, 2801, 2802, 2803, 2804, 2805, 2806, 2807, 2808, 2809, 2810, 2811, 2812, 2813, 2814, 2815, 2816, 2817, 2818, 2819, 2820, 2821, 2822, 2823, 2824, 2825, 2826, 2827, 2828, 2829, 2830, 2831, 2832, 2833, 2834, 2835, 2836, 2837, 2838, 2839, 2840, 2841, 2842, 2843, 2844, 2845, 2846, 2847, 2848, 2849, 2850, 2851, 2852, 2853, 2854, 2855, 2856, 2857, 2858, 2859, 2860, 2861, 2862, 2863, 2864, 2865, 2866, 2867, 2868, 2869, 2870, 2871, 2872, 2873, 2874, 2875, 2876, 2877, 2878, 2879, 2880, 2881, 2882, 2883, 2884, 2885, 2886, 2887, 2888, 2889, 2890, 2891, 2892, 2893, 2894, 2895, 2896, 2897, 2898, 2899, 2900, 2901, 2902, 2903, 2904, 2905, 2906, 2907, 2908, 2909, 2910, 2911, 2912, 2913, 2914, 2915, 2916, 2917, 2918, 2919, 2920, 2921, 2922, 2923, 2924, 2925, 2926, 2927, 2928, 2929, 2930, 2931, 2932, 2933, 2934, 2935, 2936, 2937, 2938, 2939, 2940, 2941, 2942, 2943, 2944, 2945, 2946, 2947, 2948, 2949, 2950, 2951, 2952, 2953, 2954, 2955, 2956, 2957, 2958, 2959, 2960, 2961, 2962, 2963, 2964, 2965, 2966, 2967, 2968, 2969, 2970, 2971, 2972, 2973, 2974, 2975, 2976, 2977, 2978, 2979, 2980, 2981, 2982, 2983, 2984, 2985, 2986, 2987, 2988, 2989, 2990, 2991, 2992, 2993, 2994, 2995, 2996, 2997, 2998, 2999, 3000]\n"
     ]
    }
   ],
   "source": [
    "best_drift_level, best_false_alarm_rate, best_detection_delay, best_detected_drifts=optimize_drift_level(stream, pipeline,threshold,start,end,step_size,odp)"
   ]
  },
  {
   "cell_type": "markdown",
   "id": "5754a7d2-3d24-480d-a967-64e46717dcba",
   "metadata": {},
   "source": [
    "### alpha - drift level EDDM"
   ]
  },
  {
   "cell_type": "code",
   "execution_count": 178,
   "id": "53f6b635-c12f-4dc4-9b88-2e3cc8c4c274",
   "metadata": {},
   "outputs": [],
   "source": [
    "def optimize_drift_level( X,y, pipeline,threshold,start,end,step_size,level=0.2,mm=30):\n",
    "    best_drift_level = None\n",
    "    best_false_alarm_rate = float('inf')\n",
    "    best_detection_delay = float('inf')\n",
    "    best_detected_drifts = []\n",
    "\n",
    "    \n",
    "    # Test various drift levels\n",
    "    for drift_level in np.arange(start,end,step_size):  # Adjust drift level range and step as needed\n",
    "        detector = setup_eddm(drift_level,drift_level-0.05,level,mm)\n",
    "        \n",
    "        \n",
    "        false_alarm_rate, detection_delay, errors, detected_drifts = process_stream(\n",
    "            X, y, pipeline, detector, threshold, odp=odp)\n",
    "\n",
    "        print(f\"Drift Level: {drift_level:.2f}\")\n",
    "        print(f\"Threshold: {threshold:.2f}\")\n",
    "        print(f\"False Alarm Rate: {false_alarm_rate:.2f}%\")\n",
    "        print(f\"Detection Delay: {detection_delay}\")\n",
    "        #print(f\"Detected Drifts: {detected_drifts}\\n\")\n",
    "\n",
    "        if detection_delay is None or detection_delay < best_detection_delay or (detection_delay == best_detection_delay and false_alarm_rate < best_false_alarm_rate ):\n",
    "            best_drift_level = drift_level\n",
    "            best_false_alarm_rate = false_alarm_rate\n",
    "            best_detection_delay = detection_delay\n",
    "            best_detected_drifts = detected_drifts\n",
    "\n",
    "    print(f\"Best Drift Level: {best_drift_level}\")\n",
    "    print(f\"Best False Alarm Rate: {best_false_alarm_rate}\")\n",
    "    print(f\"Best Detection Delay: {best_detection_delay}\")\n",
    "    print(f\"Best Detected Drifts: {best_detected_drifts}\")\n",
    "    \n",
    "    return best_drift_level, best_false_alarm_rate, best_detection_delay, best_detected_drifts\n"
   ]
  },
  {
   "cell_type": "code",
   "execution_count": 198,
   "id": "5391f6f5-f4a9-4582-b5f9-1b0e6158cf04",
   "metadata": {},
   "outputs": [],
   "source": [
    "start=0.75\n",
    "end=2.0\n",
    "step_size=0.05"
   ]
  },
  {
   "cell_type": "code",
   "execution_count": 202,
   "id": "64a41e6c-6a6f-4f63-97f6-e398c1355c63",
   "metadata": {},
   "outputs": [
    {
     "name": "stdout",
     "output_type": "stream",
     "text": [
      "False Alarms: 0.00%\n",
      "1000\n",
      "Drift Level: 0.75\n",
      "Threshold: 50.00\n",
      "False Alarm Rate: 0.00%\n",
      "Detection Delay: 132\n",
      "False Alarms: 0.00%\n",
      "1000\n",
      "Drift Level: 0.80\n",
      "Threshold: 50.00\n",
      "False Alarm Rate: 0.00%\n",
      "Detection Delay: 132\n",
      "False Alarms: 0.00%\n",
      "1000\n",
      "Drift Level: 0.85\n",
      "Threshold: 50.00\n",
      "False Alarm Rate: 0.00%\n",
      "Detection Delay: 132\n",
      "False Alarms: 0.00%\n",
      "1000\n",
      "Drift Level: 0.90\n",
      "Threshold: 50.00\n",
      "False Alarm Rate: 0.00%\n",
      "Detection Delay: 132\n",
      "False Alarms: 0.00%\n",
      "1000\n",
      "Drift Level: 0.95\n",
      "Threshold: 50.00\n",
      "False Alarm Rate: 0.00%\n",
      "Detection Delay: 132\n",
      "False Alarms: 0.00%\n",
      "1000\n",
      "Drift Level: 1.00\n",
      "Threshold: 50.00\n",
      "False Alarm Rate: 0.00%\n",
      "Detection Delay: 132\n",
      "False Alarms: 0.00%\n",
      "1000\n",
      "Drift Level: 1.05\n",
      "Threshold: 50.00\n",
      "False Alarm Rate: 0.00%\n",
      "Detection Delay: 132\n",
      "False Alarms: 0.00%\n",
      "1000\n",
      "Drift Level: 1.10\n",
      "Threshold: 50.00\n",
      "False Alarm Rate: 0.00%\n",
      "Detection Delay: 132\n",
      "False Alarms: 0.00%\n",
      "1000\n",
      "Drift Level: 1.15\n",
      "Threshold: 50.00\n",
      "False Alarm Rate: 0.00%\n",
      "Detection Delay: 132\n",
      "False Alarms: 0.00%\n",
      "1000\n",
      "Drift Level: 1.20\n",
      "Threshold: 50.00\n",
      "False Alarm Rate: 0.00%\n",
      "Detection Delay: 132\n",
      "False Alarms: 0.00%\n",
      "1000\n",
      "Drift Level: 1.25\n",
      "Threshold: 50.00\n",
      "False Alarm Rate: 0.00%\n",
      "Detection Delay: 132\n",
      "False Alarms: 0.00%\n",
      "1000\n",
      "Drift Level: 1.30\n",
      "Threshold: 50.00\n",
      "False Alarm Rate: 0.00%\n",
      "Detection Delay: 132\n",
      "False Alarms: 0.00%\n",
      "1000\n",
      "Drift Level: 1.35\n",
      "Threshold: 50.00\n",
      "False Alarm Rate: 0.00%\n",
      "Detection Delay: 132\n",
      "False Alarms: 0.00%\n",
      "1000\n",
      "Drift Level: 1.40\n",
      "Threshold: 50.00\n",
      "False Alarm Rate: 0.00%\n",
      "Detection Delay: 132\n",
      "False Alarms: 0.00%\n",
      "1000\n",
      "Drift Level: 1.45\n",
      "Threshold: 50.00\n",
      "False Alarm Rate: 0.00%\n",
      "Detection Delay: 132\n",
      "False Alarms: 0.00%\n",
      "1000\n",
      "Drift Level: 1.50\n",
      "Threshold: 50.00\n",
      "False Alarm Rate: 0.00%\n",
      "Detection Delay: 132\n",
      "False Alarms: 0.00%\n",
      "1000\n",
      "Drift Level: 1.55\n",
      "Threshold: 50.00\n",
      "False Alarm Rate: 0.00%\n",
      "Detection Delay: 132\n",
      "False Alarms: 0.00%\n",
      "1000\n",
      "Drift Level: 1.60\n",
      "Threshold: 50.00\n",
      "False Alarm Rate: 0.00%\n",
      "Detection Delay: 132\n",
      "False Alarms: 0.00%\n",
      "1000\n",
      "Drift Level: 1.65\n",
      "Threshold: 50.00\n",
      "False Alarm Rate: 0.00%\n",
      "Detection Delay: 132\n",
      "False Alarms: 0.00%\n",
      "1000\n",
      "Drift Level: 1.70\n",
      "Threshold: 50.00\n",
      "False Alarm Rate: 0.00%\n",
      "Detection Delay: 132\n",
      "False Alarms: 0.00%\n",
      "1000\n",
      "Drift Level: 1.75\n",
      "Threshold: 50.00\n",
      "False Alarm Rate: 0.00%\n",
      "Detection Delay: 132\n",
      "False Alarms: 0.00%\n",
      "1000\n",
      "Drift Level: 1.80\n",
      "Threshold: 50.00\n",
      "False Alarm Rate: 0.00%\n",
      "Detection Delay: 132\n",
      "False Alarms: 0.00%\n",
      "1000\n",
      "Drift Level: 1.85\n",
      "Threshold: 50.00\n",
      "False Alarm Rate: 0.00%\n",
      "Detection Delay: 132\n",
      "False Alarms: 0.00%\n",
      "1000\n",
      "Drift Level: 1.90\n",
      "Threshold: 50.00\n",
      "False Alarm Rate: 0.00%\n",
      "Detection Delay: 132\n",
      "False Alarms: 0.00%\n",
      "1000\n",
      "Drift Level: 1.95\n",
      "Threshold: 50.00\n",
      "False Alarm Rate: 0.00%\n",
      "Detection Delay: 132\n",
      "Best Drift Level: 0.75\n",
      "Best False Alarm Rate: 0.0\n",
      "Best Detection Delay: 132\n",
      "Best Detected Drifts: [2132, 2180, 2194, 2196, 2201, 2207, 2235, 2257, 2260, 2265, 2275, 2277, 2279, 2286, 2287, 2335, 2338, 2343, 2355, 2363, 2400, 2422, 2423, 2444, 2445, 2450, 2470, 2489, 2493, 2510, 2520, 2524, 2527, 2538, 2544, 2564, 2575, 2576, 2584, 2585, 2587, 2592, 2605, 2606, 2608, 2627, 2628, 2630, 2647, 2648, 2654, 2670, 2671, 2705, 2710, 2724, 2730, 2751, 2764, 2769, 2787, 2796, 2797, 2811, 2818, 2823, 2838, 2848, 2858, 2864, 2870, 2883, 2906, 2916, 2929, 2940, 2947, 2957, 2963, 2977, 2982, 2992, 2993, 2996]\n"
     ]
    }
   ],
   "source": [
    "best_drift_level, best_false_alarm_rate, best_detection_delay, best_detected_drifts=optimize_drift_level( X,y, pipeline,threshold,start,end,step_size,level=0.2,mm=30)"
   ]
  },
  {
   "cell_type": "code",
   "execution_count": null,
   "id": "918ad9f0-de85-4023-8f6c-0849ddfde59b",
   "metadata": {},
   "outputs": [],
   "source": []
  },
  {
   "cell_type": "code",
   "execution_count": null,
   "id": "4ba2b12c-e50b-461e-a821-40508d79ed86",
   "metadata": {},
   "outputs": [],
   "source": []
  }
 ],
 "metadata": {
  "kernelspec": {
   "display_name": "Python 3 (ipykernel)",
   "language": "python",
   "name": "python3"
  },
  "language_info": {
   "codemirror_mode": {
    "name": "ipython",
    "version": 3
   },
   "file_extension": ".py",
   "mimetype": "text/x-python",
   "name": "python",
   "nbconvert_exporter": "python",
   "pygments_lexer": "ipython3",
   "version": "3.12.3"
  }
 },
 "nbformat": 4,
 "nbformat_minor": 5
}
