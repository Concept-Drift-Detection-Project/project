{
 "cells": [
  {
   "cell_type": "markdown",
   "id": "b742eb79-e4b0-4ad0-9433-832d0f98d3a9",
   "metadata": {},
   "source": [
    "# **FriedmanDrift synthetic dataset with concept drifts.**"
   ]
  },
  {
   "cell_type": "markdown",
   "id": "17ecd373-450b-4478-9305-b5ca2ef9d704",
   "metadata": {},
   "source": [
    "### Import libraries"
   ]
  },
  {
   "cell_type": "code",
   "execution_count": 238,
   "id": "43a8a0a8-b022-492f-9ddc-3f6dc8807411",
   "metadata": {},
   "outputs": [],
   "source": [
    "import river\n",
    "from river import datasets\n",
    "from river import linear_model, tree\n",
    "from river import drift, metrics\n",
    "from river.datasets import synth\n",
    "import numpy as np\n",
    "import pandas as pd\n",
    "import matplotlib.pyplot as plt\n",
    "import seaborn as sns\n",
    "from sklearn.model_selection import train_test_split\n",
    "from sklearn.svm import SVR\n",
    "from sklearn.metrics import mean_squared_error\n",
    "from sklearn.metrics import mean_absolute_error\n",
    "from sklearn.metrics import r2_score\n",
    "from sklearn.linear_model import LinearRegression\n",
    "from sklearn.tree import DecisionTreeRegressor\n",
    "from sklearn.ensemble import RandomForestRegressor\n",
    "from sklearn.svm import SVR\n",
    "from sklearn.preprocessing import StandardScaler\n",
    "from frouros.metrics import PrequentialError\n",
    "from sklearn.pipeline import Pipeline\n",
    "from frouros.detectors.concept_drift.streaming.window_based.adwin import ADWIN\n",
    "from frouros.detectors.concept_drift import DDM, DDMConfig\n",
    "from frouros.detectors.concept_drift.streaming.statistical_process_control.ddm import DDM\n",
    "from frouros.detectors.concept_drift.streaming.statistical_process_control.eddm import EDDM\n",
    "from frouros.detectors.concept_drift.streaming.change_detection.page_hinkley import PageHinkley\n"
   ]
  },
  {
   "cell_type": "markdown",
   "id": "c0904738-684a-4aed-b3b6-b145efc3a91b",
   "metadata": {},
   "source": [
    "### Generate datasets"
   ]
  },
  {
   "cell_type": "code",
   "execution_count": 240,
   "id": "2ca1ead2-d66e-4eaf-b204-157b628cd562",
   "metadata": {},
   "outputs": [],
   "source": [
    "dataset = synth.FriedmanDrift(\n",
    "    drift_type='gra',\n",
    "    position=(2000, 3000),\n",
    "    seed=42\n",
    ")"
   ]
  },
  {
   "cell_type": "code",
   "execution_count": 241,
   "id": "d57259b6-2c7c-46e0-a0ed-d13574824178",
   "metadata": {},
   "outputs": [
    {
     "name": "stdout",
     "output_type": "stream",
     "text": [
      "[0.6394267984578837, 0.025010755222666936, 0.27502931836911926, 0.22321073814882275, 0.7364712141640124, 0.6766994874229113, 0.8921795677048454, 0.08693883262941615, 0.4219218196852704, 0.029797219438070344] 7.6612066799391085\n",
      "[0.026535969683863625, 0.1988376506866485, 0.6498844377795232, 0.5449414806032167, 0.2204406220406967, 0.5892656838759087, 0.8094304566778266, 0.006498759678061017, 0.8058192518328079, 0.6981393949882269] 8.330237325619887\n",
      "[0.3402505165179919, 0.15547949981178155, 0.9572130722067812, 0.33659454511262676, 0.09274584338014791, 0.09671637683346401, 0.8474943663474598, 0.6037260313668911, 0.8071282732743802, 0.7297317866938179] 7.044929465589236\n",
      "[0.3785343772083535, 0.552040631273227, 0.8294046642529949, 0.6185197523642461, 0.8617069003107772, 0.577352145256762, 0.7045718362149235, 0.045824383655662215, 0.22789827565154686, 0.28938796360210717] 18.160369621840488\n",
      "[0.0797919769236275, 0.23279088636103018, 0.10100142940972912, 0.2779736031100921, 0.6356844442644002, 0.36483217897008424, 0.37018096711688264, 0.2095070307714877, 0.26697782204911336, 0.936654587712494] 8.906077732719032\n"
     ]
    }
   ],
   "source": [
    "for x, y in dataset.take(5):\n",
    "    print(list(x.values()), y)"
   ]
  },
  {
   "cell_type": "code",
   "execution_count": 242,
   "id": "ed81d493-f074-4014-b6c8-e87d0e6365df",
   "metadata": {},
   "outputs": [],
   "source": [
    "# Initialize the data containers\n",
    "data = []\n",
    "for i, (x, y) in enumerate(dataset):\n",
    "    x_values = list(x.values())\n",
    "    data.append(x_values + [y])\n",
    "    if i >=3000:  # Limiting to 5000 samples for simplicity\n",
    "        break"
   ]
  },
  {
   "cell_type": "code",
   "execution_count": 243,
   "id": "98f28c05-5bfb-43d1-9d08-c9580d68a233",
   "metadata": {},
   "outputs": [],
   "source": [
    "# Define the column names\n",
    "column_names = [f'x{i}' for i in range(1, len(x_values) + 1)] + ['y']"
   ]
  },
  {
   "cell_type": "code",
   "execution_count": 244,
   "id": "4db25eed-3ce0-4a3a-be57-daed41aa456f",
   "metadata": {},
   "outputs": [],
   "source": [
    "# Create the DataFrame\n",
    "df = pd.DataFrame(data, columns=column_names)"
   ]
  },
  {
   "cell_type": "markdown",
   "id": "730bd26c-6137-4306-9e03-ef452e14a4ee",
   "metadata": {},
   "source": [
    "### Split the DataFrame into train and test sets"
   ]
  },
  {
   "cell_type": "code",
<<<<<<< Updated upstream
   "execution_count": 552,
=======
   "execution_count": 14,
>>>>>>> Stashed changes
   "id": "cfddaa5d-c951-4466-8117-f4c03d798572",
   "metadata": {},
   "outputs": [],
   "source": [
    "train = df.iloc[:1000]\n",
    "stream = df.iloc[1000:]"
   ]
  },
  {
   "cell_type": "code",
<<<<<<< Updated upstream
   "execution_count": 554,
=======
   "execution_count": 16,
>>>>>>> Stashed changes
   "id": "785aff0f-ccca-4b26-87e9-bf554ab32e22",
   "metadata": {},
   "outputs": [],
   "source": [
    "X_train = train.drop(columns='y').values\n",
    "y_train = train['y'].values"
   ]
  },
  {
   "cell_type": "markdown",
   "id": "f35d12c7-e92f-43e8-928b-c24a4f2ffe82",
   "metadata": {},
   "source": [
    "## Define and fit model"
   ]
  },
  {
   "cell_type": "markdown",
   "id": "d93f233c-965f-4f90-ab67-8f69691880a9",
   "metadata": {},
   "source": [
    "#### Linear Regressor"
   ]
  },
  {
   "cell_type": "code",
<<<<<<< Updated upstream
   "execution_count": 249,
   "id": "9c480420-4914-41ca-a723-453e8640bafb",
   "metadata": {},
=======
   "execution_count": 18,
   "id": "9c480420-4914-41ca-a723-453e8640bafb",
   "metadata": {},
   "outputs": [],
   "source": [
    "pipeline = Pipeline(\n",
    "    [\n",
    "        (\"scaler\", StandardScaler()),\n",
    "        (\"model\", LinearRegression()),\n",
    "    ]\n",
    ")\n"
   ]
  },
  {
   "cell_type": "markdown",
   "id": "cf32504f-b57e-4fc1-b62a-85ada21c453d",
   "metadata": {},
   "source": [
    "#### Decision Tree Regressor"
   ]
  },
  {
   "cell_type": "code",
   "execution_count": 28,
   "id": "774fbde5-6a46-42e9-95f4-49f0b27fb481",
   "metadata": {},
   "outputs": [],
   "source": [
    "pipeline = Pipeline(\n",
    "    [\n",
    "        (\"scaler\", StandardScaler()),  # Standardize features\n",
    "        (\"model\", DecisionTreeRegressor()),  # Use Decision Tree Regression model\n",
    "    ]\n",
    ")"
   ]
  },
  {
   "cell_type": "markdown",
   "id": "e93d957f-0964-4775-8feb-c2e869eda10a",
   "metadata": {},
   "source": [
    "#### RandomForest Regressor"
   ]
  },
  {
   "cell_type": "code",
   "execution_count": 395,
   "id": "a4a478dc-ebc7-4fbb-8300-3eba9aa6b5a7",
   "metadata": {},
   "outputs": [],
   "source": [
    "pipeline= Pipeline(\n",
    "    [\n",
    "        (\"scaler\", StandardScaler()),  # Standardize features\n",
    "        (\"model\", RandomForestRegressor()),  # Use Random Forest Regression model\n",
    "    ]\n",
    ")\n"
   ]
  },
  {
   "cell_type": "markdown",
   "id": "643a18ff-f4cf-471f-bc4f-d7d6cee34481",
   "metadata": {},
   "source": [
    "#### SVR"
   ]
  },
  {
   "cell_type": "code",
   "execution_count": 436,
   "id": "e92381dd-4b23-4585-b35d-26fda874f48b",
   "metadata": {},
   "outputs": [],
   "source": [
    "pipeline = Pipeline(\n",
    "    [\n",
    "        (\"scaler\", StandardScaler()),  # Step to standardize features\n",
    "        (\"model\", SVR())               # SVR model\n",
    "    ]\n",
    ")"
   ]
  },
  {
   "cell_type": "code",
   "execution_count": 20,
   "id": "e10e9878-1194-4948-bd38-9cc40bce76a1",
   "metadata": {},
>>>>>>> Stashed changes
   "outputs": [
    {
     "data": {
      "text/html": [
<<<<<<< Updated upstream
       "<style>#sk-container-id-3 {\n",
=======
       "<style>#sk-container-id-1 {\n",
>>>>>>> Stashed changes
       "  /* Definition of color scheme common for light and dark mode */\n",
       "  --sklearn-color-text: black;\n",
       "  --sklearn-color-line: gray;\n",
       "  /* Definition of color scheme for unfitted estimators */\n",
       "  --sklearn-color-unfitted-level-0: #fff5e6;\n",
       "  --sklearn-color-unfitted-level-1: #f6e4d2;\n",
       "  --sklearn-color-unfitted-level-2: #ffe0b3;\n",
       "  --sklearn-color-unfitted-level-3: chocolate;\n",
       "  /* Definition of color scheme for fitted estimators */\n",
       "  --sklearn-color-fitted-level-0: #f0f8ff;\n",
       "  --sklearn-color-fitted-level-1: #d4ebff;\n",
       "  --sklearn-color-fitted-level-2: #b3dbfd;\n",
       "  --sklearn-color-fitted-level-3: cornflowerblue;\n",
       "\n",
       "  /* Specific color for light theme */\n",
       "  --sklearn-color-text-on-default-background: var(--sg-text-color, var(--theme-code-foreground, var(--jp-content-font-color1, black)));\n",
       "  --sklearn-color-background: var(--sg-background-color, var(--theme-background, var(--jp-layout-color0, white)));\n",
       "  --sklearn-color-border-box: var(--sg-text-color, var(--theme-code-foreground, var(--jp-content-font-color1, black)));\n",
       "  --sklearn-color-icon: #696969;\n",
       "\n",
       "  @media (prefers-color-scheme: dark) {\n",
       "    /* Redefinition of color scheme for dark theme */\n",
       "    --sklearn-color-text-on-default-background: var(--sg-text-color, var(--theme-code-foreground, var(--jp-content-font-color1, white)));\n",
       "    --sklearn-color-background: var(--sg-background-color, var(--theme-background, var(--jp-layout-color0, #111)));\n",
       "    --sklearn-color-border-box: var(--sg-text-color, var(--theme-code-foreground, var(--jp-content-font-color1, white)));\n",
       "    --sklearn-color-icon: #878787;\n",
       "  }\n",
       "}\n",
       "\n",
<<<<<<< Updated upstream
       "#sk-container-id-3 {\n",
       "  color: var(--sklearn-color-text);\n",
       "}\n",
       "\n",
       "#sk-container-id-3 pre {\n",
       "  padding: 0;\n",
       "}\n",
       "\n",
       "#sk-container-id-3 input.sk-hidden--visually {\n",
=======
       "#sk-container-id-1 {\n",
       "  color: var(--sklearn-color-text);\n",
       "}\n",
       "\n",
       "#sk-container-id-1 pre {\n",
       "  padding: 0;\n",
       "}\n",
       "\n",
       "#sk-container-id-1 input.sk-hidden--visually {\n",
>>>>>>> Stashed changes
       "  border: 0;\n",
       "  clip: rect(1px 1px 1px 1px);\n",
       "  clip: rect(1px, 1px, 1px, 1px);\n",
       "  height: 1px;\n",
       "  margin: -1px;\n",
       "  overflow: hidden;\n",
       "  padding: 0;\n",
       "  position: absolute;\n",
       "  width: 1px;\n",
       "}\n",
       "\n",
<<<<<<< Updated upstream
       "#sk-container-id-3 div.sk-dashed-wrapped {\n",
=======
       "#sk-container-id-1 div.sk-dashed-wrapped {\n",
>>>>>>> Stashed changes
       "  border: 1px dashed var(--sklearn-color-line);\n",
       "  margin: 0 0.4em 0.5em 0.4em;\n",
       "  box-sizing: border-box;\n",
       "  padding-bottom: 0.4em;\n",
       "  background-color: var(--sklearn-color-background);\n",
       "}\n",
       "\n",
<<<<<<< Updated upstream
       "#sk-container-id-3 div.sk-container {\n",
=======
       "#sk-container-id-1 div.sk-container {\n",
>>>>>>> Stashed changes
       "  /* jupyter's `normalize.less` sets `[hidden] { display: none; }`\n",
       "     but bootstrap.min.css set `[hidden] { display: none !important; }`\n",
       "     so we also need the `!important` here to be able to override the\n",
       "     default hidden behavior on the sphinx rendered scikit-learn.org.\n",
       "     See: https://github.com/scikit-learn/scikit-learn/issues/21755 */\n",
       "  display: inline-block !important;\n",
       "  position: relative;\n",
       "}\n",
       "\n",
<<<<<<< Updated upstream
       "#sk-container-id-3 div.sk-text-repr-fallback {\n",
=======
       "#sk-container-id-1 div.sk-text-repr-fallback {\n",
>>>>>>> Stashed changes
       "  display: none;\n",
       "}\n",
       "\n",
       "div.sk-parallel-item,\n",
       "div.sk-serial,\n",
       "div.sk-item {\n",
       "  /* draw centered vertical line to link estimators */\n",
       "  background-image: linear-gradient(var(--sklearn-color-text-on-default-background), var(--sklearn-color-text-on-default-background));\n",
       "  background-size: 2px 100%;\n",
       "  background-repeat: no-repeat;\n",
       "  background-position: center center;\n",
       "}\n",
       "\n",
       "/* Parallel-specific style estimator block */\n",
       "\n",
<<<<<<< Updated upstream
       "#sk-container-id-3 div.sk-parallel-item::after {\n",
=======
       "#sk-container-id-1 div.sk-parallel-item::after {\n",
>>>>>>> Stashed changes
       "  content: \"\";\n",
       "  width: 100%;\n",
       "  border-bottom: 2px solid var(--sklearn-color-text-on-default-background);\n",
       "  flex-grow: 1;\n",
       "}\n",
       "\n",
<<<<<<< Updated upstream
       "#sk-container-id-3 div.sk-parallel {\n",
=======
       "#sk-container-id-1 div.sk-parallel {\n",
>>>>>>> Stashed changes
       "  display: flex;\n",
       "  align-items: stretch;\n",
       "  justify-content: center;\n",
       "  background-color: var(--sklearn-color-background);\n",
       "  position: relative;\n",
       "}\n",
       "\n",
<<<<<<< Updated upstream
       "#sk-container-id-3 div.sk-parallel-item {\n",
=======
       "#sk-container-id-1 div.sk-parallel-item {\n",
>>>>>>> Stashed changes
       "  display: flex;\n",
       "  flex-direction: column;\n",
       "}\n",
       "\n",
<<<<<<< Updated upstream
       "#sk-container-id-3 div.sk-parallel-item:first-child::after {\n",
=======
       "#sk-container-id-1 div.sk-parallel-item:first-child::after {\n",
>>>>>>> Stashed changes
       "  align-self: flex-end;\n",
       "  width: 50%;\n",
       "}\n",
       "\n",
<<<<<<< Updated upstream
       "#sk-container-id-3 div.sk-parallel-item:last-child::after {\n",
=======
       "#sk-container-id-1 div.sk-parallel-item:last-child::after {\n",
>>>>>>> Stashed changes
       "  align-self: flex-start;\n",
       "  width: 50%;\n",
       "}\n",
       "\n",
<<<<<<< Updated upstream
       "#sk-container-id-3 div.sk-parallel-item:only-child::after {\n",
=======
       "#sk-container-id-1 div.sk-parallel-item:only-child::after {\n",
>>>>>>> Stashed changes
       "  width: 0;\n",
       "}\n",
       "\n",
       "/* Serial-specific style estimator block */\n",
       "\n",
<<<<<<< Updated upstream
       "#sk-container-id-3 div.sk-serial {\n",
=======
       "#sk-container-id-1 div.sk-serial {\n",
>>>>>>> Stashed changes
       "  display: flex;\n",
       "  flex-direction: column;\n",
       "  align-items: center;\n",
       "  background-color: var(--sklearn-color-background);\n",
       "  padding-right: 1em;\n",
       "  padding-left: 1em;\n",
       "}\n",
       "\n",
       "\n",
       "/* Toggleable style: style used for estimator/Pipeline/ColumnTransformer box that is\n",
       "clickable and can be expanded/collapsed.\n",
       "- Pipeline and ColumnTransformer use this feature and define the default style\n",
       "- Estimators will overwrite some part of the style using the `sk-estimator` class\n",
       "*/\n",
       "\n",
       "/* Pipeline and ColumnTransformer style (default) */\n",
       "\n",
<<<<<<< Updated upstream
       "#sk-container-id-3 div.sk-toggleable {\n",
=======
       "#sk-container-id-1 div.sk-toggleable {\n",
>>>>>>> Stashed changes
       "  /* Default theme specific background. It is overwritten whether we have a\n",
       "  specific estimator or a Pipeline/ColumnTransformer */\n",
       "  background-color: var(--sklearn-color-background);\n",
       "}\n",
       "\n",
       "/* Toggleable label */\n",
<<<<<<< Updated upstream
       "#sk-container-id-3 label.sk-toggleable__label {\n",
=======
       "#sk-container-id-1 label.sk-toggleable__label {\n",
>>>>>>> Stashed changes
       "  cursor: pointer;\n",
       "  display: block;\n",
       "  width: 100%;\n",
       "  margin-bottom: 0;\n",
       "  padding: 0.5em;\n",
       "  box-sizing: border-box;\n",
       "  text-align: center;\n",
       "}\n",
       "\n",
<<<<<<< Updated upstream
       "#sk-container-id-3 label.sk-toggleable__label-arrow:before {\n",
=======
       "#sk-container-id-1 label.sk-toggleable__label-arrow:before {\n",
>>>>>>> Stashed changes
       "  /* Arrow on the left of the label */\n",
       "  content: \"▸\";\n",
       "  float: left;\n",
       "  margin-right: 0.25em;\n",
       "  color: var(--sklearn-color-icon);\n",
       "}\n",
       "\n",
<<<<<<< Updated upstream
       "#sk-container-id-3 label.sk-toggleable__label-arrow:hover:before {\n",
=======
       "#sk-container-id-1 label.sk-toggleable__label-arrow:hover:before {\n",
>>>>>>> Stashed changes
       "  color: var(--sklearn-color-text);\n",
       "}\n",
       "\n",
       "/* Toggleable content - dropdown */\n",
       "\n",
<<<<<<< Updated upstream
       "#sk-container-id-3 div.sk-toggleable__content {\n",
=======
       "#sk-container-id-1 div.sk-toggleable__content {\n",
>>>>>>> Stashed changes
       "  max-height: 0;\n",
       "  max-width: 0;\n",
       "  overflow: hidden;\n",
       "  text-align: left;\n",
       "  /* unfitted */\n",
       "  background-color: var(--sklearn-color-unfitted-level-0);\n",
       "}\n",
       "\n",
<<<<<<< Updated upstream
       "#sk-container-id-3 div.sk-toggleable__content.fitted {\n",
=======
       "#sk-container-id-1 div.sk-toggleable__content.fitted {\n",
>>>>>>> Stashed changes
       "  /* fitted */\n",
       "  background-color: var(--sklearn-color-fitted-level-0);\n",
       "}\n",
       "\n",
<<<<<<< Updated upstream
       "#sk-container-id-3 div.sk-toggleable__content pre {\n",
=======
       "#sk-container-id-1 div.sk-toggleable__content pre {\n",
>>>>>>> Stashed changes
       "  margin: 0.2em;\n",
       "  border-radius: 0.25em;\n",
       "  color: var(--sklearn-color-text);\n",
       "  /* unfitted */\n",
       "  background-color: var(--sklearn-color-unfitted-level-0);\n",
       "}\n",
       "\n",
<<<<<<< Updated upstream
       "#sk-container-id-3 div.sk-toggleable__content.fitted pre {\n",
=======
       "#sk-container-id-1 div.sk-toggleable__content.fitted pre {\n",
>>>>>>> Stashed changes
       "  /* unfitted */\n",
       "  background-color: var(--sklearn-color-fitted-level-0);\n",
       "}\n",
       "\n",
<<<<<<< Updated upstream
       "#sk-container-id-3 input.sk-toggleable__control:checked~div.sk-toggleable__content {\n",
=======
       "#sk-container-id-1 input.sk-toggleable__control:checked~div.sk-toggleable__content {\n",
>>>>>>> Stashed changes
       "  /* Expand drop-down */\n",
       "  max-height: 200px;\n",
       "  max-width: 100%;\n",
       "  overflow: auto;\n",
       "}\n",
       "\n",
<<<<<<< Updated upstream
       "#sk-container-id-3 input.sk-toggleable__control:checked~label.sk-toggleable__label-arrow:before {\n",
=======
       "#sk-container-id-1 input.sk-toggleable__control:checked~label.sk-toggleable__label-arrow:before {\n",
>>>>>>> Stashed changes
       "  content: \"▾\";\n",
       "}\n",
       "\n",
       "/* Pipeline/ColumnTransformer-specific style */\n",
       "\n",
<<<<<<< Updated upstream
       "#sk-container-id-3 div.sk-label input.sk-toggleable__control:checked~label.sk-toggleable__label {\n",
=======
       "#sk-container-id-1 div.sk-label input.sk-toggleable__control:checked~label.sk-toggleable__label {\n",
>>>>>>> Stashed changes
       "  color: var(--sklearn-color-text);\n",
       "  background-color: var(--sklearn-color-unfitted-level-2);\n",
       "}\n",
       "\n",
<<<<<<< Updated upstream
       "#sk-container-id-3 div.sk-label.fitted input.sk-toggleable__control:checked~label.sk-toggleable__label {\n",
=======
       "#sk-container-id-1 div.sk-label.fitted input.sk-toggleable__control:checked~label.sk-toggleable__label {\n",
>>>>>>> Stashed changes
       "  background-color: var(--sklearn-color-fitted-level-2);\n",
       "}\n",
       "\n",
       "/* Estimator-specific style */\n",
       "\n",
       "/* Colorize estimator box */\n",
<<<<<<< Updated upstream
       "#sk-container-id-3 div.sk-estimator input.sk-toggleable__control:checked~label.sk-toggleable__label {\n",
=======
       "#sk-container-id-1 div.sk-estimator input.sk-toggleable__control:checked~label.sk-toggleable__label {\n",
>>>>>>> Stashed changes
       "  /* unfitted */\n",
       "  background-color: var(--sklearn-color-unfitted-level-2);\n",
       "}\n",
       "\n",
<<<<<<< Updated upstream
       "#sk-container-id-3 div.sk-estimator.fitted input.sk-toggleable__control:checked~label.sk-toggleable__label {\n",
=======
       "#sk-container-id-1 div.sk-estimator.fitted input.sk-toggleable__control:checked~label.sk-toggleable__label {\n",
>>>>>>> Stashed changes
       "  /* fitted */\n",
       "  background-color: var(--sklearn-color-fitted-level-2);\n",
       "}\n",
       "\n",
<<<<<<< Updated upstream
       "#sk-container-id-3 div.sk-label label.sk-toggleable__label,\n",
       "#sk-container-id-3 div.sk-label label {\n",
=======
       "#sk-container-id-1 div.sk-label label.sk-toggleable__label,\n",
       "#sk-container-id-1 div.sk-label label {\n",
>>>>>>> Stashed changes
       "  /* The background is the default theme color */\n",
       "  color: var(--sklearn-color-text-on-default-background);\n",
       "}\n",
       "\n",
       "/* On hover, darken the color of the background */\n",
<<<<<<< Updated upstream
       "#sk-container-id-3 div.sk-label:hover label.sk-toggleable__label {\n",
=======
       "#sk-container-id-1 div.sk-label:hover label.sk-toggleable__label {\n",
>>>>>>> Stashed changes
       "  color: var(--sklearn-color-text);\n",
       "  background-color: var(--sklearn-color-unfitted-level-2);\n",
       "}\n",
       "\n",
       "/* Label box, darken color on hover, fitted */\n",
<<<<<<< Updated upstream
       "#sk-container-id-3 div.sk-label.fitted:hover label.sk-toggleable__label.fitted {\n",
=======
       "#sk-container-id-1 div.sk-label.fitted:hover label.sk-toggleable__label.fitted {\n",
>>>>>>> Stashed changes
       "  color: var(--sklearn-color-text);\n",
       "  background-color: var(--sklearn-color-fitted-level-2);\n",
       "}\n",
       "\n",
       "/* Estimator label */\n",
       "\n",
<<<<<<< Updated upstream
       "#sk-container-id-3 div.sk-label label {\n",
=======
       "#sk-container-id-1 div.sk-label label {\n",
>>>>>>> Stashed changes
       "  font-family: monospace;\n",
       "  font-weight: bold;\n",
       "  display: inline-block;\n",
       "  line-height: 1.2em;\n",
       "}\n",
       "\n",
<<<<<<< Updated upstream
       "#sk-container-id-3 div.sk-label-container {\n",
=======
       "#sk-container-id-1 div.sk-label-container {\n",
>>>>>>> Stashed changes
       "  text-align: center;\n",
       "}\n",
       "\n",
       "/* Estimator-specific */\n",
<<<<<<< Updated upstream
       "#sk-container-id-3 div.sk-estimator {\n",
=======
       "#sk-container-id-1 div.sk-estimator {\n",
>>>>>>> Stashed changes
       "  font-family: monospace;\n",
       "  border: 1px dotted var(--sklearn-color-border-box);\n",
       "  border-radius: 0.25em;\n",
       "  box-sizing: border-box;\n",
       "  margin-bottom: 0.5em;\n",
       "  /* unfitted */\n",
       "  background-color: var(--sklearn-color-unfitted-level-0);\n",
       "}\n",
       "\n",
<<<<<<< Updated upstream
       "#sk-container-id-3 div.sk-estimator.fitted {\n",
=======
       "#sk-container-id-1 div.sk-estimator.fitted {\n",
>>>>>>> Stashed changes
       "  /* fitted */\n",
       "  background-color: var(--sklearn-color-fitted-level-0);\n",
       "}\n",
       "\n",
       "/* on hover */\n",
<<<<<<< Updated upstream
       "#sk-container-id-3 div.sk-estimator:hover {\n",
=======
       "#sk-container-id-1 div.sk-estimator:hover {\n",
>>>>>>> Stashed changes
       "  /* unfitted */\n",
       "  background-color: var(--sklearn-color-unfitted-level-2);\n",
       "}\n",
       "\n",
<<<<<<< Updated upstream
       "#sk-container-id-3 div.sk-estimator.fitted:hover {\n",
=======
       "#sk-container-id-1 div.sk-estimator.fitted:hover {\n",
>>>>>>> Stashed changes
       "  /* fitted */\n",
       "  background-color: var(--sklearn-color-fitted-level-2);\n",
       "}\n",
       "\n",
       "/* Specification for estimator info (e.g. \"i\" and \"?\") */\n",
       "\n",
       "/* Common style for \"i\" and \"?\" */\n",
       "\n",
       ".sk-estimator-doc-link,\n",
       "a:link.sk-estimator-doc-link,\n",
       "a:visited.sk-estimator-doc-link {\n",
       "  float: right;\n",
       "  font-size: smaller;\n",
       "  line-height: 1em;\n",
       "  font-family: monospace;\n",
       "  background-color: var(--sklearn-color-background);\n",
       "  border-radius: 1em;\n",
       "  height: 1em;\n",
       "  width: 1em;\n",
       "  text-decoration: none !important;\n",
       "  margin-left: 1ex;\n",
       "  /* unfitted */\n",
       "  border: var(--sklearn-color-unfitted-level-1) 1pt solid;\n",
       "  color: var(--sklearn-color-unfitted-level-1);\n",
       "}\n",
       "\n",
       ".sk-estimator-doc-link.fitted,\n",
       "a:link.sk-estimator-doc-link.fitted,\n",
       "a:visited.sk-estimator-doc-link.fitted {\n",
       "  /* fitted */\n",
       "  border: var(--sklearn-color-fitted-level-1) 1pt solid;\n",
       "  color: var(--sklearn-color-fitted-level-1);\n",
       "}\n",
       "\n",
       "/* On hover */\n",
       "div.sk-estimator:hover .sk-estimator-doc-link:hover,\n",
       ".sk-estimator-doc-link:hover,\n",
       "div.sk-label-container:hover .sk-estimator-doc-link:hover,\n",
       ".sk-estimator-doc-link:hover {\n",
       "  /* unfitted */\n",
       "  background-color: var(--sklearn-color-unfitted-level-3);\n",
       "  color: var(--sklearn-color-background);\n",
       "  text-decoration: none;\n",
       "}\n",
       "\n",
       "div.sk-estimator.fitted:hover .sk-estimator-doc-link.fitted:hover,\n",
       ".sk-estimator-doc-link.fitted:hover,\n",
       "div.sk-label-container:hover .sk-estimator-doc-link.fitted:hover,\n",
       ".sk-estimator-doc-link.fitted:hover {\n",
       "  /* fitted */\n",
       "  background-color: var(--sklearn-color-fitted-level-3);\n",
       "  color: var(--sklearn-color-background);\n",
       "  text-decoration: none;\n",
       "}\n",
       "\n",
       "/* Span, style for the box shown on hovering the info icon */\n",
       ".sk-estimator-doc-link span {\n",
       "  display: none;\n",
       "  z-index: 9999;\n",
       "  position: relative;\n",
       "  font-weight: normal;\n",
       "  right: .2ex;\n",
       "  padding: .5ex;\n",
       "  margin: .5ex;\n",
       "  width: min-content;\n",
       "  min-width: 20ex;\n",
       "  max-width: 50ex;\n",
       "  color: var(--sklearn-color-text);\n",
       "  box-shadow: 2pt 2pt 4pt #999;\n",
       "  /* unfitted */\n",
       "  background: var(--sklearn-color-unfitted-level-0);\n",
       "  border: .5pt solid var(--sklearn-color-unfitted-level-3);\n",
       "}\n",
       "\n",
       ".sk-estimator-doc-link.fitted span {\n",
       "  /* fitted */\n",
       "  background: var(--sklearn-color-fitted-level-0);\n",
       "  border: var(--sklearn-color-fitted-level-3);\n",
       "}\n",
       "\n",
       ".sk-estimator-doc-link:hover span {\n",
       "  display: block;\n",
       "}\n",
       "\n",
       "/* \"?\"-specific style due to the `<a>` HTML tag */\n",
       "\n",
<<<<<<< Updated upstream
       "#sk-container-id-3 a.estimator_doc_link {\n",
=======
       "#sk-container-id-1 a.estimator_doc_link {\n",
>>>>>>> Stashed changes
       "  float: right;\n",
       "  font-size: 1rem;\n",
       "  line-height: 1em;\n",
       "  font-family: monospace;\n",
       "  background-color: var(--sklearn-color-background);\n",
       "  border-radius: 1rem;\n",
       "  height: 1rem;\n",
       "  width: 1rem;\n",
       "  text-decoration: none;\n",
       "  /* unfitted */\n",
       "  color: var(--sklearn-color-unfitted-level-1);\n",
       "  border: var(--sklearn-color-unfitted-level-1) 1pt solid;\n",
       "}\n",
       "\n",
<<<<<<< Updated upstream
       "#sk-container-id-3 a.estimator_doc_link.fitted {\n",
=======
       "#sk-container-id-1 a.estimator_doc_link.fitted {\n",
>>>>>>> Stashed changes
       "  /* fitted */\n",
       "  border: var(--sklearn-color-fitted-level-1) 1pt solid;\n",
       "  color: var(--sklearn-color-fitted-level-1);\n",
       "}\n",
       "\n",
       "/* On hover */\n",
<<<<<<< Updated upstream
       "#sk-container-id-3 a.estimator_doc_link:hover {\n",
=======
       "#sk-container-id-1 a.estimator_doc_link:hover {\n",
>>>>>>> Stashed changes
       "  /* unfitted */\n",
       "  background-color: var(--sklearn-color-unfitted-level-3);\n",
       "  color: var(--sklearn-color-background);\n",
       "  text-decoration: none;\n",
       "}\n",
       "\n",
<<<<<<< Updated upstream
       "#sk-container-id-3 a.estimator_doc_link.fitted:hover {\n",
       "  /* fitted */\n",
       "  background-color: var(--sklearn-color-fitted-level-3);\n",
       "}\n",
       "</style><div id=\"sk-container-id-3\" class=\"sk-top-container\"><div class=\"sk-text-repr-fallback\"><pre>Pipeline(steps=[(&#x27;scaler&#x27;, StandardScaler()), (&#x27;model&#x27;, LinearRegression())])</pre><b>In a Jupyter environment, please rerun this cell to show the HTML representation or trust the notebook. <br />On GitHub, the HTML representation is unable to render, please try loading this page with nbviewer.org.</b></div><div class=\"sk-container\" hidden><div class=\"sk-item sk-dashed-wrapped\"><div class=\"sk-label-container\"><div class=\"sk-label fitted sk-toggleable\"><input class=\"sk-toggleable__control sk-hidden--visually\" id=\"sk-estimator-id-7\" type=\"checkbox\" ><label for=\"sk-estimator-id-7\" class=\"sk-toggleable__label fitted sk-toggleable__label-arrow fitted\">&nbsp;&nbsp;Pipeline<a class=\"sk-estimator-doc-link fitted\" rel=\"noreferrer\" target=\"_blank\" href=\"https://scikit-learn.org/1.4/modules/generated/sklearn.pipeline.Pipeline.html\">?<span>Documentation for Pipeline</span></a><span class=\"sk-estimator-doc-link fitted\">i<span>Fitted</span></span></label><div class=\"sk-toggleable__content fitted\"><pre>Pipeline(steps=[(&#x27;scaler&#x27;, StandardScaler()), (&#x27;model&#x27;, LinearRegression())])</pre></div> </div></div><div class=\"sk-serial\"><div class=\"sk-item\"><div class=\"sk-estimator fitted sk-toggleable\"><input class=\"sk-toggleable__control sk-hidden--visually\" id=\"sk-estimator-id-8\" type=\"checkbox\" ><label for=\"sk-estimator-id-8\" class=\"sk-toggleable__label fitted sk-toggleable__label-arrow fitted\">&nbsp;StandardScaler<a class=\"sk-estimator-doc-link fitted\" rel=\"noreferrer\" target=\"_blank\" href=\"https://scikit-learn.org/1.4/modules/generated/sklearn.preprocessing.StandardScaler.html\">?<span>Documentation for StandardScaler</span></a></label><div class=\"sk-toggleable__content fitted\"><pre>StandardScaler()</pre></div> </div></div><div class=\"sk-item\"><div class=\"sk-estimator fitted sk-toggleable\"><input class=\"sk-toggleable__control sk-hidden--visually\" id=\"sk-estimator-id-9\" type=\"checkbox\" ><label for=\"sk-estimator-id-9\" class=\"sk-toggleable__label fitted sk-toggleable__label-arrow fitted\">&nbsp;LinearRegression<a class=\"sk-estimator-doc-link fitted\" rel=\"noreferrer\" target=\"_blank\" href=\"https://scikit-learn.org/1.4/modules/generated/sklearn.linear_model.LinearRegression.html\">?<span>Documentation for LinearRegression</span></a></label><div class=\"sk-toggleable__content fitted\"><pre>LinearRegression()</pre></div> </div></div></div></div></div></div>"
      ],
      "text/plain": [
       "Pipeline(steps=[('scaler', StandardScaler()), ('model', LinearRegression())])"
      ]
     },
     "execution_count": 249,
     "metadata": {},
     "output_type": "execute_result"
    }
   ],
   "source": [
    "pipeline = Pipeline(\n",
    "    [\n",
    "        (\"scaler\", StandardScaler()),\n",
    "        (\"model\", LinearRegression()),\n",
    "    ]\n",
    ")\n"
   ]
  },
  {
   "cell_type": "markdown",
   "id": "cf32504f-b57e-4fc1-b62a-85ada21c453d",
   "metadata": {},
   "source": [
    "#### Decision Tree Regressor"
   ]
  },
  {
   "cell_type": "code",
   "execution_count": 465,
   "id": "774fbde5-6a46-42e9-95f4-49f0b27fb481",
   "metadata": {},
   "outputs": [],
   "source": [
    "pipeline = Pipeline(\n",
    "    [\n",
    "        (\"scaler\", StandardScaler()),  # Standardize features\n",
    "        (\"model\", DecisionTreeRegressor()),  # Use Decision Tree Regression model\n",
    "    ]\n",
    ")"
   ]
  },
  {
   "cell_type": "markdown",
   "id": "e93d957f-0964-4775-8feb-c2e869eda10a",
   "metadata": {},
   "source": [
    "#### RandomForest Regressor"
   ]
  },
  {
   "cell_type": "code",
   "execution_count": 557,
   "id": "a4a478dc-ebc7-4fbb-8300-3eba9aa6b5a7",
   "metadata": {},
   "outputs": [],
   "source": [
    "pipeline_rf = Pipeline(\n",
    "    [\n",
    "        (\"scaler\", StandardScaler()),  # Standardize features\n",
    "        (\"model\", RandomForestRegressor()),  # Use Random Forest Regression model\n",
    "    ]\n",
    ")\n"
   ]
  },
  {
   "cell_type": "code",
   "execution_count": 559,
   "id": "e10e9878-1194-4948-bd38-9cc40bce76a1",
   "metadata": {},
   "outputs": [
    {
     "data": {
      "text/html": [
       "<style>#sk-container-id-5 {\n",
       "  /* Definition of color scheme common for light and dark mode */\n",
       "  --sklearn-color-text: black;\n",
       "  --sklearn-color-line: gray;\n",
       "  /* Definition of color scheme for unfitted estimators */\n",
       "  --sklearn-color-unfitted-level-0: #fff5e6;\n",
       "  --sklearn-color-unfitted-level-1: #f6e4d2;\n",
       "  --sklearn-color-unfitted-level-2: #ffe0b3;\n",
       "  --sklearn-color-unfitted-level-3: chocolate;\n",
       "  /* Definition of color scheme for fitted estimators */\n",
       "  --sklearn-color-fitted-level-0: #f0f8ff;\n",
       "  --sklearn-color-fitted-level-1: #d4ebff;\n",
       "  --sklearn-color-fitted-level-2: #b3dbfd;\n",
       "  --sklearn-color-fitted-level-3: cornflowerblue;\n",
       "\n",
       "  /* Specific color for light theme */\n",
       "  --sklearn-color-text-on-default-background: var(--sg-text-color, var(--theme-code-foreground, var(--jp-content-font-color1, black)));\n",
       "  --sklearn-color-background: var(--sg-background-color, var(--theme-background, var(--jp-layout-color0, white)));\n",
       "  --sklearn-color-border-box: var(--sg-text-color, var(--theme-code-foreground, var(--jp-content-font-color1, black)));\n",
       "  --sklearn-color-icon: #696969;\n",
       "\n",
       "  @media (prefers-color-scheme: dark) {\n",
       "    /* Redefinition of color scheme for dark theme */\n",
       "    --sklearn-color-text-on-default-background: var(--sg-text-color, var(--theme-code-foreground, var(--jp-content-font-color1, white)));\n",
       "    --sklearn-color-background: var(--sg-background-color, var(--theme-background, var(--jp-layout-color0, #111)));\n",
       "    --sklearn-color-border-box: var(--sg-text-color, var(--theme-code-foreground, var(--jp-content-font-color1, white)));\n",
       "    --sklearn-color-icon: #878787;\n",
       "  }\n",
       "}\n",
       "\n",
       "#sk-container-id-5 {\n",
       "  color: var(--sklearn-color-text);\n",
       "}\n",
       "\n",
       "#sk-container-id-5 pre {\n",
       "  padding: 0;\n",
       "}\n",
       "\n",
       "#sk-container-id-5 input.sk-hidden--visually {\n",
       "  border: 0;\n",
       "  clip: rect(1px 1px 1px 1px);\n",
       "  clip: rect(1px, 1px, 1px, 1px);\n",
       "  height: 1px;\n",
       "  margin: -1px;\n",
       "  overflow: hidden;\n",
       "  padding: 0;\n",
       "  position: absolute;\n",
       "  width: 1px;\n",
       "}\n",
       "\n",
       "#sk-container-id-5 div.sk-dashed-wrapped {\n",
       "  border: 1px dashed var(--sklearn-color-line);\n",
       "  margin: 0 0.4em 0.5em 0.4em;\n",
       "  box-sizing: border-box;\n",
       "  padding-bottom: 0.4em;\n",
       "  background-color: var(--sklearn-color-background);\n",
       "}\n",
       "\n",
       "#sk-container-id-5 div.sk-container {\n",
       "  /* jupyter's `normalize.less` sets `[hidden] { display: none; }`\n",
       "     but bootstrap.min.css set `[hidden] { display: none !important; }`\n",
       "     so we also need the `!important` here to be able to override the\n",
       "     default hidden behavior on the sphinx rendered scikit-learn.org.\n",
       "     See: https://github.com/scikit-learn/scikit-learn/issues/21755 */\n",
       "  display: inline-block !important;\n",
       "  position: relative;\n",
       "}\n",
       "\n",
       "#sk-container-id-5 div.sk-text-repr-fallback {\n",
       "  display: none;\n",
       "}\n",
       "\n",
       "div.sk-parallel-item,\n",
       "div.sk-serial,\n",
       "div.sk-item {\n",
       "  /* draw centered vertical line to link estimators */\n",
       "  background-image: linear-gradient(var(--sklearn-color-text-on-default-background), var(--sklearn-color-text-on-default-background));\n",
       "  background-size: 2px 100%;\n",
       "  background-repeat: no-repeat;\n",
       "  background-position: center center;\n",
       "}\n",
       "\n",
       "/* Parallel-specific style estimator block */\n",
       "\n",
       "#sk-container-id-5 div.sk-parallel-item::after {\n",
       "  content: \"\";\n",
       "  width: 100%;\n",
       "  border-bottom: 2px solid var(--sklearn-color-text-on-default-background);\n",
       "  flex-grow: 1;\n",
       "}\n",
       "\n",
       "#sk-container-id-5 div.sk-parallel {\n",
       "  display: flex;\n",
       "  align-items: stretch;\n",
       "  justify-content: center;\n",
       "  background-color: var(--sklearn-color-background);\n",
       "  position: relative;\n",
       "}\n",
       "\n",
       "#sk-container-id-5 div.sk-parallel-item {\n",
       "  display: flex;\n",
       "  flex-direction: column;\n",
       "}\n",
       "\n",
       "#sk-container-id-5 div.sk-parallel-item:first-child::after {\n",
       "  align-self: flex-end;\n",
       "  width: 50%;\n",
       "}\n",
       "\n",
       "#sk-container-id-5 div.sk-parallel-item:last-child::after {\n",
       "  align-self: flex-start;\n",
       "  width: 50%;\n",
       "}\n",
       "\n",
       "#sk-container-id-5 div.sk-parallel-item:only-child::after {\n",
       "  width: 0;\n",
       "}\n",
       "\n",
       "/* Serial-specific style estimator block */\n",
       "\n",
       "#sk-container-id-5 div.sk-serial {\n",
       "  display: flex;\n",
       "  flex-direction: column;\n",
       "  align-items: center;\n",
       "  background-color: var(--sklearn-color-background);\n",
       "  padding-right: 1em;\n",
       "  padding-left: 1em;\n",
       "}\n",
       "\n",
       "\n",
       "/* Toggleable style: style used for estimator/Pipeline/ColumnTransformer box that is\n",
       "clickable and can be expanded/collapsed.\n",
       "- Pipeline and ColumnTransformer use this feature and define the default style\n",
       "- Estimators will overwrite some part of the style using the `sk-estimator` class\n",
       "*/\n",
       "\n",
       "/* Pipeline and ColumnTransformer style (default) */\n",
       "\n",
       "#sk-container-id-5 div.sk-toggleable {\n",
       "  /* Default theme specific background. It is overwritten whether we have a\n",
       "  specific estimator or a Pipeline/ColumnTransformer */\n",
       "  background-color: var(--sklearn-color-background);\n",
       "}\n",
       "\n",
       "/* Toggleable label */\n",
       "#sk-container-id-5 label.sk-toggleable__label {\n",
       "  cursor: pointer;\n",
       "  display: block;\n",
       "  width: 100%;\n",
       "  margin-bottom: 0;\n",
       "  padding: 0.5em;\n",
       "  box-sizing: border-box;\n",
       "  text-align: center;\n",
       "}\n",
       "\n",
       "#sk-container-id-5 label.sk-toggleable__label-arrow:before {\n",
       "  /* Arrow on the left of the label */\n",
       "  content: \"▸\";\n",
       "  float: left;\n",
       "  margin-right: 0.25em;\n",
       "  color: var(--sklearn-color-icon);\n",
       "}\n",
       "\n",
       "#sk-container-id-5 label.sk-toggleable__label-arrow:hover:before {\n",
       "  color: var(--sklearn-color-text);\n",
       "}\n",
       "\n",
       "/* Toggleable content - dropdown */\n",
       "\n",
       "#sk-container-id-5 div.sk-toggleable__content {\n",
       "  max-height: 0;\n",
       "  max-width: 0;\n",
       "  overflow: hidden;\n",
       "  text-align: left;\n",
       "  /* unfitted */\n",
       "  background-color: var(--sklearn-color-unfitted-level-0);\n",
       "}\n",
       "\n",
       "#sk-container-id-5 div.sk-toggleable__content.fitted {\n",
       "  /* fitted */\n",
       "  background-color: var(--sklearn-color-fitted-level-0);\n",
       "}\n",
       "\n",
       "#sk-container-id-5 div.sk-toggleable__content pre {\n",
       "  margin: 0.2em;\n",
       "  border-radius: 0.25em;\n",
       "  color: var(--sklearn-color-text);\n",
       "  /* unfitted */\n",
       "  background-color: var(--sklearn-color-unfitted-level-0);\n",
       "}\n",
       "\n",
       "#sk-container-id-5 div.sk-toggleable__content.fitted pre {\n",
       "  /* unfitted */\n",
       "  background-color: var(--sklearn-color-fitted-level-0);\n",
       "}\n",
       "\n",
       "#sk-container-id-5 input.sk-toggleable__control:checked~div.sk-toggleable__content {\n",
       "  /* Expand drop-down */\n",
       "  max-height: 200px;\n",
       "  max-width: 100%;\n",
       "  overflow: auto;\n",
       "}\n",
       "\n",
       "#sk-container-id-5 input.sk-toggleable__control:checked~label.sk-toggleable__label-arrow:before {\n",
       "  content: \"▾\";\n",
       "}\n",
       "\n",
       "/* Pipeline/ColumnTransformer-specific style */\n",
       "\n",
       "#sk-container-id-5 div.sk-label input.sk-toggleable__control:checked~label.sk-toggleable__label {\n",
       "  color: var(--sklearn-color-text);\n",
       "  background-color: var(--sklearn-color-unfitted-level-2);\n",
       "}\n",
       "\n",
       "#sk-container-id-5 div.sk-label.fitted input.sk-toggleable__control:checked~label.sk-toggleable__label {\n",
       "  background-color: var(--sklearn-color-fitted-level-2);\n",
       "}\n",
       "\n",
       "/* Estimator-specific style */\n",
       "\n",
       "/* Colorize estimator box */\n",
       "#sk-container-id-5 div.sk-estimator input.sk-toggleable__control:checked~label.sk-toggleable__label {\n",
       "  /* unfitted */\n",
       "  background-color: var(--sklearn-color-unfitted-level-2);\n",
       "}\n",
       "\n",
       "#sk-container-id-5 div.sk-estimator.fitted input.sk-toggleable__control:checked~label.sk-toggleable__label {\n",
       "  /* fitted */\n",
       "  background-color: var(--sklearn-color-fitted-level-2);\n",
       "}\n",
       "\n",
       "#sk-container-id-5 div.sk-label label.sk-toggleable__label,\n",
       "#sk-container-id-5 div.sk-label label {\n",
       "  /* The background is the default theme color */\n",
       "  color: var(--sklearn-color-text-on-default-background);\n",
       "}\n",
       "\n",
       "/* On hover, darken the color of the background */\n",
       "#sk-container-id-5 div.sk-label:hover label.sk-toggleable__label {\n",
       "  color: var(--sklearn-color-text);\n",
       "  background-color: var(--sklearn-color-unfitted-level-2);\n",
       "}\n",
       "\n",
       "/* Label box, darken color on hover, fitted */\n",
       "#sk-container-id-5 div.sk-label.fitted:hover label.sk-toggleable__label.fitted {\n",
       "  color: var(--sklearn-color-text);\n",
       "  background-color: var(--sklearn-color-fitted-level-2);\n",
       "}\n",
       "\n",
       "/* Estimator label */\n",
       "\n",
       "#sk-container-id-5 div.sk-label label {\n",
       "  font-family: monospace;\n",
       "  font-weight: bold;\n",
       "  display: inline-block;\n",
       "  line-height: 1.2em;\n",
       "}\n",
       "\n",
       "#sk-container-id-5 div.sk-label-container {\n",
       "  text-align: center;\n",
       "}\n",
       "\n",
       "/* Estimator-specific */\n",
       "#sk-container-id-5 div.sk-estimator {\n",
       "  font-family: monospace;\n",
       "  border: 1px dotted var(--sklearn-color-border-box);\n",
       "  border-radius: 0.25em;\n",
       "  box-sizing: border-box;\n",
       "  margin-bottom: 0.5em;\n",
       "  /* unfitted */\n",
       "  background-color: var(--sklearn-color-unfitted-level-0);\n",
       "}\n",
       "\n",
       "#sk-container-id-5 div.sk-estimator.fitted {\n",
       "  /* fitted */\n",
       "  background-color: var(--sklearn-color-fitted-level-0);\n",
       "}\n",
       "\n",
       "/* on hover */\n",
       "#sk-container-id-5 div.sk-estimator:hover {\n",
       "  /* unfitted */\n",
       "  background-color: var(--sklearn-color-unfitted-level-2);\n",
       "}\n",
       "\n",
       "#sk-container-id-5 div.sk-estimator.fitted:hover {\n",
       "  /* fitted */\n",
       "  background-color: var(--sklearn-color-fitted-level-2);\n",
       "}\n",
       "\n",
       "/* Specification for estimator info (e.g. \"i\" and \"?\") */\n",
       "\n",
       "/* Common style for \"i\" and \"?\" */\n",
       "\n",
       ".sk-estimator-doc-link,\n",
       "a:link.sk-estimator-doc-link,\n",
       "a:visited.sk-estimator-doc-link {\n",
       "  float: right;\n",
       "  font-size: smaller;\n",
       "  line-height: 1em;\n",
       "  font-family: monospace;\n",
       "  background-color: var(--sklearn-color-background);\n",
       "  border-radius: 1em;\n",
       "  height: 1em;\n",
       "  width: 1em;\n",
       "  text-decoration: none !important;\n",
       "  margin-left: 1ex;\n",
       "  /* unfitted */\n",
       "  border: var(--sklearn-color-unfitted-level-1) 1pt solid;\n",
       "  color: var(--sklearn-color-unfitted-level-1);\n",
       "}\n",
       "\n",
       ".sk-estimator-doc-link.fitted,\n",
       "a:link.sk-estimator-doc-link.fitted,\n",
       "a:visited.sk-estimator-doc-link.fitted {\n",
       "  /* fitted */\n",
       "  border: var(--sklearn-color-fitted-level-1) 1pt solid;\n",
       "  color: var(--sklearn-color-fitted-level-1);\n",
       "}\n",
       "\n",
       "/* On hover */\n",
       "div.sk-estimator:hover .sk-estimator-doc-link:hover,\n",
       ".sk-estimator-doc-link:hover,\n",
       "div.sk-label-container:hover .sk-estimator-doc-link:hover,\n",
       ".sk-estimator-doc-link:hover {\n",
       "  /* unfitted */\n",
       "  background-color: var(--sklearn-color-unfitted-level-3);\n",
       "  color: var(--sklearn-color-background);\n",
       "  text-decoration: none;\n",
       "}\n",
       "\n",
       "div.sk-estimator.fitted:hover .sk-estimator-doc-link.fitted:hover,\n",
       ".sk-estimator-doc-link.fitted:hover,\n",
       "div.sk-label-container:hover .sk-estimator-doc-link.fitted:hover,\n",
       ".sk-estimator-doc-link.fitted:hover {\n",
       "  /* fitted */\n",
       "  background-color: var(--sklearn-color-fitted-level-3);\n",
       "  color: var(--sklearn-color-background);\n",
       "  text-decoration: none;\n",
       "}\n",
       "\n",
       "/* Span, style for the box shown on hovering the info icon */\n",
       ".sk-estimator-doc-link span {\n",
       "  display: none;\n",
       "  z-index: 9999;\n",
       "  position: relative;\n",
       "  font-weight: normal;\n",
       "  right: .2ex;\n",
       "  padding: .5ex;\n",
       "  margin: .5ex;\n",
       "  width: min-content;\n",
       "  min-width: 20ex;\n",
       "  max-width: 50ex;\n",
       "  color: var(--sklearn-color-text);\n",
       "  box-shadow: 2pt 2pt 4pt #999;\n",
       "  /* unfitted */\n",
       "  background: var(--sklearn-color-unfitted-level-0);\n",
       "  border: .5pt solid var(--sklearn-color-unfitted-level-3);\n",
       "}\n",
       "\n",
       ".sk-estimator-doc-link.fitted span {\n",
       "  /* fitted */\n",
       "  background: var(--sklearn-color-fitted-level-0);\n",
       "  border: var(--sklearn-color-fitted-level-3);\n",
       "}\n",
       "\n",
       ".sk-estimator-doc-link:hover span {\n",
       "  display: block;\n",
       "}\n",
       "\n",
       "/* \"?\"-specific style due to the `<a>` HTML tag */\n",
       "\n",
       "#sk-container-id-5 a.estimator_doc_link {\n",
       "  float: right;\n",
       "  font-size: 1rem;\n",
       "  line-height: 1em;\n",
       "  font-family: monospace;\n",
       "  background-color: var(--sklearn-color-background);\n",
       "  border-radius: 1rem;\n",
       "  height: 1rem;\n",
       "  width: 1rem;\n",
       "  text-decoration: none;\n",
       "  /* unfitted */\n",
       "  color: var(--sklearn-color-unfitted-level-1);\n",
       "  border: var(--sklearn-color-unfitted-level-1) 1pt solid;\n",
       "}\n",
       "\n",
       "#sk-container-id-5 a.estimator_doc_link.fitted {\n",
       "  /* fitted */\n",
       "  border: var(--sklearn-color-fitted-level-1) 1pt solid;\n",
       "  color: var(--sklearn-color-fitted-level-1);\n",
       "}\n",
       "\n",
       "/* On hover */\n",
       "#sk-container-id-5 a.estimator_doc_link:hover {\n",
       "  /* unfitted */\n",
       "  background-color: var(--sklearn-color-unfitted-level-3);\n",
       "  color: var(--sklearn-color-background);\n",
       "  text-decoration: none;\n",
       "}\n",
       "\n",
       "#sk-container-id-5 a.estimator_doc_link.fitted:hover {\n",
       "  /* fitted */\n",
       "  background-color: var(--sklearn-color-fitted-level-3);\n",
       "}\n",
       "</style><div id=\"sk-container-id-5\" class=\"sk-top-container\"><div class=\"sk-text-repr-fallback\"><pre>Pipeline(steps=[(&#x27;scaler&#x27;, StandardScaler()),\n",
       "                (&#x27;model&#x27;, DecisionTreeRegressor())])</pre><b>In a Jupyter environment, please rerun this cell to show the HTML representation or trust the notebook. <br />On GitHub, the HTML representation is unable to render, please try loading this page with nbviewer.org.</b></div><div class=\"sk-container\" hidden><div class=\"sk-item sk-dashed-wrapped\"><div class=\"sk-label-container\"><div class=\"sk-label fitted sk-toggleable\"><input class=\"sk-toggleable__control sk-hidden--visually\" id=\"sk-estimator-id-13\" type=\"checkbox\" ><label for=\"sk-estimator-id-13\" class=\"sk-toggleable__label fitted sk-toggleable__label-arrow fitted\">&nbsp;&nbsp;Pipeline<a class=\"sk-estimator-doc-link fitted\" rel=\"noreferrer\" target=\"_blank\" href=\"https://scikit-learn.org/1.4/modules/generated/sklearn.pipeline.Pipeline.html\">?<span>Documentation for Pipeline</span></a><span class=\"sk-estimator-doc-link fitted\">i<span>Fitted</span></span></label><div class=\"sk-toggleable__content fitted\"><pre>Pipeline(steps=[(&#x27;scaler&#x27;, StandardScaler()),\n",
       "                (&#x27;model&#x27;, DecisionTreeRegressor())])</pre></div> </div></div><div class=\"sk-serial\"><div class=\"sk-item\"><div class=\"sk-estimator fitted sk-toggleable\"><input class=\"sk-toggleable__control sk-hidden--visually\" id=\"sk-estimator-id-14\" type=\"checkbox\" ><label for=\"sk-estimator-id-14\" class=\"sk-toggleable__label fitted sk-toggleable__label-arrow fitted\">&nbsp;StandardScaler<a class=\"sk-estimator-doc-link fitted\" rel=\"noreferrer\" target=\"_blank\" href=\"https://scikit-learn.org/1.4/modules/generated/sklearn.preprocessing.StandardScaler.html\">?<span>Documentation for StandardScaler</span></a></label><div class=\"sk-toggleable__content fitted\"><pre>StandardScaler()</pre></div> </div></div><div class=\"sk-item\"><div class=\"sk-estimator fitted sk-toggleable\"><input class=\"sk-toggleable__control sk-hidden--visually\" id=\"sk-estimator-id-15\" type=\"checkbox\" ><label for=\"sk-estimator-id-15\" class=\"sk-toggleable__label fitted sk-toggleable__label-arrow fitted\">&nbsp;DecisionTreeRegressor<a class=\"sk-estimator-doc-link fitted\" rel=\"noreferrer\" target=\"_blank\" href=\"https://scikit-learn.org/1.4/modules/generated/sklearn.tree.DecisionTreeRegressor.html\">?<span>Documentation for DecisionTreeRegressor</span></a></label><div class=\"sk-toggleable__content fitted\"><pre>DecisionTreeRegressor()</pre></div> </div></div></div></div></div></div>"
      ],
      "text/plain": [
       "Pipeline(steps=[('scaler', StandardScaler()),\n",
       "                ('model', DecisionTreeRegressor())])"
      ]
     },
     "execution_count": 559,
=======
       "#sk-container-id-1 a.estimator_doc_link.fitted:hover {\n",
       "  /* fitted */\n",
       "  background-color: var(--sklearn-color-fitted-level-3);\n",
       "}\n",
       "</style><div id=\"sk-container-id-1\" class=\"sk-top-container\"><div class=\"sk-text-repr-fallback\"><pre>Pipeline(steps=[(&#x27;scaler&#x27;, StandardScaler()), (&#x27;model&#x27;, LinearRegression())])</pre><b>In a Jupyter environment, please rerun this cell to show the HTML representation or trust the notebook. <br />On GitHub, the HTML representation is unable to render, please try loading this page with nbviewer.org.</b></div><div class=\"sk-container\" hidden><div class=\"sk-item sk-dashed-wrapped\"><div class=\"sk-label-container\"><div class=\"sk-label fitted sk-toggleable\"><input class=\"sk-toggleable__control sk-hidden--visually\" id=\"sk-estimator-id-1\" type=\"checkbox\" ><label for=\"sk-estimator-id-1\" class=\"sk-toggleable__label fitted sk-toggleable__label-arrow fitted\">&nbsp;&nbsp;Pipeline<a class=\"sk-estimator-doc-link fitted\" rel=\"noreferrer\" target=\"_blank\" href=\"https://scikit-learn.org/1.4/modules/generated/sklearn.pipeline.Pipeline.html\">?<span>Documentation for Pipeline</span></a><span class=\"sk-estimator-doc-link fitted\">i<span>Fitted</span></span></label><div class=\"sk-toggleable__content fitted\"><pre>Pipeline(steps=[(&#x27;scaler&#x27;, StandardScaler()), (&#x27;model&#x27;, LinearRegression())])</pre></div> </div></div><div class=\"sk-serial\"><div class=\"sk-item\"><div class=\"sk-estimator fitted sk-toggleable\"><input class=\"sk-toggleable__control sk-hidden--visually\" id=\"sk-estimator-id-2\" type=\"checkbox\" ><label for=\"sk-estimator-id-2\" class=\"sk-toggleable__label fitted sk-toggleable__label-arrow fitted\">&nbsp;StandardScaler<a class=\"sk-estimator-doc-link fitted\" rel=\"noreferrer\" target=\"_blank\" href=\"https://scikit-learn.org/1.4/modules/generated/sklearn.preprocessing.StandardScaler.html\">?<span>Documentation for StandardScaler</span></a></label><div class=\"sk-toggleable__content fitted\"><pre>StandardScaler()</pre></div> </div></div><div class=\"sk-item\"><div class=\"sk-estimator fitted sk-toggleable\"><input class=\"sk-toggleable__control sk-hidden--visually\" id=\"sk-estimator-id-3\" type=\"checkbox\" ><label for=\"sk-estimator-id-3\" class=\"sk-toggleable__label fitted sk-toggleable__label-arrow fitted\">&nbsp;LinearRegression<a class=\"sk-estimator-doc-link fitted\" rel=\"noreferrer\" target=\"_blank\" href=\"https://scikit-learn.org/1.4/modules/generated/sklearn.linear_model.LinearRegression.html\">?<span>Documentation for LinearRegression</span></a></label><div class=\"sk-toggleable__content fitted\"><pre>LinearRegression()</pre></div> </div></div></div></div></div></div>"
      ],
      "text/plain": [
       "Pipeline(steps=[('scaler', StandardScaler()), ('model', LinearRegression())])"
      ]
     },
     "execution_count": 20,
>>>>>>> Stashed changes
     "metadata": {},
     "output_type": "execute_result"
    }
   ],
   "source": [
    "pipeline.fit(X=X_train, y=y_train)"
   ]
  },
  {
   "cell_type": "code",
<<<<<<< Updated upstream
   "execution_count": 561,
=======
   "execution_count": 22,
>>>>>>> Stashed changes
   "id": "b036d762-6758-4590-a036-1e45b35024d0",
   "metadata": {},
   "outputs": [],
   "source": [
    "odp=[2000]#track the actual point where drift occures.on 2000 index onwards all are in another concept"
   ]
  },
  {
   "cell_type": "code",
<<<<<<< Updated upstream
   "execution_count": 563,
=======
   "execution_count": 24,
>>>>>>> Stashed changes
   "id": "848638e6-fe49-41d2-814c-edf66fa0aa7a",
   "metadata": {},
   "outputs": [],
   "source": [
    "X = stream.drop(columns='y').values\n",
    "y = stream['y'].values"
   ]
  },
  {
   "cell_type": "code",
<<<<<<< Updated upstream
   "execution_count": 565,
=======
   "execution_count": 26,
   "id": "6a5460f7-3609-4fb6-bb6b-8b80a91e9918",
   "metadata": {},
   "outputs": [
    {
     "name": "stdout",
     "output_type": "stream",
     "text": [
      "[[0.76784393 0.36913257 0.33985095 ... 0.64557727 0.1380799  0.18797055]\n",
      " [0.33958666 0.65404493 0.42571132 ... 0.95851275 0.42173689 0.16354288]\n",
      " [0.68233978 0.8342325  0.4649227  ... 0.80355026 0.01222449 0.31902578]\n",
      " ...\n",
      " [0.65423593 0.12500987 0.51558276 ... 0.60206352 0.85911542 0.86574286]\n",
      " [0.02761312 0.49833502 0.0435095  ... 0.27799647 0.23961339 0.87187951]\n",
      " [0.03138681 0.05088172 0.27777858 ... 0.89173718 0.28371173 0.3875193 ]]\n"
     ]
    }
   ],
   "source": [
    "print(X)"
   ]
  },
  {
   "cell_type": "code",
   "execution_count": 78,
   "id": "999503ab-e685-4ff8-8a9f-a6cc4c69c0be",
   "metadata": {},
   "outputs": [
    {
     "data": {
      "text/plain": [
       "2001"
      ]
     },
     "execution_count": 78,
     "metadata": {},
     "output_type": "execute_result"
    }
   ],
   "source": [
    "len(X)"
   ]
  },
  {
   "cell_type": "code",
   "execution_count": 47,
>>>>>>> Stashed changes
   "id": "123a1311-e356-46f5-a851-0d08fda3eb6b",
   "metadata": {},
   "outputs": [
    {
     "name": "stdout",
     "output_type": "stream",
     "text": [
      "[19.82954394 12.3568253  13.16778603 18.05870737 10.81241921]\n"
     ]
    }
   ],
   "source": [
    "print(y[:5])"
   ]
  },
  {
   "cell_type": "code",
<<<<<<< Updated upstream
   "execution_count": 567,
=======
   "execution_count": 28,
>>>>>>> Stashed changes
   "id": "8f7d6eb0-cc11-48a7-a17b-093d50113193",
   "metadata": {},
   "outputs": [],
   "source": [
    "# Detector configuration and instantiation\n",
    "config = DDMConfig(\n",
<<<<<<< Updated upstream
    "    warning_level=0.01, #These levels essentially define how many standard deviations away from the mean error are considered a warning or a drift.\n",
    "    drift_level=0.5,\n",
    "    min_num_instances=1000,  # minimum number of instances before checking for concept drift\n",
    ")\n",
    "detector = DDM(config=config)"
=======
    "    warning_level=2.0, #These levels essentially define how many standard deviations away from the mean error are considered a warning or a drift.\n",
    "    drift_level=3.0,\n",
    "    min_num_instances=30,  # minimum number of instances before checking for concept drift\n",
    ")\n"
>>>>>>> Stashed changes
   ]
  },
  {
   "cell_type": "code",
<<<<<<< Updated upstream
   "execution_count": 569,
=======
   "execution_count": 30,
>>>>>>> Stashed changes
   "id": "66af50d2-d956-4ad2-8a35-9c1b3b882f7d",
   "metadata": {},
   "outputs": [],
   "source": [
    "detector = DDM(config=config)"
   ]
  },
  {
   "cell_type": "code",
<<<<<<< Updated upstream
   "execution_count": 571,
   "id": "014d4075-fd83-4750-b17f-e6e802274e36",
   "metadata": {},
   "outputs": [],
   "source": [
    "detector=EDDM()"
   ]
  },
  {
   "cell_type": "code",
   "execution_count": 573,
=======
   "execution_count": 32,
>>>>>>> Stashed changes
   "id": "21cb83e4-60d1-4e68-8fe6-847fe01613fc",
   "metadata": {},
   "outputs": [],
   "source": [
    "detected_drifts = []\n",
    "false_alarms = 0\n",
    "detection_delays = []"
   ]
  },
  {
   "cell_type": "code",
<<<<<<< Updated upstream
   "execution_count": 575,
=======
   "execution_count": 34,
>>>>>>> Stashed changes
   "id": "6a61fa0d-742d-410c-aa5e-9869900278cf",
   "metadata": {},
   "outputs": [],
   "source": [
    "y_preds = []"
   ]
  },
  {
   "cell_type": "code",
<<<<<<< Updated upstream
   "execution_count": 577,
=======
   "execution_count": 36,
>>>>>>> Stashed changes
   "id": "67c8a8b0-dd92-4552-a1db-5cfd5ad66cbd",
   "metadata": {},
   "outputs": [],
   "source": [
    "errors = []"
   ]
  },
  {
   "cell_type": "code",
   "execution_count": 38,
   "id": "5260a3fd-4f16-4a69-9f9c-32586ae75330",
   "metadata": {},
   "outputs": [],
   "source": [
    "threshold=50.0"
   ]
  },
  {
   "cell_type": "markdown",
   "id": "727d4141-d9ae-462b-9575-e36b948ed7c9",
   "metadata": {},
   "source": [
    "### Process the stream data and check for drift"
   ]
  },
  {
   "cell_type": "code",
<<<<<<< Updated upstream
   "execution_count": 580,
=======
   "execution_count": 41,
>>>>>>> Stashed changes
   "id": "a17217af-a574-426d-b75d-8cf9e1b7f812",
   "metadata": {},
   "outputs": [
    {
     "name": "stdout",
     "output_type": "stream",
     "text": [
      "Warning detected at step 437\n"
     ]
    }
   ],
   "source": [
    "warning_flag = False\n",
    "for i in range(len(X)):\n",
    "    X_i = X[i].reshape(1, -1)\n",
    "    y_i = y[i].reshape(1, -1)\n",
    "    \n",
    "    # Predict and calculate the error\n",
    "    y_pred = pipeline.predict(X_i)#here y_pred is an array resulted from pipieline\n",
    "    y_preds.append(y_pred[0])\n",
    "    error = mean_squared_error(y_i, y_pred)\n",
    "    #metric_error = metric(error_value=error)\n",
    "    errors.append(error)\n",
    "    #binary_errors = np.where(error > error_threshold, 1, 0)\n",
    "    binary_error = 1 if error > threshold else 0\n",
    "    \n",
    "    # Update DDM with the error\n",
    "    \"\"\":Note:\n",
    "    :func:`update` method expects to receive a value of 0 if the instance is correctly classified (no error) and 1 otherwise (error).\"\"\"\n",
    "    detector.update(value=binary_error)\n",
    "    \n",
    "    \n",
    "    # Check for detected drift\n",
    "    if detector.drift:\n",
    "       # print(f\"Change detected at step {i + len(train)}\")  # Adjusting index to match the full dataset\n",
    "        detected_drifts.append(i + len(train))  # Adjusting index to match the full dataset\n",
    "        \n",
    "        # Determine if it's a false alarm or not\n",
    "        if i + len(train) < odp[0]:  # Compare with the original drift point\n",
    "            false_alarms += 1\n",
    "        else:\n",
    "            detection_delays.append((i + len(train)) - odp[0])\n",
    "    # Check for detected warning\n",
    "    if not warning_flag and detector.warning:\n",
    "        print(f\"Warning detected at step {i}\")\n",
    "        warning_flag = True\n",
    "        \n",
    "    "
   ]
  },
  {
   "cell_type": "code",
<<<<<<< Updated upstream
   "execution_count": 581,
=======
   "execution_count": 62,
>>>>>>> Stashed changes
   "id": "23c54999-0bfd-4e8c-abe1-0a7b876e3d30",
   "metadata": {},
   "outputs": [
    {
     "name": "stdout",
     "output_type": "stream",
     "text": [
      "2001\n"
     ]
    }
   ],
   "source": [
    "print(len(errors))"
   ]
  },
  {
   "cell_type": "markdown",
   "id": "6b855d52-ebc0-4d43-b16d-f24e1d8f1168",
   "metadata": {},
   "source": [
    "### Calculate metrics"
   ]
  },
  {
   "cell_type": "code",
<<<<<<< Updated upstream
   "execution_count": 585,
=======
   "execution_count": 43,
>>>>>>> Stashed changes
   "id": "36c6e605-55ab-4740-b467-3a21f4219608",
   "metadata": {},
   "outputs": [],
   "source": [
<<<<<<< Updated upstream
    "false_alarm_rate = false_alarms / len(detected_drifts) if detected_drifts else 0\n",
    "average_detection_delay = np.mean(detection_delays) if detection_delays else None"
=======
    "false_alarm_rate = (false_alarms / (odp[0]-len(train))) * 100 if detected_drifts else 0\n",
    "detection_delay =(detection_delays[0]) if detection_delays else None"
>>>>>>> Stashed changes
   ]
  },
  {
   "cell_type": "code",
   "execution_count": 135,
   "id": "75bcd839-1dc6-4128-9ae6-c953acce3d68",
   "metadata": {},
   "outputs": [
    {
     "data": {
      "text/plain": [
       "1000"
      ]
     },
     "execution_count": 135,
     "metadata": {},
     "output_type": "execute_result"
    }
   ],
   "source": [
    "(odp[0]-len(train))"
   ]
  },
  {
   "cell_type": "markdown",
   "id": "36fc863d-ddfc-4f29-9f21-c566cf1f1d06",
   "metadata": {},
   "source": [
    "### Results"
   ]
  },
  {
   "cell_type": "code",
<<<<<<< Updated upstream
   "execution_count": 588,
=======
   "execution_count": 45,
>>>>>>> Stashed changes
   "id": "086a4b12-dd28-42d3-be6e-c88f70f86bc3",
   "metadata": {},
   "outputs": [
    {
     "name": "stdout",
     "output_type": "stream",
     "text": [
<<<<<<< Updated upstream
      "Detected drift points: [5066, 5067, 5070, 5073, 5074, 5078, 5083, 5084, 5087, 5090, 5098, 5105, 5107, 5108, 5109, 5110, 5112, 5113, 5120, 5122, 5128, 5130, 5134, 5135, 5136, 5140, 5147, 5149, 5152, 5154, 5165, 5169, 5170, 5171, 5173, 5187, 5194, 5196, 5198, 5200, 5202, 5203, 5205, 5206, 5208, 5210, 5211, 5212, 5214, 5217, 5222, 5224, 5226, 5227, 5228, 5232, 5233, 5235, 5242, 5248, 5252, 5254, 5255, 5262, 5268, 5269, 5271, 5272, 5278, 5282, 5283, 5292, 5296, 5299, 5302, 5310, 5313, 5314, 5315, 5316, 5317, 5318, 5320, 5322, 5326, 5329, 5332, 5336, 5337, 5338, 5341, 5344, 5346, 5349, 5355, 5360, 5361, 5368, 5369, 5370, 5371, 5374, 5376, 5378, 5382, 5384, 5385, 5388, 5390, 5391, 5395, 5407, 5408, 5412, 5413, 5417, 5418, 5420, 5421, 5422, 5424, 5425, 5433, 5435, 5436, 5437, 5439, 5443, 5444, 5446, 5449, 5454, 5456, 5460, 5461, 5463, 5464, 5465, 5472, 5476, 5479, 5488, 5489, 5490, 5492, 5493, 5495, 5500, 5501, 5502, 5507, 5508, 5510, 5511, 5512, 5517, 5523, 5527, 5530, 5532, 5533, 5534, 5542, 5543, 5546, 5548, 5549, 5550, 5552, 5553, 5555, 5556, 5563, 5565, 5567, 5571, 5573, 5576, 5578, 5579, 5581, 5583, 5586, 5590, 5592, 5593, 5597, 5599, 5600, 5603, 5605, 5606, 5610, 5611, 5612, 5620, 5626, 5627, 5628, 5629, 5634, 5637, 5639, 5640, 5647, 5652, 5655, 5656, 5660, 5666, 5671, 5673, 5675, 5677, 5678, 5679, 5681, 5686, 5688, 5691, 5696, 5701, 5705, 5706, 5716, 5718, 5720, 5726, 5729, 5742, 5743, 5746, 5752, 5754, 5762, 5767, 5769, 5770, 5772, 5775, 5778, 5779, 5780, 5788, 5790, 5793, 5796, 5797, 5800, 5801, 5802, 5804, 5807, 5808, 5809, 5811, 5813, 5823, 5824, 5825, 5826, 5830, 5832, 5833, 5835, 5842, 5844, 5845, 5853, 5854, 5855, 5857, 5861, 5862, 5863, 5864, 5867, 5870, 5871, 5872, 5875, 5877, 5880, 5881, 5882, 5884, 5885, 5886, 5888, 5891, 5892, 5894, 5896, 5900, 5902, 5909, 5911, 5913, 5914, 5915, 5916, 5917, 5919, 5925, 5926, 5928, 5930, 5931, 5934, 5937, 5939, 5943, 5949, 5950, 5952, 5958, 5959, 5960, 5963, 5965, 5966, 5971, 5973, 5975, 5976, 5979, 5983, 5984, 5985, 5987, 5988, 5990, 5991, 5992, 5993, 5996, 6004, 6008, 6012, 6013, 6014, 6016, 6018, 6019, 6022, 6031, 6034, 6035, 6045, 6046, 6047, 6049, 6050, 6055, 6063, 6064, 6071, 6073, 6076, 6081, 6088, 6092, 6094, 6096, 6097, 6100, 6105, 6109, 6114, 6117, 6119, 6120, 6121, 6124, 6126, 6128, 6134, 6138, 6141, 6143, 6145, 6146, 6147, 6148, 6150, 6151, 6152, 6156, 6157, 6158, 6161, 6162, 6165, 6169, 6170, 6182, 6183, 6185, 6188, 6191, 6194, 6197, 6198, 6199, 6202, 6206, 6208, 6209, 6212, 6218, 6224, 6225, 6228, 6229, 6232, 6234, 6235, 6240, 6246, 6247, 6248, 6250, 6254, 6269, 6274, 6276, 6277, 6278, 6281, 6283, 6284, 6288, 6289, 6292, 6294, 6298, 6299, 6302, 6306, 6307, 6309, 6310, 6311, 6314, 6326, 6334, 6337, 6342, 6343, 6349, 6356, 6358, 6364, 6365, 6366, 6369, 6370, 6371, 6376, 6377, 6379, 6380, 6387, 6393, 6396, 6397, 6404, 6405, 6406, 6415, 6416, 6417, 6419, 6425, 6429, 6435, 6438, 6445, 6447, 6453, 6456, 6458, 6459, 6464, 6471, 6472, 6474, 6478, 6479, 6482, 6486, 6490, 6492, 6497, 6500, 6502, 6506, 6511, 6512, 6513, 6514, 6515, 6523, 6524, 6525, 6527, 6529, 6530, 6531, 6533, 6536, 6538, 6543, 6550, 6551, 6553, 6555, 6559, 6564, 6567, 6569, 6571, 6577, 6581, 6582, 6584, 6587, 6589, 6590, 6592, 6598, 6600, 6603, 6607, 6613, 6620, 6623, 6625, 6630, 6631, 6634, 6638, 6639, 6643, 6650, 6656, 6657, 6658, 6660, 6662, 6666, 6681, 6685, 6690, 6693, 6695, 6696, 6699, 6701, 6704, 6706, 6708, 6709, 6710, 6711, 6712, 6713, 6714, 6729, 6732, 6734, 6735, 6738, 6739, 6748, 6753, 6754, 6756, 6758, 6760, 6766, 6772, 6775, 6776, 6777, 6778, 6779, 6784, 6786, 6787, 6790, 6792, 6794, 6798, 6801, 6803, 6805, 6806, 6807, 6808, 6811, 6812, 6815, 6817, 6822, 6823, 6824, 6828, 6830, 6832, 6834, 6835, 6837, 6840, 6842, 6855, 6860, 6863, 6869, 6870, 6872, 6873, 6876, 6878, 6879, 6881, 6885, 6888, 6889, 6891, 6895, 6896, 6898, 6901, 6902, 6905, 6906, 6912, 6916, 6918, 6920, 6923, 6924, 6925, 6928, 6929, 6933, 6934, 6935, 6937, 6939, 6943, 6945, 6949, 6951, 6961, 6962, 6968, 6969, 6970, 6971, 6972, 6973, 6982, 6991, 6993, 6994, 7001, 7003, 7010, 7012, 7016, 7021, 7028, 7030, 7035, 7039, 7041, 7043, 7048, 7049, 7053, 7059, 7062, 7064, 7072, 7073, 7075, 7076, 7077, 7078, 7079, 7087, 7088, 7089, 7091, 7096, 7099, 7100, 7102, 7103, 7108, 7114, 7119, 7120, 7121, 7124, 7125, 7127, 7133, 7134, 7137, 7140, 7145, 7150, 7152, 7162, 7164, 7166, 7167, 7169, 7170, 7171, 7175, 7176, 7182, 7184, 7186, 7187, 7188, 7191, 7192, 7200, 7202, 7204, 7206, 7207, 7209, 7211, 7213, 7214, 7216, 7217, 7224, 7225, 7230, 7232, 7234, 7235, 7246, 7247, 7251, 7254, 7255, 7256, 7257, 7258, 7259, 7264, 7266, 7270, 7275, 7276, 7277, 7281, 7283, 7287, 7289, 7292, 7294, 7295, 7300, 7302, 7304, 7309, 7317, 7318, 7319, 7323, 7324, 7327, 7328, 7344, 7346, 7350, 7353, 7358, 7359, 7360, 7361, 7362, 7364, 7365, 7366, 7369, 7370, 7374, 7376, 7379, 7382, 7384, 7385, 7386, 7387, 7389, 7391, 7392, 7393, 7395, 7396, 7397, 7399, 7404, 7413, 7416, 7419, 7420, 7421, 7422, 7423, 7427, 7429, 7430, 7437, 7438, 7439, 7441, 7443, 7450, 7453, 7454, 7456, 7459, 7462, 7467, 7470, 7473, 7474, 7480, 7482, 7483, 7487, 7488, 7492, 7493, 7495, 7496, 7499, 7506, 7508, 7509, 7510, 7511, 7512, 7515, 7517, 7518, 7519, 7520, 7523, 7524, 7526, 7531, 7532, 7533, 7535, 7541, 7543, 7546, 7547, 7551, 7554, 7556, 7561, 7563, 7567, 7568, 7573, 7578, 7580, 7581, 7584, 7585, 7593, 7594, 7601, 7603, 7606, 7607, 7610, 7612, 7613, 7615, 7616, 7617, 7620, 7623, 7630, 7632, 7637, 7640, 7641, 7647, 7650, 7652, 7656, 7657, 7658, 7662, 7664, 7669, 7670, 7679, 7683, 7684, 7687, 7693, 7694, 7696, 7699, 7701, 7704, 7705, 7711, 7716, 7720, 7721, 7723, 7724, 7734, 7736, 7737, 7744, 7745, 7746, 7747, 7748, 7749, 7751, 7753, 7758, 7764, 7768, 7769, 7776, 7778, 7779, 7781, 7782, 7786, 7791, 7792, 7794, 7796, 7797, 7798, 7801, 7805, 7807, 7808, 7811, 7813, 7816, 7817, 7819, 7823, 7826, 7830, 7834, 7835, 7838, 7839, 7845, 7846, 7847, 7851, 7853, 7855, 7857, 7858, 7860, 7864, 7865, 7867, 7868, 7877, 7879, 7882, 7884, 7891, 7894, 7899, 7902, 7904, 7905, 7907, 7914, 7915, 7921, 7924, 7925, 7927, 7928, 7929, 7931, 7932, 7937, 7942, 7947, 7948, 7950, 7955, 7958, 7961, 7962, 7966, 7970, 7971, 7974, 7981, 7983, 7984, 7990, 7992, 7994, 7995, 7997, 7999, 8000, 8002, 8005, 8007, 8009, 8010, 8011, 8013, 8014, 8019, 8020, 8025, 8026, 8029, 8030, 8031, 8037, 8038, 8041, 8048, 8051, 8055, 8063, 8070, 8071, 8072, 8076, 8078, 8079, 8084, 8085, 8092, 8101, 8103, 8109, 8110, 8111, 8112, 8114, 8115, 8116, 8117, 8118, 8119, 8121, 8130, 8135, 8138, 8143, 8145, 8150, 8151, 8157, 8158, 8160, 8161, 8164, 8165, 8166, 8169, 8178, 8179, 8181, 8183, 8185, 8190, 8195, 8196, 8197, 8198, 8205, 8209, 8210, 8212, 8216, 8229, 8230, 8231, 8234, 8237, 8239, 8240, 8241, 8243, 8246, 8248, 8250, 8252, 8256, 8259, 8261, 8262, 8265, 8268, 8270, 8271, 8276, 8282, 8287, 8290, 8293, 8294, 8295, 8298, 8299, 8306, 8308, 8310, 8312, 8313, 8314, 8315, 8318, 8319, 8322, 8324, 8325, 8329, 8335, 8337, 8340, 8342, 8344, 8353, 8356, 8357, 8359, 8362, 8371, 8373, 8374, 8381, 8384, 8391, 8394, 8395, 8397, 8398, 8399, 8402, 8403, 8405, 8408, 8417, 8418, 8420, 8422, 8425, 8426, 8427, 8428, 8430, 8432, 8433, 8434, 8436, 8438, 8442, 8444, 8445, 8446, 8447, 8449, 8450, 8453, 8454, 8457, 8458, 8468, 8469, 8470, 8480, 8481, 8486, 8488, 8492, 8498, 8499, 8511, 8514, 8515, 8517, 8518, 8522, 8524, 8525, 8527, 8531, 8532, 8534, 8535, 8537, 8542, 8544, 8545, 8547, 8555, 8558, 8560, 8566, 8567, 8570, 8571, 8573, 8574, 8577, 8580, 8585, 8589, 8592, 8595, 8596, 8598, 8604, 8607, 8610, 8615, 8617, 8620, 8624, 8626, 8629, 8630, 8632, 8634, 8636, 8639, 8640, 8641, 8642, 8644, 8645, 8649, 8651, 8652, 8654, 8655, 8661, 8665, 8667, 8668, 8669, 8670, 8672, 8675, 8680, 8681, 8684, 8685, 8687, 8688, 8698, 8699, 8706, 8709, 8710, 8712, 8713, 8715, 8718, 8719, 8722, 8723, 8724, 8725, 8731, 8732, 8734, 8735, 8736, 8743, 8746, 8749, 8752, 8753, 8760, 8761, 8766, 8767, 8768, 8773, 8775, 8777, 8779, 8782, 8790, 8793, 8797, 8803, 8806, 8807, 8808, 8811, 8814, 8817, 8818, 8819, 8823, 8827, 8828, 8829, 8831, 8832, 8833, 8834, 8835, 8839, 8840, 8841, 8842, 8844, 8845, 8848, 8849, 8852, 8854, 8856, 8865, 8866, 8868, 8872, 8874, 8875, 8877, 8878, 8884, 8888, 8890, 8891, 8896, 8897, 8899, 8900, 8903, 8904, 8905, 8906, 8910, 8911, 8912, 8913, 8914, 8915, 8920, 8924, 8930, 8936, 8937, 8941, 8942, 8944, 8946, 8947, 8948, 8950, 8952, 8956, 8957, 8958, 8959, 8964, 8965, 8966, 8968, 8974, 8977, 8981, 8985, 8987, 8990, 8995, 8996, 8997, 9003, 9008, 9014, 9019, 9023, 9024, 9026, 9029, 9033, 9038, 9039, 9042, 9043, 9056, 9057, 9061, 9064, 9065, 9068, 9069, 9070, 9072, 9074, 9075, 9077, 9078, 9081, 9082, 9083, 9084, 9088, 9091, 9094, 9096, 9099, 9101, 9103, 9104, 9105, 9107, 9120, 9121, 9124, 9126, 9127, 9132, 9134, 9135, 9137, 9143, 9145, 9148, 9151, 9154, 9155, 9158, 9161, 9162, 9165, 9166, 9167, 9170, 9171, 9173, 9175, 9179, 9181, 9185, 9186, 9188, 9189, 9192, 9193, 9196, 9197, 9198, 9200, 9206, 9208, 9210, 9215, 9217, 9223, 9224, 9225, 9227, 9229, 9230, 9234, 9235, 9238, 9243, 9245, 9249, 9252, 9253, 9254, 9260, 9264, 9265, 9268, 9269, 9270, 9272, 9276, 9277, 9278, 9281, 9283, 9284, 9285, 9294, 9296, 9298, 9299, 9304, 9305, 9312, 9313, 9315, 9317, 9320, 9321, 9322, 9323, 9325, 9326, 9327, 9328, 9329, 9330, 9336, 9346, 9347, 9354, 9356, 9357, 9358, 9361, 9364, 9365, 9368, 9372, 9374, 9377, 9381, 9382, 9385, 9404, 9409, 9411, 9414, 9418, 9420, 9422, 9424, 9428, 9429, 9431, 9432, 9435, 9440, 9442, 9450, 9463, 9465, 9466, 9470, 9476, 9481, 9485, 9488, 9493, 9494, 9498, 9499, 9500, 9503, 9504, 9505, 9507, 9508, 9514, 9515, 9519, 9521, 9524, 9529, 9532, 9534, 9537, 9539, 9541, 9543, 9545, 9546, 9548, 9555, 9561, 9563, 9564, 9567, 9569, 9575, 9580, 9581, 9588, 9590, 9601, 9602, 9606, 9608, 9618, 9624, 9625, 9629, 9630, 9631, 9633, 9636, 9637, 9639, 9643, 9644, 9646, 9647, 9649, 9652, 9654, 9656, 9658, 9662, 9663, 9665, 9667, 9668, 9669, 9671, 9673, 9678, 9687, 9691, 9692, 9701, 9705, 9708, 9709, 9713, 9715, 9719, 9721, 9724, 9727, 9728, 9731, 9733, 9735, 9737, 9738, 9740, 9745, 9747, 9748, 9750, 9752, 9754, 9759, 9765, 9766, 9770, 9771, 9773, 9774, 9777, 9781, 9783, 9784, 9787, 9792, 9793, 9794, 9797, 9805, 9813, 9816, 9817, 9818, 9819, 9820, 9821, 9824, 9826, 9831, 9832, 9834, 9836, 9837, 9844, 9847, 9856, 9861, 9863, 9866, 9872, 9874, 9877, 9892, 9899, 9903, 9914, 9916, 9919, 9921, 9923, 9926, 9927, 9935, 9937, 9939, 9945, 9946, 9949, 9950, 9953, 9954, 9957, 9963, 9964, 9969, 9974, 9976, 9979, 9981, 9983, 9992, 9995, 9996, 9998]\n",
      "False alarms: 0\n",
      "False alarm rate: 0.0\n",
      "Average detection delay: 2538.5485911443357\n"
=======
      "Detected drift points: [1171, 1172, 1173, 1174, 1175, 1176, 1177, 1178, 1179, 1180, 1181, 1182, 1183, 1184, 1185, 1186, 1187, 1188, 1189, 1190, 1191, 1192, 1193, 1194, 1195, 1196, 1197, 1198, 1199, 1200, 1201, 1202, 1203, 1204, 1205, 1206, 1207, 1208, 1209, 1210, 1211, 1212, 1213, 1214, 1215, 1216, 1217, 1218, 1219, 1220, 1221, 1222, 1223, 1224, 1225, 1226, 1227, 1228, 1229, 1230, 1231, 1232, 1233, 1234, 1235, 1236, 1237, 1238, 1239, 1240, 1241, 1242, 1243, 1244, 1245, 1246, 1247, 1248, 1249, 1250, 1251, 1252, 1253, 1254, 1255, 1256, 1257, 1258, 1259, 1260, 1261, 1262, 1263, 1264, 1265, 1266, 1267, 1268, 1269, 1270, 1271, 1272, 1273, 1274, 1275, 1276, 1277, 1278, 1279, 1280, 1281, 1282, 1283, 1284, 1285, 1286, 1287, 1288, 1289, 1290, 1291, 1292, 1293, 1294, 1295, 1296, 1297, 1298, 1299, 1300, 1301, 1302, 1303, 1304, 1305, 1306, 1307, 1308, 1309, 1310, 1311, 1312, 1313, 1314, 1315, 1316, 1317, 1318, 1319, 1320, 1321, 1322, 1323, 1324, 1325, 1326, 1327, 1328, 1329, 1330, 1331, 1332, 1333, 1334, 1335, 1336, 1337, 1338, 1339, 1340, 1341, 1342, 1343, 1344, 1345, 1346, 1347, 1348, 1349, 1350, 1351, 1352, 1353, 1354, 1355, 1356, 1357, 1358, 1359, 1360, 1361, 1362, 1363, 1364, 1365, 1366, 1367, 1368, 1369, 1370, 1371, 1372, 1373, 1374, 1375, 1376, 1377, 1378, 1379, 1380, 1381, 1382, 1383, 1384, 1385, 1386, 1387, 1388, 1389, 1390, 1391, 1392, 1393, 1394, 1395, 1396, 1397, 1398, 1399, 1400, 1401, 1402, 1403, 1404, 1405, 1406, 1407, 1408, 1409, 1410, 1411, 1412, 1413, 1414, 1415, 1416, 1417, 1418, 1419, 1420, 1421, 1422, 1423, 1424, 1425, 1426, 1427, 1428, 1429, 1430, 1431, 1432, 1433, 1434, 1435, 1436, 1437, 1438, 1439, 1440, 1441, 1442, 1443, 1444, 1445, 1446, 1447, 1448, 1449, 1450, 1451, 1452, 1453, 1454, 1455, 1456, 1457, 1458, 1459, 1460, 1461, 1462, 1463, 1464, 1465, 1466, 1467, 1468, 1469, 1470, 1471, 1472, 1473, 1474, 1475, 1476, 1477, 1478, 1479, 1480, 1481, 1482, 1483, 1484, 1485, 1486, 1487, 1488, 1489, 1490, 1491, 1492, 1493, 1494, 1495, 1496, 1497, 1498, 1499, 1500, 1501, 1502, 1503, 1504, 1505, 1506, 1507, 1508, 1509, 1510, 1511, 1512, 1513, 1514, 1515, 1516, 1517, 1518, 1519, 1520, 1521, 1522, 1523, 1524, 1525, 1526, 1527, 1528, 1529, 1530, 1531, 1532, 1533, 1534, 1535, 1536, 1537, 1538, 1539, 1540, 1541, 1542, 1543, 1544, 1545, 1546, 1547, 1548, 1549, 1550, 1551, 1552, 1553, 1554, 1555, 1556, 1557, 1558, 1559, 1560, 1561, 1562, 1563, 1564, 1565, 1566, 1567, 1568, 1569, 1570, 1571, 1572, 1573, 1574, 1575, 1576, 1577, 1578, 1579, 1580, 1581, 1582, 1583, 1584, 1585, 1586, 1587, 1588, 1589, 1590, 1591, 1592, 1593, 1594, 1595, 1596, 1597, 1598, 1599, 1600, 1601, 1602, 1603, 1604, 1605, 1606, 1607, 1608, 1609, 1610, 1611, 1612, 1613, 1614, 1615, 1616, 1617, 1618, 1619, 1620, 1621, 1622, 1623, 1624, 1625, 1626, 1627, 1628, 1629, 1630, 1631, 1632, 1633, 1634, 1635, 1636, 1637, 1638, 1639, 1640, 1641, 1642, 1643, 1644, 1645, 1646, 1647, 1648, 1649, 1650, 1651, 1652, 1653, 1654, 1655, 1656, 1657, 1658, 1659, 1660, 1661, 1662, 1663, 1664, 1665, 1666, 1667, 1668, 1669, 1670, 1671, 1672, 1673, 1674, 1675, 1676, 1677, 1678, 1679, 1680, 1681, 1682, 1683, 1684, 1685, 1686, 1687, 1688, 1689, 1690, 1691, 1692, 1693, 1694, 1695, 1696, 1697, 1698, 1699, 1700, 1701, 1702, 1703, 1704, 1705, 1706, 1707, 1708, 1709, 1710, 1711, 1712, 1713, 1714, 1715, 1716, 1717, 1718, 1719, 1720, 1721, 1722, 1723, 1724, 1725, 1726, 1727, 1728, 1729, 1730, 1731, 1732, 1733, 1734, 1735, 1736, 1737, 1738, 1739, 1740, 1741, 1742, 1743, 1744, 1745, 1746, 1747, 1748, 1749, 1750, 1751, 1752, 1753, 1754, 1755, 1756, 1757, 1758, 1759, 1760, 1761, 1762, 1763, 1764, 1765, 1766, 1767, 1768, 1769, 1770, 1771, 1772, 1773, 1774, 1775, 1776, 1777, 1778, 1779, 1780, 1781, 1782, 1783, 1784, 1785, 1786, 1787, 1788, 1789, 1790, 1791, 1792, 1793, 1794, 1795, 1796, 1797, 1798, 1799, 1800, 1801, 1802, 1803, 1804, 1805, 1806, 1807, 1808, 1809, 1810, 1811, 1812, 1813, 1814, 1815, 1816, 1817, 1818, 1819, 1820, 1821, 1822, 1823, 1824, 1825, 1826, 1827, 1828, 1829, 1830, 1831, 1832, 1833, 1834, 1835, 1836, 1837, 1838, 1839, 1840, 1841, 1842, 1843, 1844, 1845, 1846, 1847, 1848, 1849, 1850, 1851, 1852, 1853, 1854, 1855, 1856, 1857, 1858, 1859, 1860, 1861, 1862, 1863, 1864, 1865, 1866, 1867, 1868, 1869, 1870, 1871, 1872, 1873, 1874, 1875, 1876, 1877, 1878, 1879, 1880, 1881, 1882, 1883, 1884, 1885, 1886, 1887, 1888, 1889, 1890, 1891, 1892, 1893, 1894, 1895, 1896, 1897, 1898, 1899, 1900, 1901, 1902, 1903, 1904, 1905, 1906, 1907, 1908, 1909, 1910, 1911, 1912, 1913, 1914, 1915, 1916, 1917, 1918, 1919, 1920, 1921, 1922, 1923, 1924, 1925, 1926, 1927, 1928, 1929, 1930, 1931, 1932, 1933, 1934, 1935, 1936, 1937, 1938, 1939, 1940, 1941, 1942, 1943, 1944, 1945, 1946, 1947, 1948, 1949, 1950, 1951, 1952, 1953, 1954, 1955, 1956, 1957, 1958, 1959, 1960, 1961, 1962, 1963, 1964, 1965, 1966, 1967, 1968, 1969, 1970, 1971, 1972, 1973, 1974, 1975, 1976, 1977, 1978, 1979, 1980, 1981, 1982, 1983, 1984, 1985, 1986, 1987, 1988, 1989, 1990, 1991, 1992, 1993, 1994, 1995, 1996, 1997, 1998, 1999, 2000, 2001, 2002, 2003, 2004, 2005, 2006, 2007, 2008, 2009, 2010, 2011, 2012, 2013, 2014, 2015, 2016, 2017, 2018, 2019, 2020, 2021, 2022, 2023, 2024, 2025, 2026, 2027, 2028, 2029, 2030, 2031, 2032, 2033, 2034, 2035, 2036, 2037, 2038, 2039, 2040, 2041, 2042, 2043, 2044, 2045, 2046, 2047, 2048, 2049, 2050, 2051, 2052, 2053, 2054, 2055, 2056, 2057, 2058, 2059, 2060, 2061, 2062, 2063, 2064, 2065, 2066, 2067, 2068, 2069, 2070, 2071, 2072, 2073, 2074, 2075, 2076, 2077, 2078, 2079, 2080, 2081, 2082, 2083, 2084, 2085, 2086, 2087, 2088, 2089, 2090, 2091, 2092, 2093, 2094, 2095, 2096, 2097, 2098, 2099, 2100, 2101, 2102, 2103, 2104, 2105, 2106, 2107, 2108, 2109, 2110, 2111, 2112, 2113, 2114, 2115, 2116, 2117, 2118, 2119, 2120, 2121, 2122, 2123, 2124, 2125, 2126, 2127, 2128, 2129, 2130, 2131, 2132, 2133, 2134, 2135, 2136, 2137, 2138, 2139, 2140, 2141, 2142, 2143, 2144, 2145, 2146, 2147, 2148, 2149, 2150, 2151, 2152, 2153, 2154, 2155, 2156, 2157, 2158, 2159, 2160, 2161, 2162, 2163, 2164, 2165, 2166, 2167, 2168, 2169, 2170, 2171, 2172, 2173, 2174, 2175, 2176, 2177, 2178, 2179, 2180, 2181, 2182, 2183, 2184, 2185, 2186, 2187, 2188, 2189, 2190, 2191, 2192, 2193, 2194, 2195, 2196, 2197, 2198, 2199, 2200, 2201, 2202, 2203, 2204, 2205, 2206, 2207, 2208, 2209, 2210, 2211, 2212, 2213, 2214, 2215, 2216, 2217, 2218, 2219, 2220, 2221, 2222, 2223, 2224, 2225, 2226, 2227, 2228, 2229, 2230, 2231, 2232, 2233, 2234, 2235, 2236, 2237, 2238, 2239, 2240, 2241, 2242, 2243, 2244, 2245, 2246, 2247, 2248, 2249, 2250, 2251, 2252, 2253, 2254, 2255, 2256, 2257, 2258, 2259, 2260, 2261, 2262, 2263, 2264, 2265, 2266, 2267, 2268, 2269, 2270, 2271, 2272, 2273, 2274, 2275, 2276, 2277, 2278, 2279, 2280, 2281, 2282, 2283, 2284, 2285, 2286, 2287, 2288, 2289, 2290, 2291, 2292, 2293, 2294, 2295, 2296, 2297, 2298, 2299, 2300, 2301, 2302, 2303, 2304, 2305, 2306, 2307, 2308, 2309, 2310, 2311, 2312, 2313, 2314, 2315, 2316, 2317, 2318, 2319, 2320, 2321, 2322, 2323, 2324, 2325, 2326, 2327, 2328, 2329, 2330, 2331, 2332, 2333, 2334, 2335, 2336, 2337, 2338, 2339, 2340, 2341, 2342, 2343, 2344, 2345, 2346, 2347, 2348, 2349, 2350, 2351, 2352, 2353, 2354, 2355, 2356, 2357, 2358, 2359, 2360, 2361, 2362, 2363, 2364, 2365, 2366, 2367, 2368, 2369, 2370, 2371, 2372, 2373, 2374, 2375, 2376, 2377, 2378, 2379, 2380, 2381, 2382, 2383, 2384, 2385, 2386, 2387, 2388, 2389, 2390, 2391, 2392, 2393, 2394, 2395, 2396, 2397, 2398, 2399, 2400, 2401, 2402, 2403, 2404, 2405, 2406, 2407, 2408, 2409, 2410, 2411, 2412, 2413, 2414, 2415, 2416, 2417, 2418, 2419, 2420, 2421, 2422, 2423, 2424, 2425, 2426, 2427, 2428, 2429, 2430, 2431, 2432, 2433, 2434, 2435, 2436, 2437, 2438, 2439, 2440, 2441, 2442, 2443, 2444, 2445, 2446, 2447, 2448, 2449, 2450, 2451, 2452, 2453, 2454, 2455, 2456, 2457, 2458, 2459, 2460, 2461, 2462, 2463, 2464, 2465, 2466, 2467, 2468, 2469, 2470, 2471, 2472, 2473, 2474, 2475, 2476, 2477, 2478, 2479, 2480, 2481, 2482, 2483, 2484, 2485, 2486, 2487, 2488, 2489, 2490, 2491, 2492, 2493, 2494, 2495, 2496, 2497, 2498, 2499, 2500, 2501, 2502, 2503, 2504, 2505, 2506, 2507, 2508, 2509, 2510, 2511, 2512, 2513, 2514, 2515, 2516, 2517, 2518, 2519, 2520, 2521, 2522, 2523, 2524, 2525, 2526, 2527, 2528, 2529, 2530, 2531, 2532, 2533, 2534, 2535, 2536, 2537, 2538, 2539, 2540, 2541, 2542, 2543, 2544, 2545, 2546, 2547, 2548, 2549, 2550, 2551, 2552, 2553, 2554, 2555, 2556, 2557, 2558, 2559, 2560, 2561, 2562, 2563, 2564, 2565, 2566, 2567, 2568, 2569, 2570, 2571, 2572, 2573, 2574, 2575, 2576, 2577, 2578, 2579, 2580, 2581, 2582, 2583, 2584, 2585, 2586, 2587, 2588, 2589, 2590, 2591, 2592, 2593, 2594, 2595, 2596, 2597, 2598, 2599, 2600, 2601, 2602, 2603, 2604, 2605, 2606, 2607, 2608, 2609, 2610, 2611, 2612, 2613, 2614, 2615, 2616, 2617, 2618, 2619, 2620, 2621, 2622, 2623, 2624, 2625, 2626, 2627, 2628, 2629, 2630, 2631, 2632, 2633, 2634, 2635, 2636, 2637, 2638, 2639, 2640, 2641, 2642, 2643, 2644, 2645, 2646, 2647, 2648, 2649, 2650, 2651, 2652, 2653, 2654, 2655, 2656, 2657, 2658, 2659, 2660, 2661, 2662, 2663, 2664, 2665, 2666, 2667, 2668, 2669, 2670, 2671, 2672, 2673, 2674, 2675, 2676, 2677, 2678, 2679, 2680, 2681, 2682, 2683, 2684, 2685, 2686, 2687, 2688, 2689, 2690, 2691, 2692, 2693, 2694, 2695, 2696, 2697, 2698, 2699, 2700, 2701, 2702, 2703, 2704, 2705, 2706, 2707, 2708, 2709, 2710, 2711, 2712, 2713, 2714, 2715, 2716, 2717, 2718, 2719, 2720, 2721, 2722, 2723, 2724, 2725, 2726, 2727, 2728, 2729, 2730, 2731, 2732, 2733, 2734, 2735, 2736, 2737, 2738, 2739, 2740, 2741, 2742, 2743, 2744, 2745, 2746, 2747, 2748, 2749, 2750, 2751, 2752, 2753, 2754, 2755, 2756, 2757, 2758, 2759, 2760, 2761, 2762, 2763, 2764, 2765, 2766, 2767, 2768, 2769, 2770, 2771, 2772, 2773, 2774, 2775, 2776, 2777, 2778, 2779, 2780, 2781, 2782, 2783, 2784, 2785, 2786, 2787, 2788, 2789, 2790, 2791, 2792, 2793, 2794, 2795, 2796, 2797, 2798, 2799, 2800, 2801, 2802, 2803, 2804, 2805, 2806, 2807, 2808, 2809, 2810, 2811, 2812, 2813, 2814, 2815, 2816, 2817, 2818, 2819, 2820, 2821, 2822, 2823, 2824, 2825, 2826, 2827, 2828, 2829, 2830, 2831, 2832, 2833, 2834, 2835, 2836, 2837, 2838, 2839, 2840, 2841, 2842, 2843, 2844, 2845, 2846, 2847, 2848, 2849, 2850, 2851, 2852, 2853, 2854, 2855, 2856, 2857, 2858, 2859, 2860, 2861, 2862, 2863, 2864, 2865, 2866, 2867, 2868, 2869, 2870, 2871, 2872, 2873, 2874, 2875, 2876, 2877, 2878, 2879, 2880, 2881, 2882, 2883, 2884, 2885, 2886, 2887, 2888, 2889, 2890, 2891, 2892, 2893, 2894, 2895, 2896, 2897, 2898, 2899, 2900, 2901, 2902, 2903, 2904, 2905, 2906, 2907, 2908, 2909, 2910, 2911, 2912, 2913, 2914, 2915, 2916, 2917, 2918, 2919, 2920, 2921, 2922, 2923, 2924, 2925, 2926, 2927, 2928, 2929, 2930, 2931, 2932, 2933, 2934, 2935, 2936, 2937, 2938, 2939, 2940, 2941, 2942, 2943, 2944, 2945, 2946, 2947, 2948, 2949, 2950, 2951, 2952, 2953, 2954, 2955, 2956, 2957, 2958, 2959, 2960, 2961, 2962, 2963, 2964, 2965, 2966, 2967, 2968, 2969, 2970, 2971, 2972, 2973, 2974, 2975, 2976, 2977, 2978, 2979, 2980, 2981, 2982, 2983, 2984, 2985, 2986, 2987, 2988, 2989, 2990, 2991, 2992, 2993, 2994, 2995, 2996, 2997, 2998, 2999, 3000]\n",
      "False alarms: 829\n",
      "False alarm rate: 82.89999999999999\n",
      "Detection delay: 0\n"
>>>>>>> Stashed changes
     ]
    }
   ],
   "source": [
    "print(f\"Detected drift points: {detected_drifts}\")\n",
    "print(f\"False alarms: {false_alarms}\")\n",
    "print(f\"False alarm rate: {false_alarm_rate}\")\n",
    "print(f\"Average detection delay: {average_detection_delay}\")"
   ]
  },
  {
   "cell_type": "code",
   "execution_count": 47,
   "id": "1f4b9f69-31ad-4404-8a9b-72b8f58e5c77",
   "metadata": {},
   "outputs": [
    {
     "data": {
      "image/png": "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",
      "text/plain": [
       "<Figure size 1400x700 with 1 Axes>"
      ]
     },
     "metadata": {},
     "output_type": "display_data"
    }
   ],
   "source": [
    "# Plotting the error values\n",
    "plt.figure(figsize=(14, 7))\n",
    "plt.plot(range(len(errors)), errors, label=\"MSE Error\", color='purple')\n",
    "plt.xlabel(\"Instance Index\")\n",
    "plt.ylabel(\"Mean Squared Error\")\n",
    "plt.title(\"Behavior of Mean Squared Error Over data points\")\n",
    "plt.legend()\n",
    "plt.grid(True)\n",
    "plt.show()"
   ]
  },
  {
   "cell_type": "code",
<<<<<<< Updated upstream
   "execution_count": 592,
=======
   "execution_count": 48,
>>>>>>> Stashed changes
   "id": "f86ab06c-8358-4c39-86da-c098a8ce0785",
   "metadata": {},
   "outputs": [
    {
     "data": {
<<<<<<< Updated upstream
      "image/png": "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",
=======
      "image/png": "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",
>>>>>>> Stashed changes
      "text/plain": [
       "<Figure size 1200x400 with 1 Axes>"
      ]
     },
     "metadata": {},
     "output_type": "display_data"
    }
   ],
   "source": [
    "# Create binary arrays for drift detection and odp\n",
    "drift_indicator = np.zeros(len(data))\n",
    "for drift_point in detected_drifts:\n",
    "    drift_indicator[drift_point] = 1\n",
    "\n",
    "odp_indicator = np.zeros(len(data))\n",
    "for i in range(odp[0], len(data)):\n",
    "    odp_indicator[i] = 1\n",
    "\n",
    "# Plotting the drift indicator and odp indicator\n",
    "plt.figure(figsize=(12, 4))\n",
    "plt.plot(drift_indicator, label='Detected Drift Indicator', color='red', drawstyle='steps-post')\n",
    "plt.plot(odp_indicator, label='Actual Drift Indicator (ODP)', color='green', linestyle='-', drawstyle='steps-post')\n",
    "plt.xlabel('Index')\n",
    "plt.ylabel('Drift Detection (0 or 1)')\n",
    "plt.title('Drift Detection Indicator')\n",
    "plt.legend()\n",
    "plt.grid(True)\n",
    "\n",
    "# Show the plot\n",
    "plt.show()"
   ]
  },
  {
   "cell_type": "code",
   "execution_count": null,
   "id": "0f6bd783-7433-4fa0-a664-bf76907f1204",
   "metadata": {},
   "outputs": [],
   "source": []
  },
  {
   "cell_type": "code",
   "execution_count": null,
   "id": "ca598e42-70bc-420d-b987-b778981daa51",
   "metadata": {},
   "outputs": [],
   "source": []
  }
 ],
 "metadata": {
  "kernelspec": {
   "display_name": "Python 3 (ipykernel)",
   "language": "python",
   "name": "python3"
  },
  "language_info": {
   "codemirror_mode": {
    "name": "ipython",
    "version": 3
   },
   "file_extension": ".py",
   "mimetype": "text/x-python",
   "name": "python",
   "nbconvert_exporter": "python",
   "pygments_lexer": "ipython3",
   "version": "3.12.3"
  }
 },
 "nbformat": 4,
 "nbformat_minor": 5
}
